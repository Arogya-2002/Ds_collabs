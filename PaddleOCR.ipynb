{
 "cells": [
  {
   "cell_type": "code",
   "execution_count": 2,
   "id": "57a4854d-a462-40bd-a6b0-8b18a68dfdcc",
   "metadata": {},
   "outputs": [
    {
     "ename": "ModuleNotFoundError",
     "evalue": "No module named 'paddle'",
     "output_type": "error",
     "traceback": [
      "\u001b[1;31m---------------------------------------------------------------------------\u001b[0m",
      "\u001b[1;31mModuleNotFoundError\u001b[0m                       Traceback (most recent call last)",
      "Cell \u001b[1;32mIn[2], line 1\u001b[0m\n\u001b[1;32m----> 1\u001b[0m \u001b[38;5;28;01mimport\u001b[39;00m \u001b[38;5;21;01mpaddle\u001b[39;00m\n\u001b[0;32m      2\u001b[0m paddle\u001b[38;5;241m.\u001b[39mutils\u001b[38;5;241m.\u001b[39mrun_check()\n",
      "\u001b[1;31mModuleNotFoundError\u001b[0m: No module named 'paddle'"
     ]
    }
   ],
   "source": [
    "import paddle\n",
    "paddle.utils.run_check()\n"
   ]
  },
  {
   "cell_type": "code",
   "execution_count": 6,
   "id": "7db1f223-5b88-4618-9e74-334a53f88665",
   "metadata": {},
   "outputs": [
    {
     "name": "stdout",
     "output_type": "stream",
     "text": [
      "Looking in indexes: https://pypi.tuna.tsinghua.edu.cn/simple\n",
      "Collecting paddlepaddle==2.6.1\n",
      "  Downloading https://pypi.tuna.tsinghua.edu.cn/packages/d7/05/29b1b37914694ee3fb295938b327b7dbee6de0402796a6e9c571705520b5/paddlepaddle-2.6.1-cp312-cp312-win_amd64.whl (81.1 MB)\n",
      "     ---------------------------------------- 0.0/81.1 MB ? eta -:--:--\n",
      "     ---------------------------------------- 0.0/81.1 MB ? eta -:--:--\n",
      "     ---------------------------------------- 0.3/81.1 MB ? eta -:--:--\n",
      "     --------------------------------------- 0.5/81.1 MB 985.5 kB/s eta 0:01:22\n",
      "     --------------------------------------- 0.5/81.1 MB 985.5 kB/s eta 0:01:22\n",
      "     ---------------------------------------- 0.8/81.1 MB 1.0 MB/s eta 0:01:19\n",
      "      -------------------------------------- 1.0/81.1 MB 867.1 kB/s eta 0:01:33\n",
      "      -------------------------------------- 1.0/81.1 MB 867.1 kB/s eta 0:01:33\n",
      "      -------------------------------------- 1.3/81.1 MB 798.6 kB/s eta 0:01:40\n",
      "      -------------------------------------- 1.3/81.1 MB 798.6 kB/s eta 0:01:40\n",
      "      -------------------------------------- 1.3/81.1 MB 798.6 kB/s eta 0:01:40\n",
      "      -------------------------------------- 1.8/81.1 MB 845.6 kB/s eta 0:01:34\n",
      "     - ------------------------------------- 2.1/81.1 MB 889.5 kB/s eta 0:01:29\n",
      "     - ------------------------------------- 2.1/81.1 MB 889.5 kB/s eta 0:01:29\n",
      "     - ------------------------------------- 2.4/81.1 MB 849.4 kB/s eta 0:01:33\n",
      "     - ------------------------------------- 2.6/81.1 MB 909.5 kB/s eta 0:01:27\n",
      "     - ------------------------------------- 3.1/81.1 MB 986.9 kB/s eta 0:01:19\n",
      "     - -------------------------------------- 3.4/81.1 MB 1.0 MB/s eta 0:01:16\n",
      "     - -------------------------------------- 3.7/81.1 MB 1.0 MB/s eta 0:01:15\n",
      "     - -------------------------------------- 3.9/81.1 MB 1.1 MB/s eta 0:01:13\n",
      "     -- ------------------------------------- 4.5/81.1 MB 1.1 MB/s eta 0:01:08\n",
      "     -- ------------------------------------- 5.0/81.1 MB 1.2 MB/s eta 0:01:04\n",
      "     -- ------------------------------------- 5.2/81.1 MB 1.2 MB/s eta 0:01:04\n",
      "     -- ------------------------------------- 5.2/81.1 MB 1.2 MB/s eta 0:01:04\n",
      "     -- ------------------------------------- 5.2/81.1 MB 1.2 MB/s eta 0:01:04\n",
      "     --- ------------------------------------ 6.3/81.1 MB 1.3 MB/s eta 0:01:00\n",
      "     --- ------------------------------------ 6.6/81.1 MB 1.3 MB/s eta 0:01:00\n",
      "     --- ------------------------------------ 7.1/81.1 MB 1.3 MB/s eta 0:00:57\n",
      "     --- ------------------------------------ 7.6/81.1 MB 1.4 MB/s eta 0:00:55\n",
      "     --- ------------------------------------ 7.9/81.1 MB 1.3 MB/s eta 0:00:55\n",
      "     ---- ----------------------------------- 8.4/81.1 MB 1.4 MB/s eta 0:00:51\n",
      "     ---- ----------------------------------- 8.7/81.1 MB 1.4 MB/s eta 0:00:53\n",
      "     ---- ----------------------------------- 9.2/81.1 MB 1.4 MB/s eta 0:00:51\n",
      "     ---- ----------------------------------- 9.4/81.1 MB 1.4 MB/s eta 0:00:51\n",
      "     ----- ---------------------------------- 10.2/81.1 MB 1.5 MB/s eta 0:00:48\n",
      "     ----- ---------------------------------- 10.5/81.1 MB 1.5 MB/s eta 0:00:48\n",
      "     ----- ---------------------------------- 11.0/81.1 MB 1.5 MB/s eta 0:00:46\n",
      "     ----- ---------------------------------- 11.5/81.1 MB 1.6 MB/s eta 0:00:45\n",
      "     ----- ---------------------------------- 12.1/81.1 MB 1.6 MB/s eta 0:00:44\n",
      "     ------ --------------------------------- 12.6/81.1 MB 1.6 MB/s eta 0:00:43\n",
      "     ------ --------------------------------- 12.8/81.1 MB 1.6 MB/s eta 0:00:43\n",
      "     ------ --------------------------------- 13.4/81.1 MB 1.6 MB/s eta 0:00:42\n",
      "     ------ --------------------------------- 13.9/81.1 MB 1.6 MB/s eta 0:00:42\n",
      "     ------- -------------------------------- 14.7/81.1 MB 1.7 MB/s eta 0:00:40\n",
      "     ------- -------------------------------- 15.2/81.1 MB 1.7 MB/s eta 0:00:39\n",
      "     ------- -------------------------------- 15.5/81.1 MB 1.7 MB/s eta 0:00:39\n",
      "     -------- ------------------------------- 16.3/81.1 MB 1.7 MB/s eta 0:00:38\n",
      "     -------- ------------------------------- 16.5/81.1 MB 1.8 MB/s eta 0:00:37\n",
      "     -------- ------------------------------- 17.6/81.1 MB 1.8 MB/s eta 0:00:36\n",
      "     -------- ------------------------------- 17.8/81.1 MB 1.8 MB/s eta 0:00:36\n",
      "     --------- ------------------------------ 18.4/81.1 MB 1.8 MB/s eta 0:00:35\n",
      "     --------- ------------------------------ 19.1/81.1 MB 1.9 MB/s eta 0:00:34\n",
      "     --------- ------------------------------ 19.7/81.1 MB 1.9 MB/s eta 0:00:33\n",
      "     ---------- ----------------------------- 20.7/81.1 MB 1.9 MB/s eta 0:00:32\n",
      "     ---------- ----------------------------- 21.2/81.1 MB 2.0 MB/s eta 0:00:31\n",
      "     ---------- ----------------------------- 22.0/81.1 MB 2.0 MB/s eta 0:00:30\n",
      "     ----------- ---------------------------- 22.5/81.1 MB 2.0 MB/s eta 0:00:30\n",
      "     ----------- ---------------------------- 23.1/81.1 MB 2.0 MB/s eta 0:00:29\n",
      "     ----------- ---------------------------- 23.9/81.1 MB 2.0 MB/s eta 0:00:29\n",
      "     ------------ --------------------------- 24.9/81.1 MB 2.1 MB/s eta 0:00:28\n",
      "     ------------ --------------------------- 24.9/81.1 MB 2.1 MB/s eta 0:00:28\n",
      "     ------------ --------------------------- 25.7/81.1 MB 2.1 MB/s eta 0:00:27\n",
      "     ------------- -------------------------- 26.7/81.1 MB 2.1 MB/s eta 0:00:26\n",
      "     ------------- -------------------------- 28.0/81.1 MB 2.2 MB/s eta 0:00:24\n",
      "     -------------- ------------------------- 29.4/81.1 MB 2.3 MB/s eta 0:00:23\n",
      "     --------------- ------------------------ 30.4/81.1 MB 2.3 MB/s eta 0:00:22\n",
      "     --------------- ------------------------ 31.2/81.1 MB 2.3 MB/s eta 0:00:22\n",
      "     --------------- ------------------------ 32.2/81.1 MB 2.4 MB/s eta 0:00:21\n",
      "     --------------- ------------------------ 32.2/81.1 MB 2.4 MB/s eta 0:00:21\n",
      "     ---------------- ----------------------- 34.3/81.1 MB 2.5 MB/s eta 0:00:19\n",
      "     ---------------- ----------------------- 34.3/81.1 MB 2.5 MB/s eta 0:00:19\n",
      "     ----------------- ---------------------- 35.9/81.1 MB 2.5 MB/s eta 0:00:19\n",
      "     ----------------- ---------------------- 36.2/81.1 MB 2.5 MB/s eta 0:00:18\n",
      "     ------------------ --------------------- 36.7/81.1 MB 2.5 MB/s eta 0:00:18\n",
      "     ------------------ --------------------- 38.3/81.1 MB 2.5 MB/s eta 0:00:17\n",
      "     ------------------- -------------------- 38.8/81.1 MB 2.6 MB/s eta 0:00:17\n",
      "     ------------------- -------------------- 39.1/81.1 MB 2.6 MB/s eta 0:00:17\n",
      "     ------------------- -------------------- 40.4/81.1 MB 2.6 MB/s eta 0:00:16\n",
      "     -------------------- ------------------- 41.7/81.1 MB 2.6 MB/s eta 0:00:15\n",
      "     --------------------- ------------------ 42.7/81.1 MB 2.7 MB/s eta 0:00:15\n",
      "     --------------------- ------------------ 43.3/81.1 MB 2.7 MB/s eta 0:00:15\n",
      "     --------------------- ------------------ 44.6/81.1 MB 2.7 MB/s eta 0:00:14\n",
      "     ---------------------- ----------------- 45.4/81.1 MB 2.7 MB/s eta 0:00:14\n",
      "     ---------------------- ----------------- 46.4/81.1 MB 2.8 MB/s eta 0:00:13\n",
      "     ----------------------- ---------------- 48.2/81.1 MB 2.8 MB/s eta 0:00:12\n",
      "     ----------------------- ---------------- 48.5/81.1 MB 2.8 MB/s eta 0:00:12\n",
      "     ------------------------ --------------- 50.3/81.1 MB 2.9 MB/s eta 0:00:11\n",
      "     ------------------------- -------------- 51.4/81.1 MB 2.9 MB/s eta 0:00:11\n",
      "     -------------------------- ------------- 52.7/81.1 MB 2.9 MB/s eta 0:00:10\n",
      "     -------------------------- ------------- 52.7/81.1 MB 2.9 MB/s eta 0:00:10\n",
      "     -------------------------- ------------- 53.2/81.1 MB 2.9 MB/s eta 0:00:10\n",
      "     -------------------------- ------------- 54.5/81.1 MB 2.9 MB/s eta 0:00:10\n",
      "     --------------------------- ------------ 55.6/81.1 MB 3.0 MB/s eta 0:00:09\n",
      "     --------------------------- ------------ 56.1/81.1 MB 3.0 MB/s eta 0:00:09\n",
      "     ---------------------------- ----------- 58.5/81.1 MB 3.1 MB/s eta 0:00:08\n",
      "     ----------------------------- ---------- 59.5/81.1 MB 3.1 MB/s eta 0:00:07\n",
      "     ------------------------------ --------- 61.1/81.1 MB 3.1 MB/s eta 0:00:07\n",
      "     ------------------------------ --------- 61.3/81.1 MB 3.1 MB/s eta 0:00:07\n",
      "     ------------------------------- -------- 63.4/81.1 MB 3.2 MB/s eta 0:00:06\n",
      "     ------------------------------- -------- 64.5/81.1 MB 3.2 MB/s eta 0:00:06\n",
      "     -------------------------------- ------- 66.6/81.1 MB 3.3 MB/s eta 0:00:05\n",
      "     -------------------------------- ------- 66.6/81.1 MB 3.3 MB/s eta 0:00:05\n",
      "     --------------------------------- ------ 67.1/81.1 MB 3.2 MB/s eta 0:00:05\n",
      "     ---------------------------------- ----- 69.5/81.1 MB 3.3 MB/s eta 0:00:04\n",
      "     ----------------------------------- ---- 71.0/81.1 MB 3.4 MB/s eta 0:00:03\n",
      "     ------------------------------------ --- 73.1/81.1 MB 3.4 MB/s eta 0:00:03\n",
      "     ------------------------------------ --- 73.9/81.1 MB 3.4 MB/s eta 0:00:03\n",
      "     ------------------------------------- -- 76.0/81.1 MB 3.5 MB/s eta 0:00:02\n",
      "     -------------------------------------- - 77.1/81.1 MB 3.5 MB/s eta 0:00:02\n",
      "     -------------------------------------- - 77.6/81.1 MB 3.5 MB/s eta 0:00:01\n",
      "     -------------------------------------- - 78.9/81.1 MB 3.5 MB/s eta 0:00:01\n",
      "     ---------------------------------------  80.7/81.1 MB 3.6 MB/s eta 0:00:01\n",
      "     ---------------------------------------  81.0/81.1 MB 3.6 MB/s eta 0:00:01\n",
      "     ---------------------------------------- 81.1/81.1 MB 3.5 MB/s eta 0:00:00\n",
      "Requirement already satisfied: httpx in c:\\users\\sespl\\anaconda3\\lib\\site-packages (from paddlepaddle==2.6.1) (0.27.0)\n",
      "Requirement already satisfied: numpy>=1.13 in c:\\users\\sespl\\anaconda3\\lib\\site-packages (from paddlepaddle==2.6.1) (1.26.4)\n",
      "Requirement already satisfied: Pillow in c:\\users\\sespl\\anaconda3\\lib\\site-packages (from paddlepaddle==2.6.1) (10.4.0)\n",
      "Requirement already satisfied: decorator in c:\\users\\sespl\\anaconda3\\lib\\site-packages (from paddlepaddle==2.6.1) (5.1.1)\n",
      "Collecting astor (from paddlepaddle==2.6.1)\n",
      "  Downloading https://pypi.tuna.tsinghua.edu.cn/packages/c3/88/97eef84f48fa04fbd6750e62dcceafba6c63c81b7ac1420856c8dcc0a3f9/astor-0.8.1-py2.py3-none-any.whl (27 kB)\n",
      "Collecting opt-einsum==3.3.0 (from paddlepaddle==2.6.1)\n",
      "  Downloading https://pypi.tuna.tsinghua.edu.cn/packages/bc/19/404708a7e54ad2798907210462fd950c3442ea51acc8790f3da48d2bee8b/opt_einsum-3.3.0-py3-none-any.whl (65 kB)\n",
      "Collecting protobuf<=3.20.2,>=3.1.0 (from paddlepaddle==2.6.1)\n",
      "  Downloading https://pypi.tuna.tsinghua.edu.cn/packages/8b/e6/2a47ce2eba1aaf287380a44270da897ada03d118a55c19595ec7b4f0831f/protobuf-3.20.2-py2.py3-none-any.whl (162 kB)\n",
      "Requirement already satisfied: anyio in c:\\users\\sespl\\anaconda3\\lib\\site-packages (from httpx->paddlepaddle==2.6.1) (4.2.0)\n",
      "Requirement already satisfied: certifi in c:\\users\\sespl\\anaconda3\\lib\\site-packages (from httpx->paddlepaddle==2.6.1) (2024.8.30)\n",
      "Requirement already satisfied: httpcore==1.* in c:\\users\\sespl\\anaconda3\\lib\\site-packages (from httpx->paddlepaddle==2.6.1) (1.0.2)\n",
      "Requirement already satisfied: idna in c:\\users\\sespl\\anaconda3\\lib\\site-packages (from httpx->paddlepaddle==2.6.1) (3.7)\n",
      "Requirement already satisfied: sniffio in c:\\users\\sespl\\anaconda3\\lib\\site-packages (from httpx->paddlepaddle==2.6.1) (1.3.0)\n",
      "Requirement already satisfied: h11<0.15,>=0.13 in c:\\users\\sespl\\anaconda3\\lib\\site-packages (from httpcore==1.*->httpx->paddlepaddle==2.6.1) (0.14.0)\n",
      "Installing collected packages: protobuf, opt-einsum, astor, paddlepaddle\n",
      "  Attempting uninstall: protobuf\n",
      "    Found existing installation: protobuf 4.25.3\n",
      "    Uninstalling protobuf-4.25.3:\n",
      "      Successfully uninstalled protobuf-4.25.3\n",
      "  Attempting uninstall: opt-einsum\n",
      "    Found existing installation: opt_einsum 3.4.0\n",
      "    Uninstalling opt_einsum-3.4.0:\n",
      "      Successfully uninstalled opt_einsum-3.4.0\n",
      "Successfully installed astor-0.8.1 opt-einsum-3.3.0 paddlepaddle-2.6.1 protobuf-3.20.2\n"
     ]
    },
    {
     "name": "stderr",
     "output_type": "stream",
     "text": [
      "ERROR: pip's dependency resolver does not currently take into account all the packages that are installed. This behaviour is the source of the following dependency conflicts.\n",
      "tensorflow-intel 2.18.0 requires protobuf!=4.21.0,!=4.21.1,!=4.21.2,!=4.21.3,!=4.21.4,!=4.21.5,<6.0.0dev,>=3.20.3, but you have protobuf 3.20.2 which is incompatible.\n"
     ]
    }
   ],
   "source": [
    "!python -m pip install paddlepaddle==2.6.1 -i https://pypi.tuna.tsinghua.edu.cn/simple\n"
   ]
  },
  {
   "cell_type": "code",
   "execution_count": 8,
   "id": "559b60f5-3dd9-458a-868f-fe2bbd12e109",
   "metadata": {},
   "outputs": [
    {
     "name": "stdout",
     "output_type": "stream",
     "text": [
      "Requirement already satisfied: protobuf in c:\\users\\sespl\\anaconda3\\lib\\site-packages (3.20.2)\n",
      "Collecting protobuf\n",
      "  Downloading protobuf-5.28.3-cp310-abi3-win_amd64.whl.metadata (592 bytes)\n",
      "Downloading protobuf-5.28.3-cp310-abi3-win_amd64.whl (431 kB)\n",
      "Installing collected packages: protobuf\n",
      "  Attempting uninstall: protobuf\n",
      "    Found existing installation: protobuf 3.20.2\n",
      "    Uninstalling protobuf-3.20.2:\n",
      "      Successfully uninstalled protobuf-3.20.2\n",
      "Successfully installed protobuf-5.28.3\n"
     ]
    },
    {
     "name": "stderr",
     "output_type": "stream",
     "text": [
      "ERROR: pip's dependency resolver does not currently take into account all the packages that are installed. This behaviour is the source of the following dependency conflicts.\n",
      "paddlepaddle 2.6.1 requires protobuf<=3.20.2,>=3.1.0; platform_system == \"Windows\", but you have protobuf 5.28.3 which is incompatible.\n"
     ]
    }
   ],
   "source": [
    "!pip install --upgrade protobuf"
   ]
  },
  {
   "cell_type": "code",
   "execution_count": 10,
   "id": "0d999fa8-e8f2-4981-bd95-b93fc5dbfde2",
   "metadata": {},
   "outputs": [
    {
     "name": "stdout",
     "output_type": "stream",
     "text": [
      "Collecting protobuf==3.20.3\n",
      "  Downloading protobuf-3.20.3-py2.py3-none-any.whl.metadata (720 bytes)\n",
      "Downloading protobuf-3.20.3-py2.py3-none-any.whl (162 kB)\n",
      "Installing collected packages: protobuf\n",
      "  Attempting uninstall: protobuf\n",
      "    Found existing installation: protobuf 5.28.3\n",
      "    Uninstalling protobuf-5.28.3:\n",
      "      Successfully uninstalled protobuf-5.28.3\n",
      "Successfully installed protobuf-3.20.3\n"
     ]
    },
    {
     "name": "stderr",
     "output_type": "stream",
     "text": [
      "ERROR: pip's dependency resolver does not currently take into account all the packages that are installed. This behaviour is the source of the following dependency conflicts.\n",
      "paddlepaddle 2.6.1 requires protobuf<=3.20.2,>=3.1.0; platform_system == \"Windows\", but you have protobuf 3.20.3 which is incompatible.\n"
     ]
    }
   ],
   "source": [
    "!pip install protobuf==3.20.3"
   ]
  },
  {
   "cell_type": "code",
   "execution_count": 12,
   "id": "f5546056-fc15-48ea-a90d-a62388c7e377",
   "metadata": {},
   "outputs": [
    {
     "name": "stdout",
     "output_type": "stream",
     "text": [
      "Collecting protobuf==3.1.0\n",
      "  Downloading protobuf-3.1.0-py2.py3-none-any.whl.metadata (761 bytes)\n",
      "Requirement already satisfied: six>=1.9 in c:\\users\\sespl\\anaconda3\\lib\\site-packages (from protobuf==3.1.0) (1.16.0)\n",
      "Requirement already satisfied: setuptools in c:\\users\\sespl\\anaconda3\\lib\\site-packages (from protobuf==3.1.0) (75.5.0)\n",
      "Downloading protobuf-3.1.0-py2.py3-none-any.whl (339 kB)\n",
      "Installing collected packages: protobuf\n",
      "  Attempting uninstall: protobuf\n",
      "    Found existing installation: protobuf 3.20.3\n",
      "    Uninstalling protobuf-3.20.3:\n",
      "      Successfully uninstalled protobuf-3.20.3\n",
      "Successfully installed protobuf-3.1.0\n"
     ]
    },
    {
     "name": "stderr",
     "output_type": "stream",
     "text": [
      "ERROR: pip's dependency resolver does not currently take into account all the packages that are installed. This behaviour is the source of the following dependency conflicts.\n",
      "streamlit 1.37.1 requires protobuf<6,>=3.20, but you have protobuf 3.1.0 which is incompatible.\n",
      "tb-nightly 2.19.0a20241118 requires protobuf!=4.24.0,>=3.19.6, but you have protobuf 3.1.0 which is incompatible.\n",
      "tensorboard 2.18.0 requires protobuf!=4.24.0,>=3.19.6, but you have protobuf 3.1.0 which is incompatible.\n",
      "tensorflow-intel 2.18.0 requires protobuf!=4.21.0,!=4.21.1,!=4.21.2,!=4.21.3,!=4.21.4,!=4.21.5,<6.0.0dev,>=3.20.3, but you have protobuf 3.1.0 which is incompatible.\n"
     ]
    }
   ],
   "source": [
    "!pip install protobuf==3.1.0"
   ]
  },
  {
   "cell_type": "code",
   "execution_count": 14,
   "id": "120da4e2-3193-4d6f-ada1-14ba1fc8b0e5",
   "metadata": {},
   "outputs": [
    {
     "name": "stdout",
     "output_type": "stream",
     "text": [
      "Collecting protobuf==4.21.0\n",
      "  Downloading protobuf-4.21.0-cp310-abi3-win_amd64.whl.metadata (62 bytes)\n",
      "Downloading protobuf-4.21.0-cp310-abi3-win_amd64.whl (524 kB)\n",
      "   ---------------------------------------- 0.0/524.8 kB ? eta -:--:--\n",
      "   ---------------------------------------- 524.8/524.8 kB 3.4 MB/s eta 0:00:00\n",
      "Installing collected packages: protobuf\n",
      "  Attempting uninstall: protobuf\n",
      "    Found existing installation: protobuf 3.1.0\n",
      "    Uninstalling protobuf-3.1.0:\n",
      "      Successfully uninstalled protobuf-3.1.0\n",
      "Successfully installed protobuf-4.21.0\n"
     ]
    },
    {
     "name": "stderr",
     "output_type": "stream",
     "text": [
      "WARNING: The candidate selected for download or install is a yanked version: 'protobuf' candidate (version 4.21.0 at https://files.pythonhosted.org/packages/c5/54/23262ba768d9038d14b84679f9c2c51e93f7f47df181e64e4ffcb12ba7da/protobuf-4.21.0-cp310-abi3-win_amd64.whl (from https://pypi.org/simple/protobuf/))\n",
      "Reason for being yanked: Required python version not configured correctly (https://github.com/protocolbuffers/protobuf/issues/10076)\n",
      "ERROR: pip's dependency resolver does not currently take into account all the packages that are installed. This behaviour is the source of the following dependency conflicts.\n",
      "paddlepaddle 2.6.1 requires protobuf<=3.20.2,>=3.1.0; platform_system == \"Windows\", but you have protobuf 4.21.0 which is incompatible.\n",
      "tensorflow-intel 2.18.0 requires protobuf!=4.21.0,!=4.21.1,!=4.21.2,!=4.21.3,!=4.21.4,!=4.21.5,<6.0.0dev,>=3.20.3, but you have protobuf 4.21.0 which is incompatible.\n"
     ]
    }
   ],
   "source": [
    "!pip install protobuf==4.21.0"
   ]
  },
  {
   "cell_type": "code",
   "execution_count": 16,
   "id": "ed48cec6-dd05-45d6-87ec-c67cd77d6987",
   "metadata": {},
   "outputs": [
    {
     "name": "stdout",
     "output_type": "stream",
     "text": [
      "Requirement already satisfied: tensorflow-intel in c:\\users\\sespl\\anaconda3\\lib\\site-packages (2.18.0)\n",
      "Requirement already satisfied: absl-py>=1.0.0 in c:\\users\\sespl\\anaconda3\\lib\\site-packages (from tensorflow-intel) (2.1.0)\n",
      "Requirement already satisfied: astunparse>=1.6.0 in c:\\users\\sespl\\anaconda3\\lib\\site-packages (from tensorflow-intel) (1.6.3)\n",
      "Requirement already satisfied: flatbuffers>=24.3.25 in c:\\users\\sespl\\anaconda3\\lib\\site-packages (from tensorflow-intel) (24.3.25)\n",
      "Requirement already satisfied: gast!=0.5.0,!=0.5.1,!=0.5.2,>=0.2.1 in c:\\users\\sespl\\anaconda3\\lib\\site-packages (from tensorflow-intel) (0.6.0)\n",
      "Requirement already satisfied: google-pasta>=0.1.1 in c:\\users\\sespl\\anaconda3\\lib\\site-packages (from tensorflow-intel) (0.2.0)\n",
      "Requirement already satisfied: libclang>=13.0.0 in c:\\users\\sespl\\anaconda3\\lib\\site-packages (from tensorflow-intel) (18.1.1)\n",
      "Requirement already satisfied: opt-einsum>=2.3.2 in c:\\users\\sespl\\anaconda3\\lib\\site-packages (from tensorflow-intel) (3.3.0)\n",
      "Requirement already satisfied: packaging in c:\\users\\sespl\\anaconda3\\lib\\site-packages (from tensorflow-intel) (24.1)\n",
      "Collecting protobuf!=4.21.0,!=4.21.1,!=4.21.2,!=4.21.3,!=4.21.4,!=4.21.5,<6.0.0dev,>=3.20.3 (from tensorflow-intel)\n",
      "  Using cached protobuf-5.28.3-cp310-abi3-win_amd64.whl.metadata (592 bytes)\n",
      "Requirement already satisfied: requests<3,>=2.21.0 in c:\\users\\sespl\\anaconda3\\lib\\site-packages (from tensorflow-intel) (2.32.3)\n",
      "Requirement already satisfied: setuptools in c:\\users\\sespl\\anaconda3\\lib\\site-packages (from tensorflow-intel) (75.5.0)\n",
      "Requirement already satisfied: six>=1.12.0 in c:\\users\\sespl\\anaconda3\\lib\\site-packages (from tensorflow-intel) (1.16.0)\n",
      "Requirement already satisfied: termcolor>=1.1.0 in c:\\users\\sespl\\anaconda3\\lib\\site-packages (from tensorflow-intel) (2.5.0)\n",
      "Requirement already satisfied: typing-extensions>=3.6.6 in c:\\users\\sespl\\anaconda3\\lib\\site-packages (from tensorflow-intel) (4.11.0)\n",
      "Requirement already satisfied: wrapt>=1.11.0 in c:\\users\\sespl\\anaconda3\\lib\\site-packages (from tensorflow-intel) (1.14.1)\n",
      "Requirement already satisfied: grpcio<2.0,>=1.24.3 in c:\\users\\sespl\\anaconda3\\lib\\site-packages (from tensorflow-intel) (1.68.0)\n",
      "Requirement already satisfied: tensorboard<2.19,>=2.18 in c:\\users\\sespl\\anaconda3\\lib\\site-packages (from tensorflow-intel) (2.18.0)\n",
      "Requirement already satisfied: keras>=3.5.0 in c:\\users\\sespl\\anaconda3\\lib\\site-packages (from tensorflow-intel) (3.6.0)\n",
      "Requirement already satisfied: numpy<2.1.0,>=1.26.0 in c:\\users\\sespl\\anaconda3\\lib\\site-packages (from tensorflow-intel) (1.26.4)\n",
      "Requirement already satisfied: h5py>=3.11.0 in c:\\users\\sespl\\anaconda3\\lib\\site-packages (from tensorflow-intel) (3.11.0)\n",
      "Requirement already satisfied: ml-dtypes<0.5.0,>=0.4.0 in c:\\users\\sespl\\anaconda3\\lib\\site-packages (from tensorflow-intel) (0.4.1)\n",
      "Requirement already satisfied: wheel<1.0,>=0.23.0 in c:\\users\\sespl\\anaconda3\\lib\\site-packages (from astunparse>=1.6.0->tensorflow-intel) (0.45.0)\n",
      "Requirement already satisfied: rich in c:\\users\\sespl\\anaconda3\\lib\\site-packages (from keras>=3.5.0->tensorflow-intel) (13.7.1)\n",
      "Requirement already satisfied: namex in c:\\users\\sespl\\anaconda3\\lib\\site-packages (from keras>=3.5.0->tensorflow-intel) (0.0.8)\n",
      "Requirement already satisfied: optree in c:\\users\\sespl\\anaconda3\\lib\\site-packages (from keras>=3.5.0->tensorflow-intel) (0.13.1)\n",
      "Requirement already satisfied: charset-normalizer<4,>=2 in c:\\users\\sespl\\anaconda3\\lib\\site-packages (from requests<3,>=2.21.0->tensorflow-intel) (3.3.2)\n",
      "Requirement already satisfied: idna<4,>=2.5 in c:\\users\\sespl\\anaconda3\\lib\\site-packages (from requests<3,>=2.21.0->tensorflow-intel) (3.7)\n",
      "Requirement already satisfied: urllib3<3,>=1.21.1 in c:\\users\\sespl\\anaconda3\\lib\\site-packages (from requests<3,>=2.21.0->tensorflow-intel) (2.2.3)\n",
      "Requirement already satisfied: certifi>=2017.4.17 in c:\\users\\sespl\\anaconda3\\lib\\site-packages (from requests<3,>=2.21.0->tensorflow-intel) (2024.8.30)\n",
      "Requirement already satisfied: markdown>=2.6.8 in c:\\users\\sespl\\anaconda3\\lib\\site-packages (from tensorboard<2.19,>=2.18->tensorflow-intel) (3.4.1)\n",
      "Requirement already satisfied: tensorboard-data-server<0.8.0,>=0.7.0 in c:\\users\\sespl\\anaconda3\\lib\\site-packages (from tensorboard<2.19,>=2.18->tensorflow-intel) (0.7.2)\n",
      "Requirement already satisfied: werkzeug>=1.0.1 in c:\\users\\sespl\\anaconda3\\lib\\site-packages (from tensorboard<2.19,>=2.18->tensorflow-intel) (3.0.3)\n",
      "Requirement already satisfied: MarkupSafe>=2.1.1 in c:\\users\\sespl\\anaconda3\\lib\\site-packages (from werkzeug>=1.0.1->tensorboard<2.19,>=2.18->tensorflow-intel) (2.1.3)\n",
      "Requirement already satisfied: markdown-it-py>=2.2.0 in c:\\users\\sespl\\anaconda3\\lib\\site-packages (from rich->keras>=3.5.0->tensorflow-intel) (2.2.0)\n",
      "Requirement already satisfied: pygments<3.0.0,>=2.13.0 in c:\\users\\sespl\\anaconda3\\lib\\site-packages (from rich->keras>=3.5.0->tensorflow-intel) (2.15.1)\n",
      "Requirement already satisfied: mdurl~=0.1 in c:\\users\\sespl\\anaconda3\\lib\\site-packages (from markdown-it-py>=2.2.0->rich->keras>=3.5.0->tensorflow-intel) (0.1.0)\n",
      "Using cached protobuf-5.28.3-cp310-abi3-win_amd64.whl (431 kB)\n",
      "Installing collected packages: protobuf\n",
      "  Attempting uninstall: protobuf\n",
      "    Found existing installation: protobuf 4.21.0\n",
      "    Uninstalling protobuf-4.21.0:\n",
      "      Successfully uninstalled protobuf-4.21.0\n",
      "Successfully installed protobuf-5.28.3\n",
      "Note: you may need to restart the kernel to use updated packages.\n"
     ]
    },
    {
     "name": "stderr",
     "output_type": "stream",
     "text": [
      "ERROR: pip's dependency resolver does not currently take into account all the packages that are installed. This behaviour is the source of the following dependency conflicts.\n",
      "paddlepaddle 2.6.1 requires protobuf<=3.20.2,>=3.1.0; platform_system == \"Windows\", but you have protobuf 5.28.3 which is incompatible.\n"
     ]
    }
   ],
   "source": [
    "pip install --upgrade tensorflow-intel\n"
   ]
  },
  {
   "cell_type": "code",
   "execution_count": 18,
   "id": "0992ddcc-447d-44f1-8e43-15e601648089",
   "metadata": {},
   "outputs": [
    {
     "name": "stdout",
     "output_type": "stream",
     "text": [
      "Requirement already satisfied: tensorflow-intel in c:\\users\\sespl\\anaconda3\\lib\\site-packages (2.18.0)\n",
      "Requirement already satisfied: protobuf in c:\\users\\sespl\\anaconda3\\lib\\site-packages (5.28.3)\n",
      "Requirement already satisfied: absl-py>=1.0.0 in c:\\users\\sespl\\anaconda3\\lib\\site-packages (from tensorflow-intel) (2.1.0)\n",
      "Requirement already satisfied: astunparse>=1.6.0 in c:\\users\\sespl\\anaconda3\\lib\\site-packages (from tensorflow-intel) (1.6.3)\n",
      "Requirement already satisfied: flatbuffers>=24.3.25 in c:\\users\\sespl\\anaconda3\\lib\\site-packages (from tensorflow-intel) (24.3.25)\n",
      "Requirement already satisfied: gast!=0.5.0,!=0.5.1,!=0.5.2,>=0.2.1 in c:\\users\\sespl\\anaconda3\\lib\\site-packages (from tensorflow-intel) (0.6.0)\n",
      "Requirement already satisfied: google-pasta>=0.1.1 in c:\\users\\sespl\\anaconda3\\lib\\site-packages (from tensorflow-intel) (0.2.0)\n",
      "Requirement already satisfied: libclang>=13.0.0 in c:\\users\\sespl\\anaconda3\\lib\\site-packages (from tensorflow-intel) (18.1.1)\n",
      "Requirement already satisfied: opt-einsum>=2.3.2 in c:\\users\\sespl\\anaconda3\\lib\\site-packages (from tensorflow-intel) (3.3.0)\n",
      "Requirement already satisfied: packaging in c:\\users\\sespl\\anaconda3\\lib\\site-packages (from tensorflow-intel) (24.1)\n",
      "Requirement already satisfied: requests<3,>=2.21.0 in c:\\users\\sespl\\anaconda3\\lib\\site-packages (from tensorflow-intel) (2.32.3)\n",
      "Requirement already satisfied: setuptools in c:\\users\\sespl\\anaconda3\\lib\\site-packages (from tensorflow-intel) (75.5.0)\n",
      "Requirement already satisfied: six>=1.12.0 in c:\\users\\sespl\\anaconda3\\lib\\site-packages (from tensorflow-intel) (1.16.0)\n",
      "Requirement already satisfied: termcolor>=1.1.0 in c:\\users\\sespl\\anaconda3\\lib\\site-packages (from tensorflow-intel) (2.5.0)\n",
      "Requirement already satisfied: typing-extensions>=3.6.6 in c:\\users\\sespl\\anaconda3\\lib\\site-packages (from tensorflow-intel) (4.11.0)\n",
      "Requirement already satisfied: wrapt>=1.11.0 in c:\\users\\sespl\\anaconda3\\lib\\site-packages (from tensorflow-intel) (1.14.1)\n",
      "Requirement already satisfied: grpcio<2.0,>=1.24.3 in c:\\users\\sespl\\anaconda3\\lib\\site-packages (from tensorflow-intel) (1.68.0)\n",
      "Requirement already satisfied: tensorboard<2.19,>=2.18 in c:\\users\\sespl\\anaconda3\\lib\\site-packages (from tensorflow-intel) (2.18.0)\n",
      "Requirement already satisfied: keras>=3.5.0 in c:\\users\\sespl\\anaconda3\\lib\\site-packages (from tensorflow-intel) (3.6.0)\n",
      "Requirement already satisfied: numpy<2.1.0,>=1.26.0 in c:\\users\\sespl\\anaconda3\\lib\\site-packages (from tensorflow-intel) (1.26.4)\n",
      "Requirement already satisfied: h5py>=3.11.0 in c:\\users\\sespl\\anaconda3\\lib\\site-packages (from tensorflow-intel) (3.11.0)\n",
      "Requirement already satisfied: ml-dtypes<0.5.0,>=0.4.0 in c:\\users\\sespl\\anaconda3\\lib\\site-packages (from tensorflow-intel) (0.4.1)\n",
      "Requirement already satisfied: wheel<1.0,>=0.23.0 in c:\\users\\sespl\\anaconda3\\lib\\site-packages (from astunparse>=1.6.0->tensorflow-intel) (0.45.0)\n",
      "Requirement already satisfied: rich in c:\\users\\sespl\\anaconda3\\lib\\site-packages (from keras>=3.5.0->tensorflow-intel) (13.7.1)\n",
      "Requirement already satisfied: namex in c:\\users\\sespl\\anaconda3\\lib\\site-packages (from keras>=3.5.0->tensorflow-intel) (0.0.8)\n",
      "Requirement already satisfied: optree in c:\\users\\sespl\\anaconda3\\lib\\site-packages (from keras>=3.5.0->tensorflow-intel) (0.13.1)\n",
      "Requirement already satisfied: charset-normalizer<4,>=2 in c:\\users\\sespl\\anaconda3\\lib\\site-packages (from requests<3,>=2.21.0->tensorflow-intel) (3.3.2)\n",
      "Requirement already satisfied: idna<4,>=2.5 in c:\\users\\sespl\\anaconda3\\lib\\site-packages (from requests<3,>=2.21.0->tensorflow-intel) (3.7)\n",
      "Requirement already satisfied: urllib3<3,>=1.21.1 in c:\\users\\sespl\\anaconda3\\lib\\site-packages (from requests<3,>=2.21.0->tensorflow-intel) (2.2.3)\n",
      "Requirement already satisfied: certifi>=2017.4.17 in c:\\users\\sespl\\anaconda3\\lib\\site-packages (from requests<3,>=2.21.0->tensorflow-intel) (2024.8.30)\n",
      "Requirement already satisfied: markdown>=2.6.8 in c:\\users\\sespl\\anaconda3\\lib\\site-packages (from tensorboard<2.19,>=2.18->tensorflow-intel) (3.4.1)\n",
      "Requirement already satisfied: tensorboard-data-server<0.8.0,>=0.7.0 in c:\\users\\sespl\\anaconda3\\lib\\site-packages (from tensorboard<2.19,>=2.18->tensorflow-intel) (0.7.2)\n",
      "Requirement already satisfied: werkzeug>=1.0.1 in c:\\users\\sespl\\anaconda3\\lib\\site-packages (from tensorboard<2.19,>=2.18->tensorflow-intel) (3.0.3)\n",
      "Requirement already satisfied: MarkupSafe>=2.1.1 in c:\\users\\sespl\\anaconda3\\lib\\site-packages (from werkzeug>=1.0.1->tensorboard<2.19,>=2.18->tensorflow-intel) (2.1.3)\n",
      "Requirement already satisfied: markdown-it-py>=2.2.0 in c:\\users\\sespl\\anaconda3\\lib\\site-packages (from rich->keras>=3.5.0->tensorflow-intel) (2.2.0)\n",
      "Requirement already satisfied: pygments<3.0.0,>=2.13.0 in c:\\users\\sespl\\anaconda3\\lib\\site-packages (from rich->keras>=3.5.0->tensorflow-intel) (2.15.1)\n",
      "Requirement already satisfied: mdurl~=0.1 in c:\\users\\sespl\\anaconda3\\lib\\site-packages (from markdown-it-py>=2.2.0->rich->keras>=3.5.0->tensorflow-intel) (0.1.0)\n",
      "Note: you may need to restart the kernel to use updated packages.\n"
     ]
    }
   ],
   "source": [
    "pip install --upgrade tensorflow-intel protobuf\n"
   ]
  },
  {
   "cell_type": "code",
   "execution_count": 1,
   "id": "93b6d4dd-6e45-46f1-a9d7-68a1e2b1f58f",
   "metadata": {},
   "outputs": [
    {
     "name": "stdout",
     "output_type": "stream",
     "text": [
      "Looking in indexes: https://pypi.tuna.tsinghua.edu.cn/simple\n",
      "Requirement already satisfied: paddlepaddle==2.6.1 in c:\\users\\sespl\\anaconda3\\lib\\site-packages (2.6.1)\n",
      "Requirement already satisfied: httpx in c:\\users\\sespl\\anaconda3\\lib\\site-packages (from paddlepaddle==2.6.1) (0.27.0)\n",
      "Requirement already satisfied: numpy>=1.13 in c:\\users\\sespl\\anaconda3\\lib\\site-packages (from paddlepaddle==2.6.1) (1.26.4)\n",
      "Requirement already satisfied: Pillow in c:\\users\\sespl\\anaconda3\\lib\\site-packages (from paddlepaddle==2.6.1) (10.4.0)\n",
      "Requirement already satisfied: decorator in c:\\users\\sespl\\anaconda3\\lib\\site-packages (from paddlepaddle==2.6.1) (5.1.1)\n",
      "Requirement already satisfied: astor in c:\\users\\sespl\\anaconda3\\lib\\site-packages (from paddlepaddle==2.6.1) (0.8.1)\n",
      "Requirement already satisfied: opt-einsum==3.3.0 in c:\\users\\sespl\\anaconda3\\lib\\site-packages (from paddlepaddle==2.6.1) (3.3.0)\n",
      "Collecting protobuf<=3.20.2,>=3.1.0 (from paddlepaddle==2.6.1)\n",
      "  Using cached https://pypi.tuna.tsinghua.edu.cn/packages/8b/e6/2a47ce2eba1aaf287380a44270da897ada03d118a55c19595ec7b4f0831f/protobuf-3.20.2-py2.py3-none-any.whl (162 kB)\n",
      "Requirement already satisfied: anyio in c:\\users\\sespl\\anaconda3\\lib\\site-packages (from httpx->paddlepaddle==2.6.1) (4.2.0)\n",
      "Requirement already satisfied: certifi in c:\\users\\sespl\\anaconda3\\lib\\site-packages (from httpx->paddlepaddle==2.6.1) (2024.8.30)\n",
      "Requirement already satisfied: httpcore==1.* in c:\\users\\sespl\\anaconda3\\lib\\site-packages (from httpx->paddlepaddle==2.6.1) (1.0.2)\n",
      "Requirement already satisfied: idna in c:\\users\\sespl\\anaconda3\\lib\\site-packages (from httpx->paddlepaddle==2.6.1) (3.7)\n",
      "Requirement already satisfied: sniffio in c:\\users\\sespl\\anaconda3\\lib\\site-packages (from httpx->paddlepaddle==2.6.1) (1.3.0)\n",
      "Requirement already satisfied: h11<0.15,>=0.13 in c:\\users\\sespl\\anaconda3\\lib\\site-packages (from httpcore==1.*->httpx->paddlepaddle==2.6.1) (0.14.0)\n",
      "Installing collected packages: protobuf\n",
      "  Attempting uninstall: protobuf\n",
      "    Found existing installation: protobuf 5.28.3\n",
      "    Uninstalling protobuf-5.28.3:\n",
      "      Successfully uninstalled protobuf-5.28.3\n",
      "Successfully installed protobuf-3.20.2\n"
     ]
    },
    {
     "name": "stderr",
     "output_type": "stream",
     "text": [
      "ERROR: pip's dependency resolver does not currently take into account all the packages that are installed. This behaviour is the source of the following dependency conflicts.\n",
      "tensorflow-intel 2.18.0 requires protobuf!=4.21.0,!=4.21.1,!=4.21.2,!=4.21.3,!=4.21.4,!=4.21.5,<6.0.0dev,>=3.20.3, but you have protobuf 3.20.2 which is incompatible.\n"
     ]
    }
   ],
   "source": [
    "!python -m pip install paddlepaddle==2.6.1 -i https://pypi.tuna.tsinghua.edu.cn/simple\n"
   ]
  },
  {
   "cell_type": "code",
   "execution_count": 3,
   "id": "af1516d1-7848-46ff-95c0-b863f6b185d4",
   "metadata": {},
   "outputs": [
    {
     "name": "stdout",
     "output_type": "stream",
     "text": [
      "Requirement already satisfied: tensorflow-intel in c:\\users\\sespl\\anaconda3\\lib\\site-packages (2.18.0)\n",
      "Requirement already satisfied: protobuf in c:\\users\\sespl\\anaconda3\\lib\\site-packages (3.20.2)\n",
      "Collecting protobuf\n",
      "  Using cached protobuf-5.28.3-cp310-abi3-win_amd64.whl.metadata (592 bytes)\n",
      "Requirement already satisfied: absl-py>=1.0.0 in c:\\users\\sespl\\anaconda3\\lib\\site-packages (from tensorflow-intel) (2.1.0)\n",
      "Requirement already satisfied: astunparse>=1.6.0 in c:\\users\\sespl\\anaconda3\\lib\\site-packages (from tensorflow-intel) (1.6.3)\n",
      "Requirement already satisfied: flatbuffers>=24.3.25 in c:\\users\\sespl\\anaconda3\\lib\\site-packages (from tensorflow-intel) (24.3.25)\n",
      "Requirement already satisfied: gast!=0.5.0,!=0.5.1,!=0.5.2,>=0.2.1 in c:\\users\\sespl\\anaconda3\\lib\\site-packages (from tensorflow-intel) (0.6.0)\n",
      "Requirement already satisfied: google-pasta>=0.1.1 in c:\\users\\sespl\\anaconda3\\lib\\site-packages (from tensorflow-intel) (0.2.0)\n",
      "Requirement already satisfied: libclang>=13.0.0 in c:\\users\\sespl\\anaconda3\\lib\\site-packages (from tensorflow-intel) (18.1.1)\n",
      "Requirement already satisfied: opt-einsum>=2.3.2 in c:\\users\\sespl\\anaconda3\\lib\\site-packages (from tensorflow-intel) (3.3.0)\n",
      "Requirement already satisfied: packaging in c:\\users\\sespl\\anaconda3\\lib\\site-packages (from tensorflow-intel) (24.1)\n",
      "Requirement already satisfied: requests<3,>=2.21.0 in c:\\users\\sespl\\anaconda3\\lib\\site-packages (from tensorflow-intel) (2.32.3)\n",
      "Requirement already satisfied: setuptools in c:\\users\\sespl\\anaconda3\\lib\\site-packages (from tensorflow-intel) (75.5.0)\n",
      "Requirement already satisfied: six>=1.12.0 in c:\\users\\sespl\\anaconda3\\lib\\site-packages (from tensorflow-intel) (1.16.0)\n",
      "Requirement already satisfied: termcolor>=1.1.0 in c:\\users\\sespl\\anaconda3\\lib\\site-packages (from tensorflow-intel) (2.5.0)\n",
      "Requirement already satisfied: typing-extensions>=3.6.6 in c:\\users\\sespl\\anaconda3\\lib\\site-packages (from tensorflow-intel) (4.11.0)\n",
      "Requirement already satisfied: wrapt>=1.11.0 in c:\\users\\sespl\\anaconda3\\lib\\site-packages (from tensorflow-intel) (1.14.1)\n",
      "Requirement already satisfied: grpcio<2.0,>=1.24.3 in c:\\users\\sespl\\anaconda3\\lib\\site-packages (from tensorflow-intel) (1.68.0)\n",
      "Requirement already satisfied: tensorboard<2.19,>=2.18 in c:\\users\\sespl\\anaconda3\\lib\\site-packages (from tensorflow-intel) (2.18.0)\n",
      "Requirement already satisfied: keras>=3.5.0 in c:\\users\\sespl\\anaconda3\\lib\\site-packages (from tensorflow-intel) (3.6.0)\n",
      "Requirement already satisfied: numpy<2.1.0,>=1.26.0 in c:\\users\\sespl\\anaconda3\\lib\\site-packages (from tensorflow-intel) (1.26.4)\n",
      "Requirement already satisfied: h5py>=3.11.0 in c:\\users\\sespl\\anaconda3\\lib\\site-packages (from tensorflow-intel) (3.11.0)\n",
      "Requirement already satisfied: ml-dtypes<0.5.0,>=0.4.0 in c:\\users\\sespl\\anaconda3\\lib\\site-packages (from tensorflow-intel) (0.4.1)\n",
      "Requirement already satisfied: wheel<1.0,>=0.23.0 in c:\\users\\sespl\\anaconda3\\lib\\site-packages (from astunparse>=1.6.0->tensorflow-intel) (0.45.0)\n",
      "Requirement already satisfied: rich in c:\\users\\sespl\\anaconda3\\lib\\site-packages (from keras>=3.5.0->tensorflow-intel) (13.7.1)\n",
      "Requirement already satisfied: namex in c:\\users\\sespl\\anaconda3\\lib\\site-packages (from keras>=3.5.0->tensorflow-intel) (0.0.8)\n",
      "Requirement already satisfied: optree in c:\\users\\sespl\\anaconda3\\lib\\site-packages (from keras>=3.5.0->tensorflow-intel) (0.13.1)\n",
      "Requirement already satisfied: charset-normalizer<4,>=2 in c:\\users\\sespl\\anaconda3\\lib\\site-packages (from requests<3,>=2.21.0->tensorflow-intel) (3.3.2)\n",
      "Requirement already satisfied: idna<4,>=2.5 in c:\\users\\sespl\\anaconda3\\lib\\site-packages (from requests<3,>=2.21.0->tensorflow-intel) (3.7)\n",
      "Requirement already satisfied: urllib3<3,>=1.21.1 in c:\\users\\sespl\\anaconda3\\lib\\site-packages (from requests<3,>=2.21.0->tensorflow-intel) (2.2.3)\n",
      "Requirement already satisfied: certifi>=2017.4.17 in c:\\users\\sespl\\anaconda3\\lib\\site-packages (from requests<3,>=2.21.0->tensorflow-intel) (2024.8.30)\n",
      "Requirement already satisfied: markdown>=2.6.8 in c:\\users\\sespl\\anaconda3\\lib\\site-packages (from tensorboard<2.19,>=2.18->tensorflow-intel) (3.4.1)\n",
      "Requirement already satisfied: tensorboard-data-server<0.8.0,>=0.7.0 in c:\\users\\sespl\\anaconda3\\lib\\site-packages (from tensorboard<2.19,>=2.18->tensorflow-intel) (0.7.2)\n",
      "Requirement already satisfied: werkzeug>=1.0.1 in c:\\users\\sespl\\anaconda3\\lib\\site-packages (from tensorboard<2.19,>=2.18->tensorflow-intel) (3.0.3)\n",
      "Requirement already satisfied: MarkupSafe>=2.1.1 in c:\\users\\sespl\\anaconda3\\lib\\site-packages (from werkzeug>=1.0.1->tensorboard<2.19,>=2.18->tensorflow-intel) (2.1.3)\n",
      "Requirement already satisfied: markdown-it-py>=2.2.0 in c:\\users\\sespl\\anaconda3\\lib\\site-packages (from rich->keras>=3.5.0->tensorflow-intel) (2.2.0)\n",
      "Requirement already satisfied: pygments<3.0.0,>=2.13.0 in c:\\users\\sespl\\anaconda3\\lib\\site-packages (from rich->keras>=3.5.0->tensorflow-intel) (2.15.1)\n",
      "Requirement already satisfied: mdurl~=0.1 in c:\\users\\sespl\\anaconda3\\lib\\site-packages (from markdown-it-py>=2.2.0->rich->keras>=3.5.0->tensorflow-intel) (0.1.0)\n",
      "Using cached protobuf-5.28.3-cp310-abi3-win_amd64.whl (431 kB)\n",
      "Installing collected packages: protobuf\n",
      "  Attempting uninstall: protobuf\n",
      "    Found existing installation: protobuf 3.20.2\n",
      "    Uninstalling protobuf-3.20.2:\n",
      "      Successfully uninstalled protobuf-3.20.2\n",
      "Successfully installed protobuf-5.28.3\n",
      "Note: you may need to restart the kernel to use updated packages.\n"
     ]
    },
    {
     "name": "stderr",
     "output_type": "stream",
     "text": [
      "ERROR: pip's dependency resolver does not currently take into account all the packages that are installed. This behaviour is the source of the following dependency conflicts.\n",
      "paddlepaddle 2.6.1 requires protobuf<=3.20.2,>=3.1.0; platform_system == \"Windows\", but you have protobuf 5.28.3 which is incompatible.\n"
     ]
    }
   ],
   "source": [
    "pip install --upgrade tensorflow-intel protobuf"
   ]
  },
  {
   "cell_type": "code",
   "execution_count": 5,
   "id": "31757d82-c210-4545-a110-6c829399f714",
   "metadata": {},
   "outputs": [
    {
     "name": "stdout",
     "output_type": "stream",
     "text": [
      "Collecting paddleocr\n",
      "  Downloading paddleocr-2.9.1-py3-none-any.whl.metadata (8.5 kB)\n",
      "Collecting shapely (from paddleocr)\n",
      "  Downloading shapely-2.0.6-cp312-cp312-win_amd64.whl.metadata (7.2 kB)\n",
      "Requirement already satisfied: scikit-image in c:\\users\\sespl\\anaconda3\\lib\\site-packages (from paddleocr) (0.24.0)\n",
      "Collecting imgaug (from paddleocr)\n",
      "  Downloading imgaug-0.4.0-py2.py3-none-any.whl.metadata (1.8 kB)\n",
      "Collecting pyclipper (from paddleocr)\n",
      "  Downloading pyclipper-1.3.0.post6-cp312-cp312-win_amd64.whl.metadata (9.2 kB)\n",
      "Requirement already satisfied: lmdb in c:\\users\\sespl\\anaconda3\\lib\\site-packages (from paddleocr) (1.4.1)\n",
      "Requirement already satisfied: tqdm in c:\\users\\sespl\\anaconda3\\lib\\site-packages (from paddleocr) (4.66.5)\n",
      "Requirement already satisfied: numpy<2.0 in c:\\users\\sespl\\anaconda3\\lib\\site-packages (from paddleocr) (1.26.4)\n",
      "Collecting rapidfuzz (from paddleocr)\n",
      "  Downloading rapidfuzz-3.10.1-cp312-cp312-win_amd64.whl.metadata (11 kB)\n",
      "Requirement already satisfied: opencv-python in c:\\users\\sespl\\anaconda3\\lib\\site-packages (from paddleocr) (4.10.0)\n",
      "Collecting opencv-contrib-python (from paddleocr)\n",
      "  Downloading opencv_contrib_python-4.10.0.84-cp37-abi3-win_amd64.whl.metadata (20 kB)\n",
      "Collecting cython (from paddleocr)\n",
      "  Using cached Cython-3.0.11-cp312-cp312-win_amd64.whl.metadata (3.2 kB)\n",
      "Requirement already satisfied: Pillow in c:\\users\\sespl\\anaconda3\\lib\\site-packages (from paddleocr) (10.4.0)\n",
      "Requirement already satisfied: pyyaml in c:\\users\\sespl\\anaconda3\\lib\\site-packages (from paddleocr) (6.0.1)\n",
      "Collecting python-docx (from paddleocr)\n",
      "  Downloading python_docx-1.1.2-py3-none-any.whl.metadata (2.0 kB)\n",
      "Requirement already satisfied: beautifulsoup4 in c:\\users\\sespl\\anaconda3\\lib\\site-packages (from paddleocr) (4.12.3)\n",
      "Requirement already satisfied: fonttools>=4.24.0 in c:\\users\\sespl\\anaconda3\\lib\\site-packages (from paddleocr) (4.51.0)\n",
      "Collecting fire>=0.3.0 (from paddleocr)\n",
      "  Downloading fire-0.7.0.tar.gz (87 kB)\n",
      "  Preparing metadata (setup.py): started\n",
      "  Preparing metadata (setup.py): finished with status 'done'\n",
      "Requirement already satisfied: requests in c:\\users\\sespl\\anaconda3\\lib\\site-packages (from paddleocr) (2.32.3)\n",
      "Collecting albumentations==1.4.10 (from paddleocr)\n",
      "  Downloading albumentations-1.4.10-py3-none-any.whl.metadata (38 kB)\n",
      "Collecting albucore==0.0.13 (from paddleocr)\n",
      "  Downloading albucore-0.0.13-py3-none-any.whl.metadata (3.1 kB)\n",
      "Requirement already satisfied: tomli>=2.0.1 in c:\\users\\sespl\\anaconda3\\lib\\site-packages (from albucore==0.0.13->paddleocr) (2.0.1)\n",
      "Requirement already satisfied: typing-extensions>=4.9.0 in c:\\users\\sespl\\anaconda3\\lib\\site-packages (from albucore==0.0.13->paddleocr) (4.11.0)\n",
      "Requirement already satisfied: opencv-python-headless>=4.9.0.80 in c:\\users\\sespl\\anaconda3\\lib\\site-packages (from albucore==0.0.13->paddleocr) (4.10.0)\n",
      "Requirement already satisfied: scipy>=1.10.0 in c:\\users\\sespl\\anaconda3\\lib\\site-packages (from albumentations==1.4.10->paddleocr) (1.13.1)\n",
      "Requirement already satisfied: scikit-learn>=1.3.2 in c:\\users\\sespl\\anaconda3\\lib\\site-packages (from albumentations==1.4.10->paddleocr) (1.5.1)\n",
      "Requirement already satisfied: pydantic>=2.7.0 in c:\\users\\sespl\\anaconda3\\lib\\site-packages (from albumentations==1.4.10->paddleocr) (2.8.2)\n",
      "Requirement already satisfied: termcolor in c:\\users\\sespl\\anaconda3\\lib\\site-packages (from fire>=0.3.0->paddleocr) (2.5.0)\n",
      "Requirement already satisfied: networkx>=2.8 in c:\\users\\sespl\\anaconda3\\lib\\site-packages (from scikit-image->paddleocr) (3.3)\n",
      "Requirement already satisfied: imageio>=2.33 in c:\\users\\sespl\\anaconda3\\lib\\site-packages (from scikit-image->paddleocr) (2.33.1)\n",
      "Requirement already satisfied: tifffile>=2022.8.12 in c:\\users\\sespl\\anaconda3\\lib\\site-packages (from scikit-image->paddleocr) (2023.4.12)\n",
      "Requirement already satisfied: packaging>=21 in c:\\users\\sespl\\anaconda3\\lib\\site-packages (from scikit-image->paddleocr) (24.1)\n",
      "Requirement already satisfied: lazy-loader>=0.4 in c:\\users\\sespl\\anaconda3\\lib\\site-packages (from scikit-image->paddleocr) (0.4)\n",
      "Requirement already satisfied: soupsieve>1.2 in c:\\users\\sespl\\anaconda3\\lib\\site-packages (from beautifulsoup4->paddleocr) (2.5)\n",
      "Requirement already satisfied: six in c:\\users\\sespl\\anaconda3\\lib\\site-packages (from imgaug->paddleocr) (1.16.0)\n",
      "Requirement already satisfied: matplotlib in c:\\users\\sespl\\anaconda3\\lib\\site-packages (from imgaug->paddleocr) (3.9.2)\n",
      "Requirement already satisfied: lxml>=3.1.0 in c:\\users\\sespl\\anaconda3\\lib\\site-packages (from python-docx->paddleocr) (5.2.1)\n",
      "Requirement already satisfied: charset-normalizer<4,>=2 in c:\\users\\sespl\\anaconda3\\lib\\site-packages (from requests->paddleocr) (3.3.2)\n",
      "Requirement already satisfied: idna<4,>=2.5 in c:\\users\\sespl\\anaconda3\\lib\\site-packages (from requests->paddleocr) (3.7)\n",
      "Requirement already satisfied: urllib3<3,>=1.21.1 in c:\\users\\sespl\\anaconda3\\lib\\site-packages (from requests->paddleocr) (2.2.3)\n",
      "Requirement already satisfied: certifi>=2017.4.17 in c:\\users\\sespl\\anaconda3\\lib\\site-packages (from requests->paddleocr) (2024.8.30)\n",
      "Requirement already satisfied: colorama in c:\\users\\sespl\\anaconda3\\lib\\site-packages (from tqdm->paddleocr) (0.4.6)\n",
      "Requirement already satisfied: annotated-types>=0.4.0 in c:\\users\\sespl\\anaconda3\\lib\\site-packages (from pydantic>=2.7.0->albumentations==1.4.10->paddleocr) (0.6.0)\n",
      "Requirement already satisfied: pydantic-core==2.20.1 in c:\\users\\sespl\\anaconda3\\lib\\site-packages (from pydantic>=2.7.0->albumentations==1.4.10->paddleocr) (2.20.1)\n",
      "Requirement already satisfied: joblib>=1.2.0 in c:\\users\\sespl\\anaconda3\\lib\\site-packages (from scikit-learn>=1.3.2->albumentations==1.4.10->paddleocr) (1.4.2)\n",
      "Requirement already satisfied: threadpoolctl>=3.1.0 in c:\\users\\sespl\\anaconda3\\lib\\site-packages (from scikit-learn>=1.3.2->albumentations==1.4.10->paddleocr) (3.5.0)\n",
      "Requirement already satisfied: contourpy>=1.0.1 in c:\\users\\sespl\\anaconda3\\lib\\site-packages (from matplotlib->imgaug->paddleocr) (1.2.0)\n",
      "Requirement already satisfied: cycler>=0.10 in c:\\users\\sespl\\anaconda3\\lib\\site-packages (from matplotlib->imgaug->paddleocr) (0.11.0)\n",
      "Requirement already satisfied: kiwisolver>=1.3.1 in c:\\users\\sespl\\anaconda3\\lib\\site-packages (from matplotlib->imgaug->paddleocr) (1.4.4)\n",
      "Requirement already satisfied: pyparsing>=2.3.1 in c:\\users\\sespl\\anaconda3\\lib\\site-packages (from matplotlib->imgaug->paddleocr) (3.1.2)\n",
      "Requirement already satisfied: python-dateutil>=2.7 in c:\\users\\sespl\\anaconda3\\lib\\site-packages (from matplotlib->imgaug->paddleocr) (2.9.0.post0)\n",
      "Downloading paddleocr-2.9.1-py3-none-any.whl (544 kB)\n",
      "   ---------------------------------------- 0.0/544.7 kB ? eta -:--:--\n",
      "   ------------------- -------------------- 262.1/544.7 kB ? eta -:--:--\n",
      "   ---------------------------------------- 544.7/544.7 kB 1.6 MB/s eta 0:00:00\n",
      "Downloading albucore-0.0.13-py3-none-any.whl (8.5 kB)\n",
      "Downloading albumentations-1.4.10-py3-none-any.whl (161 kB)\n",
      "Using cached Cython-3.0.11-cp312-cp312-win_amd64.whl (2.8 MB)\n",
      "Downloading imgaug-0.4.0-py2.py3-none-any.whl (948 kB)\n",
      "   ---------------------------------------- 0.0/948.0 kB ? eta -:--:--\n",
      "   ---------------------- ----------------- 524.3/948.0 kB 3.4 MB/s eta 0:00:01\n",
      "   ---------------------------------------- 948.0/948.0 kB 3.1 MB/s eta 0:00:00\n",
      "Downloading opencv_contrib_python-4.10.0.84-cp37-abi3-win_amd64.whl (45.5 MB)\n",
      "   ---------------------------------------- 0.0/45.5 MB ? eta -:--:--\n",
      "   ---------------------------------------- 0.5/45.5 MB 3.4 MB/s eta 0:00:14\n",
      "   - -------------------------------------- 1.6/45.5 MB 3.7 MB/s eta 0:00:13\n",
      "   -- ------------------------------------- 2.4/45.5 MB 4.1 MB/s eta 0:00:11\n",
      "   -- ------------------------------------- 3.4/45.5 MB 4.2 MB/s eta 0:00:11\n",
      "   --- ------------------------------------ 4.5/45.5 MB 4.5 MB/s eta 0:00:10\n",
      "   ----- ---------------------------------- 6.0/45.5 MB 4.9 MB/s eta 0:00:09\n",
      "   ------ --------------------------------- 7.1/45.5 MB 4.9 MB/s eta 0:00:08\n",
      "   ------- -------------------------------- 8.4/45.5 MB 5.2 MB/s eta 0:00:08\n",
      "   --------- ------------------------------ 10.5/45.5 MB 5.6 MB/s eta 0:00:07\n",
      "   ---------- ----------------------------- 11.5/45.5 MB 5.6 MB/s eta 0:00:07\n",
      "   ----------- ---------------------------- 13.4/45.5 MB 5.9 MB/s eta 0:00:06\n",
      "   ------------- -------------------------- 15.2/45.5 MB 6.1 MB/s eta 0:00:05\n",
      "   -------------- ------------------------- 16.8/45.5 MB 6.3 MB/s eta 0:00:05\n",
      "   ---------------- ----------------------- 18.4/45.5 MB 6.3 MB/s eta 0:00:05\n",
      "   ------------------ --------------------- 20.7/45.5 MB 6.6 MB/s eta 0:00:04\n",
      "   ------------------ --------------------- 21.2/45.5 MB 6.5 MB/s eta 0:00:04\n",
      "   -------------------- ------------------- 23.6/45.5 MB 6.7 MB/s eta 0:00:04\n",
      "   --------------------- ------------------ 24.6/45.5 MB 6.6 MB/s eta 0:00:04\n",
      "   ------------------------ --------------- 27.8/45.5 MB 7.0 MB/s eta 0:00:03\n",
      "   -------------------------- ------------- 29.9/45.5 MB 7.1 MB/s eta 0:00:03\n",
      "   --------------------------- ------------ 31.7/45.5 MB 7.2 MB/s eta 0:00:02\n",
      "   ----------------------------- ---------- 33.3/45.5 MB 7.3 MB/s eta 0:00:02\n",
      "   ------------------------------ --------- 34.9/45.5 MB 7.2 MB/s eta 0:00:02\n",
      "   ------------------------------- -------- 35.7/45.5 MB 7.2 MB/s eta 0:00:02\n",
      "   --------------------------------- ------ 37.7/45.5 MB 7.2 MB/s eta 0:00:02\n",
      "   ----------------------------------- ---- 40.1/45.5 MB 7.3 MB/s eta 0:00:01\n",
      "   ----------------------------------- ---- 40.9/45.5 MB 7.4 MB/s eta 0:00:01\n",
      "   ------------------------------------- -- 42.2/45.5 MB 7.2 MB/s eta 0:00:01\n",
      "   -------------------------------------- - 43.5/45.5 MB 7.1 MB/s eta 0:00:01\n",
      "   ---------------------------------------  45.4/45.5 MB 7.2 MB/s eta 0:00:01\n",
      "   ---------------------------------------  45.4/45.5 MB 7.2 MB/s eta 0:00:01\n",
      "   ---------------------------------------  45.4/45.5 MB 7.2 MB/s eta 0:00:01\n",
      "   ---------------------------------------  45.4/45.5 MB 7.2 MB/s eta 0:00:01\n",
      "   ---------------------------------------  45.4/45.5 MB 7.2 MB/s eta 0:00:01\n",
      "   ---------------------------------------  45.4/45.5 MB 7.2 MB/s eta 0:00:01\n",
      "   ---------------------------------------  45.4/45.5 MB 7.2 MB/s eta 0:00:01\n",
      "   ---------------------------------------  45.4/45.5 MB 7.2 MB/s eta 0:00:01\n",
      "   ---------------------------------------  45.4/45.5 MB 7.2 MB/s eta 0:00:01\n",
      "   ---------------------------------------  45.4/45.5 MB 7.2 MB/s eta 0:00:01\n",
      "   ---------------------------------------  45.4/45.5 MB 7.2 MB/s eta 0:00:01\n",
      "   ---------------------------------------  45.4/45.5 MB 7.2 MB/s eta 0:00:01\n",
      "   ---------------------------------------  45.4/45.5 MB 7.2 MB/s eta 0:00:01\n",
      "   ---------------------------------------  45.4/45.5 MB 7.2 MB/s eta 0:00:01\n",
      "   ---------------------------------------  45.4/45.5 MB 7.2 MB/s eta 0:00:01\n",
      "   ---------------------------------------  45.4/45.5 MB 7.2 MB/s eta 0:00:01\n",
      "   ---------------------------------------  45.4/45.5 MB 7.2 MB/s eta 0:00:01\n",
      "   ---------------------------------------  45.4/45.5 MB 7.2 MB/s eta 0:00:01\n",
      "   ---------------------------------------  45.4/45.5 MB 7.2 MB/s eta 0:00:01\n",
      "   ---------------------------------------  45.4/45.5 MB 7.2 MB/s eta 0:00:01\n",
      "   ---------------------------------------  45.4/45.5 MB 7.2 MB/s eta 0:00:01\n",
      "   ---------------------------------------  45.4/45.5 MB 7.2 MB/s eta 0:00:01\n",
      "   ---------------------------------------  45.4/45.5 MB 7.2 MB/s eta 0:00:01\n",
      "   ---------------------------------------  45.4/45.5 MB 7.2 MB/s eta 0:00:01\n",
      "   ---------------------------------------  45.4/45.5 MB 7.2 MB/s eta 0:00:01\n",
      "   ---------------------------------------  45.4/45.5 MB 7.2 MB/s eta 0:00:01\n",
      "   ---------------------------------------  45.4/45.5 MB 7.2 MB/s eta 0:00:01\n",
      "   ---------------------------------------  45.4/45.5 MB 7.2 MB/s eta 0:00:01\n",
      "   ---------------------------------------  45.4/45.5 MB 7.2 MB/s eta 0:00:01\n",
      "   ---------------------------------------  45.4/45.5 MB 7.2 MB/s eta 0:00:01\n",
      "   ---------------------------------------  45.4/45.5 MB 7.2 MB/s eta 0:00:01\n",
      "   ---------------------------------------  45.4/45.5 MB 7.2 MB/s eta 0:00:01\n",
      "   ---------------------------------------  45.4/45.5 MB 7.2 MB/s eta 0:00:01\n",
      "   ---------------------------------------  45.4/45.5 MB 7.2 MB/s eta 0:00:01\n",
      "   ---------------------------------------  45.4/45.5 MB 7.2 MB/s eta 0:00:01\n",
      "   ---------------------------------------  45.4/45.5 MB 7.2 MB/s eta 0:00:01\n",
      "   ---------------------------------------  45.4/45.5 MB 7.2 MB/s eta 0:00:01\n",
      "   ---------------------------------------  45.4/45.5 MB 7.2 MB/s eta 0:00:01\n",
      "   ---------------------------------------  45.4/45.5 MB 7.2 MB/s eta 0:00:01\n",
      "   ---------------------------------------  45.4/45.5 MB 7.2 MB/s eta 0:00:01\n",
      "   ---------------------------------------  45.4/45.5 MB 7.2 MB/s eta 0:00:01\n",
      "   ---------------------------------------  45.4/45.5 MB 7.2 MB/s eta 0:00:01\n",
      "   ---------------------------------------  45.4/45.5 MB 7.2 MB/s eta 0:00:01\n",
      "   ---------------------------------------  45.4/45.5 MB 7.2 MB/s eta 0:00:01\n",
      "   ---------------------------------------  45.4/45.5 MB 7.2 MB/s eta 0:00:01\n",
      "   ---------------------------------------  45.4/45.5 MB 7.2 MB/s eta 0:00:01\n",
      "   ---------------------------------------  45.4/45.5 MB 7.2 MB/s eta 0:00:01\n",
      "   ---------------------------------------  45.4/45.5 MB 7.2 MB/s eta 0:00:01\n",
      "   ---------------------------------------  45.4/45.5 MB 7.2 MB/s eta 0:00:01\n",
      "   ---------------------------------------  45.4/45.5 MB 7.2 MB/s eta 0:00:01\n",
      "   ---------------------------------------  45.4/45.5 MB 7.2 MB/s eta 0:00:01\n",
      "   ---------------------------------------  45.4/45.5 MB 7.2 MB/s eta 0:00:01\n",
      "   ---------------------------------------  45.4/45.5 MB 7.2 MB/s eta 0:00:01\n",
      "   ---------------------------------------  45.4/45.5 MB 7.2 MB/s eta 0:00:01\n",
      "   ---------------------------------------  45.4/45.5 MB 7.2 MB/s eta 0:00:01\n",
      "   ---------------------------------------  45.4/45.5 MB 7.2 MB/s eta 0:00:01\n",
      "   ---------------------------------------  45.4/45.5 MB 7.2 MB/s eta 0:00:01\n",
      "   ---------------------------------------  45.4/45.5 MB 7.2 MB/s eta 0:00:01\n",
      "   ---------------------------------------  45.4/45.5 MB 7.2 MB/s eta 0:00:01\n",
      "   ---------------------------------------  45.4/45.5 MB 7.2 MB/s eta 0:00:01\n",
      "   ---------------------------------------- 45.5/45.5 MB 2.4 MB/s eta 0:00:00\n",
      "Downloading pyclipper-1.3.0.post6-cp312-cp312-win_amd64.whl (110 kB)\n",
      "Downloading python_docx-1.1.2-py3-none-any.whl (244 kB)\n",
      "Downloading rapidfuzz-3.10.1-cp312-cp312-win_amd64.whl (1.6 MB)\n",
      "   ---------------------------------------- 0.0/1.6 MB ? eta -:--:--\n",
      "   -------------------------- ------------- 1.0/1.6 MB 7.2 MB/s eta 0:00:01\n",
      "   ---------------------------------------- 1.6/1.6 MB 4.5 MB/s eta 0:00:00\n",
      "Downloading shapely-2.0.6-cp312-cp312-win_amd64.whl (1.4 MB)\n",
      "   ---------------------------------------- 0.0/1.4 MB ? eta -:--:--\n",
      "   ------------------------------------ --- 1.3/1.4 MB 8.4 MB/s eta 0:00:01\n",
      "   ---------------------------------------- 1.4/1.4 MB 6.9 MB/s eta 0:00:00\n",
      "Building wheels for collected packages: fire\n",
      "  Building wheel for fire (setup.py): started\n",
      "  Building wheel for fire (setup.py): finished with status 'done'\n",
      "  Created wheel for fire: filename=fire-0.7.0-py3-none-any.whl size=114264 sha256=4ab5eaf9c94924cf13c95b355e851539131ac2465579bebf2991e4f0599e993e\n",
      "  Stored in directory: c:\\users\\sespl\\appdata\\local\\pip\\cache\\wheels\\9e\\5b\\45\\29f72e55d87a29426b04b3cfdf20325c079eb97ab74f59017d\n",
      "Successfully built fire\n",
      "Installing collected packages: pyclipper, shapely, rapidfuzz, python-docx, opencv-contrib-python, fire, cython, albucore, imgaug, albumentations, paddleocr\n",
      "Successfully installed albucore-0.0.13 albumentations-1.4.10 cython-3.0.11 fire-0.7.0 imgaug-0.4.0 opencv-contrib-python-4.10.0.84 paddleocr-2.9.1 pyclipper-1.3.0.post6 python-docx-1.1.2 rapidfuzz-3.10.1 shapely-2.0.6\n"
     ]
    }
   ],
   "source": [
    "!pip install paddleocr"
   ]
  },
  {
   "cell_type": "code",
   "execution_count": 2,
   "id": "d31a12a5-9a9a-47a7-8d00-265a9d525afa",
   "metadata": {},
   "outputs": [
    {
     "ename": "TypeError",
     "evalue": "Descriptors cannot be created directly.\nIf this call came from a _pb2.py file, your generated code is out of date and must be regenerated with protoc >= 3.19.0.\nIf you cannot immediately regenerate your protos, some other possible workarounds are:\n 1. Downgrade the protobuf package to 3.20.x or lower.\n 2. Set PROTOCOL_BUFFERS_PYTHON_IMPLEMENTATION=python (but this will use pure-Python parsing and will be much slower).\n\nMore information: https://developers.google.com/protocol-buffers/docs/news/2022-05-06#python-updates",
     "output_type": "error",
     "traceback": [
      "\u001b[1;31m---------------------------------------------------------------------------\u001b[0m",
      "\u001b[1;31mTypeError\u001b[0m                                 Traceback (most recent call last)",
      "Cell \u001b[1;32mIn[2], line 1\u001b[0m\n\u001b[1;32m----> 1\u001b[0m \u001b[38;5;28;01mfrom\u001b[39;00m \u001b[38;5;21;01mpaddleocr\u001b[39;00m \u001b[38;5;28;01mimport\u001b[39;00m PaddleOCR, draw_ocr \u001b[38;5;66;03m# main OCR dependencies\u001b[39;00m\n\u001b[0;32m      2\u001b[0m \u001b[38;5;28;01mfrom\u001b[39;00m \u001b[38;5;21;01mmatplotlib\u001b[39;00m \u001b[38;5;28;01mimport\u001b[39;00m pyplot \u001b[38;5;28;01mas\u001b[39;00m plt \u001b[38;5;66;03m# plot images\u001b[39;00m\n\u001b[0;32m      3\u001b[0m \u001b[38;5;28;01mimport\u001b[39;00m \u001b[38;5;21;01mcv2\u001b[39;00m \u001b[38;5;66;03m#opencv\u001b[39;00m\n",
      "File \u001b[1;32m~\\anaconda3\\Lib\\site-packages\\paddleocr\\__init__.py:14\u001b[0m\n\u001b[0;32m      1\u001b[0m \u001b[38;5;66;03m# Copyright (c) 2020 PaddlePaddle Authors. All Rights Reserved.\u001b[39;00m\n\u001b[0;32m      2\u001b[0m \u001b[38;5;66;03m#\u001b[39;00m\n\u001b[0;32m      3\u001b[0m \u001b[38;5;66;03m# Licensed under the Apache License, Version 2.0 (the \"License\");\u001b[39;00m\n\u001b[1;32m   (...)\u001b[0m\n\u001b[0;32m     12\u001b[0m \u001b[38;5;66;03m# See the License for the specific language governing permissions and\u001b[39;00m\n\u001b[0;32m     13\u001b[0m \u001b[38;5;66;03m# limitations under the License.\u001b[39;00m\n\u001b[1;32m---> 14\u001b[0m \u001b[38;5;28;01mfrom\u001b[39;00m \u001b[38;5;21;01m.\u001b[39;00m\u001b[38;5;21;01mpaddleocr\u001b[39;00m \u001b[38;5;28;01mimport\u001b[39;00m (\n\u001b[0;32m     15\u001b[0m     PaddleOCR,\n\u001b[0;32m     16\u001b[0m     PPStructure,\n\u001b[0;32m     17\u001b[0m     draw_ocr,\n\u001b[0;32m     18\u001b[0m     draw_structure_result,\n\u001b[0;32m     19\u001b[0m     save_structure_res,\n\u001b[0;32m     20\u001b[0m     download_with_progressbar,\n\u001b[0;32m     21\u001b[0m     sorted_layout_boxes,\n\u001b[0;32m     22\u001b[0m     convert_info_docx,\n\u001b[0;32m     23\u001b[0m     to_excel,\n\u001b[0;32m     24\u001b[0m )\n\u001b[0;32m     25\u001b[0m \u001b[38;5;28;01mimport\u001b[39;00m \u001b[38;5;21;01mimportlib\u001b[39;00m\u001b[38;5;21;01m.\u001b[39;00m\u001b[38;5;21;01mmetadata\u001b[39;00m \u001b[38;5;28;01mas\u001b[39;00m \u001b[38;5;21;01mimportlib_metadata\u001b[39;00m\n\u001b[0;32m     27\u001b[0m \u001b[38;5;28;01mtry\u001b[39;00m:\n",
      "File \u001b[1;32m~\\anaconda3\\Lib\\site-packages\\paddleocr\\paddleocr.py:21\u001b[0m\n\u001b[0;32m     17\u001b[0m \u001b[38;5;28;01mimport\u001b[39;00m \u001b[38;5;21;01mimportlib\u001b[39;00m\n\u001b[0;32m     19\u001b[0m \u001b[38;5;21m__dir__\u001b[39m \u001b[38;5;241m=\u001b[39m os\u001b[38;5;241m.\u001b[39mpath\u001b[38;5;241m.\u001b[39mdirname(\u001b[38;5;18m__file__\u001b[39m)\n\u001b[1;32m---> 21\u001b[0m \u001b[38;5;28;01mfrom\u001b[39;00m \u001b[38;5;21;01mpaddle\u001b[39;00m\u001b[38;5;21;01m.\u001b[39;00m\u001b[38;5;21;01mutils\u001b[39;00m \u001b[38;5;28;01mimport\u001b[39;00m try_import\n\u001b[0;32m     23\u001b[0m sys\u001b[38;5;241m.\u001b[39mpath\u001b[38;5;241m.\u001b[39mappend(os\u001b[38;5;241m.\u001b[39mpath\u001b[38;5;241m.\u001b[39mjoin(\u001b[38;5;21m__dir__\u001b[39m, \u001b[38;5;124m\"\u001b[39m\u001b[38;5;124m\"\u001b[39m))\n\u001b[0;32m     25\u001b[0m \u001b[38;5;28;01mimport\u001b[39;00m \u001b[38;5;21;01mcv2\u001b[39;00m\n",
      "File \u001b[1;32m~\\anaconda3\\Lib\\site-packages\\paddle\\__init__.py:28\u001b[0m\n\u001b[0;32m     21\u001b[0m     sys\u001b[38;5;241m.\u001b[39mstderr\u001b[38;5;241m.\u001b[39mwrite(\n\u001b[0;32m     22\u001b[0m \u001b[38;5;250m        \u001b[39m\u001b[38;5;124;03m'''Warning with import paddle: you should not\u001b[39;00m\n\u001b[0;32m     23\u001b[0m \u001b[38;5;124;03m     import paddle from the source directory; please install paddlepaddle*.whl firstly.'''\u001b[39;00m\n\u001b[0;32m     24\u001b[0m     )\n\u001b[0;32m     26\u001b[0m \u001b[38;5;66;03m# NOTE(SigureMo): We should place the import of base.core before other modules,\u001b[39;00m\n\u001b[0;32m     27\u001b[0m \u001b[38;5;66;03m# because there are some initialization codes in base/core/__init__.py.\u001b[39;00m\n\u001b[1;32m---> 28\u001b[0m \u001b[38;5;28;01mfrom\u001b[39;00m \u001b[38;5;21;01m.\u001b[39;00m\u001b[38;5;21;01mbase\u001b[39;00m \u001b[38;5;28;01mimport\u001b[39;00m core  \u001b[38;5;66;03m# noqa: F401\u001b[39;00m\n\u001b[0;32m     29\u001b[0m \u001b[38;5;28;01mfrom\u001b[39;00m \u001b[38;5;21;01m.\u001b[39;00m\u001b[38;5;21;01mbatch\u001b[39;00m \u001b[38;5;28;01mimport\u001b[39;00m batch\n\u001b[0;32m     31\u001b[0m \u001b[38;5;66;03m# Do the *DUPLICATED* monkey-patch for the tensor object.\u001b[39;00m\n\u001b[0;32m     32\u001b[0m \u001b[38;5;66;03m# We need remove the duplicated code here once we fix\u001b[39;00m\n\u001b[0;32m     33\u001b[0m \u001b[38;5;66;03m# the illogical implement in the monkey-patch methods later.\u001b[39;00m\n",
      "File \u001b[1;32m~\\anaconda3\\Lib\\site-packages\\paddle\\base\\__init__.py:39\u001b[0m\n\u001b[0;32m     36\u001b[0m \u001b[38;5;28;01mfrom\u001b[39;00m \u001b[38;5;21;01m.\u001b[39;00m \u001b[38;5;28;01mimport\u001b[39;00m core\n\u001b[0;32m     38\u001b[0m \u001b[38;5;66;03m# import all class inside framework into base module\u001b[39;00m\n\u001b[1;32m---> 39\u001b[0m \u001b[38;5;28;01mfrom\u001b[39;00m \u001b[38;5;21;01m.\u001b[39;00m \u001b[38;5;28;01mimport\u001b[39;00m framework\n\u001b[0;32m     40\u001b[0m \u001b[38;5;28;01mfrom\u001b[39;00m \u001b[38;5;21;01m.\u001b[39;00m\u001b[38;5;21;01mframework\u001b[39;00m \u001b[38;5;28;01mimport\u001b[39;00m (\n\u001b[0;32m     41\u001b[0m     Program,\n\u001b[0;32m     42\u001b[0m     default_startup_program,\n\u001b[1;32m   (...)\u001b[0m\n\u001b[0;32m     63\u001b[0m     get_flags,\n\u001b[0;32m     64\u001b[0m )\n\u001b[0;32m     66\u001b[0m \u001b[38;5;66;03m# import all class inside executor into base module\u001b[39;00m\n",
      "File \u001b[1;32m~\\anaconda3\\Lib\\site-packages\\paddle\\base\\framework.py:40\u001b[0m\n\u001b[0;32m     38\u001b[0m \u001b[38;5;28;01mfrom\u001b[39;00m \u001b[38;5;21;01m.\u001b[39;00m \u001b[38;5;28;01mimport\u001b[39;00m core, unique_name\n\u001b[0;32m     39\u001b[0m \u001b[38;5;28;01mfrom\u001b[39;00m \u001b[38;5;21;01m.\u001b[39;00m\u001b[38;5;21;01mlibpaddle\u001b[39;00m \u001b[38;5;28;01mimport\u001b[39;00m DataType\n\u001b[1;32m---> 40\u001b[0m \u001b[38;5;28;01mfrom\u001b[39;00m \u001b[38;5;21;01m.\u001b[39;00m\u001b[38;5;21;01mproto\u001b[39;00m \u001b[38;5;28;01mimport\u001b[39;00m (\n\u001b[0;32m     41\u001b[0m     data_feed_pb2,  \u001b[38;5;66;03m# noqa: F401\u001b[39;00m\n\u001b[0;32m     42\u001b[0m     framework_pb2,\n\u001b[0;32m     43\u001b[0m )\n\u001b[0;32m     44\u001b[0m \u001b[38;5;28;01mfrom\u001b[39;00m \u001b[38;5;21;01m.\u001b[39;00m\u001b[38;5;21;01mvariable_index\u001b[39;00m \u001b[38;5;28;01mimport\u001b[39;00m _getitem_static, _setitem_static\n\u001b[0;32m     45\u001b[0m \u001b[38;5;28;01mfrom\u001b[39;00m \u001b[38;5;21;01m.\u001b[39;00m\u001b[38;5;21;01mwrapped_decorator\u001b[39;00m \u001b[38;5;28;01mimport\u001b[39;00m signature_safe_contextmanager, wrap_decorator\n",
      "File \u001b[1;32m~\\anaconda3\\Lib\\site-packages\\paddle\\base\\proto\\data_feed_pb2.py:36\u001b[0m\n\u001b[0;32m     18\u001b[0m DESCRIPTOR \u001b[38;5;241m=\u001b[39m _descriptor\u001b[38;5;241m.\u001b[39mFileDescriptor(\n\u001b[0;32m     19\u001b[0m   name\u001b[38;5;241m=\u001b[39m\u001b[38;5;124m'\u001b[39m\u001b[38;5;124mpaddle/fluid/framework/data_feed.proto\u001b[39m\u001b[38;5;124m'\u001b[39m,\n\u001b[0;32m     20\u001b[0m   package\u001b[38;5;241m=\u001b[39m\u001b[38;5;124m'\u001b[39m\u001b[38;5;124mpaddle.framework\u001b[39m\u001b[38;5;124m'\u001b[39m,\n\u001b[0;32m     21\u001b[0m   syntax\u001b[38;5;241m=\u001b[39m\u001b[38;5;124m'\u001b[39m\u001b[38;5;124mproto2\u001b[39m\u001b[38;5;124m'\u001b[39m,\n\u001b[0;32m     22\u001b[0m   serialized_pb\u001b[38;5;241m=\u001b[39m_b(\u001b[38;5;124m'\u001b[39m\u001b[38;5;130;01m\\n\u001b[39;00m\u001b[38;5;124m&paddle/fluid/framework/data_feed.proto\u001b[39m\u001b[38;5;130;01m\\x12\u001b[39;00m\u001b[38;5;130;01m\\x10\u001b[39;00m\u001b[38;5;124mpaddle.framework\u001b[39m\u001b[38;5;130;01m\\\"\u001b[39;00m\u001b[38;5;124mb\u001b[39m\u001b[38;5;130;01m\\n\u001b[39;00m\u001b[38;5;130;01m\\x04\u001b[39;00m\u001b[38;5;124mSlot\u001b[39m\u001b[38;5;130;01m\\x12\u001b[39;00m\u001b[38;5;130;01m\\x0c\u001b[39;00m\u001b[38;5;130;01m\\n\u001b[39;00m\u001b[38;5;130;01m\\x04\u001b[39;00m\u001b[38;5;124mname\u001b[39m\u001b[38;5;130;01m\\x18\u001b[39;00m\u001b[38;5;130;01m\\x01\u001b[39;00m\u001b[38;5;124m \u001b[39m\u001b[38;5;130;01m\\x02\u001b[39;00m\u001b[38;5;124m(\u001b[39m\u001b[38;5;130;01m\\t\u001b[39;00m\u001b[38;5;130;01m\\x12\u001b[39;00m\u001b[38;5;130;01m\\x0c\u001b[39;00m\u001b[38;5;130;01m\\n\u001b[39;00m\u001b[38;5;130;01m\\x04\u001b[39;00m\u001b[38;5;124mtype\u001b[39m\u001b[38;5;130;01m\\x18\u001b[39;00m\u001b[38;5;130;01m\\x02\u001b[39;00m\u001b[38;5;124m \u001b[39m\u001b[38;5;130;01m\\x02\u001b[39;00m\u001b[38;5;124m(\u001b[39m\u001b[38;5;130;01m\\t\u001b[39;00m\u001b[38;5;130;01m\\x12\u001b[39;00m\u001b[38;5;130;01m\\x17\u001b[39;00m\u001b[38;5;130;01m\\n\u001b[39;00m\u001b[38;5;130;01m\\x08\u001b[39;00m\u001b[38;5;124mis_dense\u001b[39m\u001b[38;5;130;01m\\x18\u001b[39;00m\u001b[38;5;130;01m\\x03\u001b[39;00m\u001b[38;5;124m \u001b[39m\u001b[38;5;130;01m\\x01\u001b[39;00m\u001b[38;5;124m(\u001b[39m\u001b[38;5;130;01m\\x08\u001b[39;00m\u001b[38;5;124m:\u001b[39m\u001b[38;5;130;01m\\x05\u001b[39;00m\u001b[38;5;130;01m\\x66\u001b[39;00m\u001b[38;5;130;01m\\x61\u001b[39;00m\u001b[38;5;124mlse\u001b[39m\u001b[38;5;130;01m\\x12\u001b[39;00m\u001b[38;5;130;01m\\x16\u001b[39;00m\u001b[38;5;130;01m\\n\u001b[39;00m\u001b[38;5;130;01m\\x07\u001b[39;00m\u001b[38;5;124mis_used\u001b[39m\u001b[38;5;130;01m\\x18\u001b[39;00m\u001b[38;5;130;01m\\x04\u001b[39;00m\u001b[38;5;124m \u001b[39m\u001b[38;5;130;01m\\x01\u001b[39;00m\u001b[38;5;124m(\u001b[39m\u001b[38;5;130;01m\\x08\u001b[39;00m\u001b[38;5;124m:\u001b[39m\u001b[38;5;130;01m\\x05\u001b[39;00m\u001b[38;5;130;01m\\x66\u001b[39;00m\u001b[38;5;130;01m\\x61\u001b[39;00m\u001b[38;5;124mlse\u001b[39m\u001b[38;5;130;01m\\x12\u001b[39;00m\u001b[38;5;130;01m\\r\u001b[39;00m\u001b[38;5;130;01m\\n\u001b[39;00m\u001b[38;5;130;01m\\x05\u001b[39;00m\u001b[38;5;124mshape\u001b[39m\u001b[38;5;130;01m\\x18\u001b[39;00m\u001b[38;5;130;01m\\x05\u001b[39;00m\u001b[38;5;124m \u001b[39m\u001b[38;5;130;01m\\x03\u001b[39;00m\u001b[38;5;124m(\u001b[39m\u001b[38;5;130;01m\\x05\u001b[39;00m\u001b[38;5;130;01m\\\"\u001b[39;00m\u001b[38;5;124mH\u001b[39m\u001b[38;5;130;01m\\n\u001b[39;00m\u001b[38;5;130;01m\\r\u001b[39;00m\u001b[38;5;124mMultiSlotDesc\u001b[39m\u001b[38;5;130;01m\\x12\u001b[39;00m\u001b[38;5;124m%\u001b[39m\u001b[38;5;130;01m\\n\u001b[39;00m\u001b[38;5;130;01m\\x05\u001b[39;00m\u001b[38;5;124mslots\u001b[39m\u001b[38;5;130;01m\\x18\u001b[39;00m\u001b[38;5;130;01m\\x01\u001b[39;00m\u001b[38;5;124m \u001b[39m\u001b[38;5;130;01m\\x03\u001b[39;00m\u001b[38;5;124m(\u001b[39m\u001b[38;5;130;01m\\x0b\u001b[39;00m\u001b[38;5;130;01m\\x32\u001b[39;00m\u001b[38;5;130;01m\\x16\u001b[39;00m\u001b[38;5;124m.paddle.framework.Slot\u001b[39m\u001b[38;5;130;01m\\x12\u001b[39;00m\u001b[38;5;130;01m\\x10\u001b[39;00m\u001b[38;5;130;01m\\n\u001b[39;00m\u001b[38;5;130;01m\\x08\u001b[39;00m\u001b[38;5;124muid_slot\u001b[39m\u001b[38;5;130;01m\\x18\u001b[39;00m\u001b[38;5;130;01m\\x02\u001b[39;00m\u001b[38;5;124m \u001b[39m\u001b[38;5;130;01m\\x01\u001b[39;00m\u001b[38;5;124m(\u001b[39m\u001b[38;5;130;01m\\t\u001b[39;00m\u001b[38;5;130;01m\\\"\u001b[39;00m\u001b[38;5;130;01m\\xe1\u001b[39;00m\u001b[38;5;130;01m\\x04\u001b[39;00m\u001b[38;5;130;01m\\n\u001b[39;00m\u001b[38;5;130;01m\\x0b\u001b[39;00m\u001b[38;5;124mGraphConfig\u001b[39m\u001b[38;5;130;01m\\x12\u001b[39;00m\u001b[38;5;130;01m\\x16\u001b[39;00m\u001b[38;5;130;01m\\n\u001b[39;00m\u001b[38;5;130;01m\\x0b\u001b[39;00m\u001b[38;5;124mwalk_degree\u001b[39m\u001b[38;5;130;01m\\x18\u001b[39;00m\u001b[38;5;130;01m\\x01\u001b[39;00m\u001b[38;5;124m \u001b[39m\u001b[38;5;130;01m\\x01\u001b[39;00m\u001b[38;5;124m(\u001b[39m\u001b[38;5;130;01m\\x05\u001b[39;00m\u001b[38;5;124m:\u001b[39m\u001b[38;5;130;01m\\x01\u001b[39;00m\u001b[38;5;130;01m\\x31\u001b[39;00m\u001b[38;5;130;01m\\x12\u001b[39;00m\u001b[38;5;130;01m\\x14\u001b[39;00m\u001b[38;5;130;01m\\n\u001b[39;00m\u001b[38;5;130;01m\\x08\u001b[39;00m\u001b[38;5;124mwalk_len\u001b[39m\u001b[38;5;130;01m\\x18\u001b[39;00m\u001b[38;5;130;01m\\x02\u001b[39;00m\u001b[38;5;124m \u001b[39m\u001b[38;5;130;01m\\x01\u001b[39;00m\u001b[38;5;124m(\u001b[39m\u001b[38;5;130;01m\\x05\u001b[39;00m\u001b[38;5;124m:\u001b[39m\u001b[38;5;130;01m\\x02\u001b[39;00m\u001b[38;5;130;01m\\x32\u001b[39;00m\u001b[38;5;130;01m\\x30\u001b[39;00m\u001b[38;5;130;01m\\x12\u001b[39;00m\u001b[38;5;130;01m\\x11\u001b[39;00m\u001b[38;5;130;01m\\n\u001b[39;00m\u001b[38;5;130;01m\\x06\u001b[39;00m\u001b[38;5;124mwindow\u001b[39m\u001b[38;5;130;01m\\x18\u001b[39;00m\u001b[38;5;130;01m\\x03\u001b[39;00m\u001b[38;5;124m \u001b[39m\u001b[38;5;130;01m\\x01\u001b[39;00m\u001b[38;5;124m(\u001b[39m\u001b[38;5;130;01m\\x05\u001b[39;00m\u001b[38;5;124m:\u001b[39m\u001b[38;5;130;01m\\x01\u001b[39;00m\u001b[38;5;130;01m\\x35\u001b[39;00m\u001b[38;5;130;01m\\x12\u001b[39;00m\u001b[38;5;124m%\u001b[39m\u001b[38;5;130;01m\\n\u001b[39;00m\u001b[38;5;130;01m\\x17\u001b[39;00m\u001b[38;5;124monce_sample_startid_len\u001b[39m\u001b[38;5;130;01m\\x18\u001b[39;00m\u001b[38;5;130;01m\\x04\u001b[39;00m\u001b[38;5;124m \u001b[39m\u001b[38;5;130;01m\\x01\u001b[39;00m\u001b[38;5;124m(\u001b[39m\u001b[38;5;130;01m\\x05\u001b[39;00m\u001b[38;5;124m:\u001b[39m\u001b[38;5;130;01m\\x04\u001b[39;00m\u001b[38;5;130;01m\\x38\u001b[39;00m\u001b[38;5;130;01m\\x30\u001b[39;00m\u001b[38;5;130;01m\\x30\u001b[39;00m\u001b[38;5;130;01m\\x30\u001b[39;00m\u001b[38;5;130;01m\\x12\u001b[39;00m\u001b[38;5;130;01m\\\"\u001b[39;00m\u001b[38;5;130;01m\\n\u001b[39;00m\u001b[38;5;130;01m\\x16\u001b[39;00m\u001b[38;5;124msample_times_one_chunk\u001b[39m\u001b[38;5;130;01m\\x18\u001b[39;00m\u001b[38;5;130;01m\\x05\u001b[39;00m\u001b[38;5;124m \u001b[39m\u001b[38;5;130;01m\\x01\u001b[39;00m\u001b[38;5;124m(\u001b[39m\u001b[38;5;130;01m\\x05\u001b[39;00m\u001b[38;5;124m:\u001b[39m\u001b[38;5;130;01m\\x02\u001b[39;00m\u001b[38;5;130;01m\\x31\u001b[39;00m\u001b[38;5;130;01m\\x30\u001b[39;00m\u001b[38;5;130;01m\\x12\u001b[39;00m\u001b[38;5;130;01m\\x15\u001b[39;00m\u001b[38;5;130;01m\\n\u001b[39;00m\u001b[38;5;130;01m\\n\u001b[39;00m\u001b[38;5;124mbatch_size\u001b[39m\u001b[38;5;130;01m\\x18\u001b[39;00m\u001b[38;5;130;01m\\x06\u001b[39;00m\u001b[38;5;124m \u001b[39m\u001b[38;5;130;01m\\x01\u001b[39;00m\u001b[38;5;124m(\u001b[39m\u001b[38;5;130;01m\\x05\u001b[39;00m\u001b[38;5;124m:\u001b[39m\u001b[38;5;130;01m\\x01\u001b[39;00m\u001b[38;5;130;01m\\x31\u001b[39;00m\u001b[38;5;130;01m\\x12\u001b[39;00m\u001b[38;5;130;01m\\x15\u001b[39;00m\u001b[38;5;130;01m\\n\u001b[39;00m\u001b[38;5;130;01m\\n\u001b[39;00m\u001b[38;5;124mdebug_mode\u001b[39m\u001b[38;5;130;01m\\x18\u001b[39;00m\u001b[38;5;130;01m\\x07\u001b[39;00m\u001b[38;5;124m \u001b[39m\u001b[38;5;130;01m\\x01\u001b[39;00m\u001b[38;5;124m(\u001b[39m\u001b[38;5;130;01m\\x05\u001b[39;00m\u001b[38;5;124m:\u001b[39m\u001b[38;5;130;01m\\x01\u001b[39;00m\u001b[38;5;130;01m\\x30\u001b[39;00m\u001b[38;5;130;01m\\x12\u001b[39;00m\u001b[38;5;130;01m\\x17\u001b[39;00m\u001b[38;5;130;01m\\n\u001b[39;00m\u001b[38;5;130;01m\\x0f\u001b[39;00m\u001b[38;5;130;01m\\x66\u001b[39;00m\u001b[38;5;124mirst_node_type\u001b[39m\u001b[38;5;130;01m\\x18\u001b[39;00m\u001b[38;5;130;01m\\x08\u001b[39;00m\u001b[38;5;124m \u001b[39m\u001b[38;5;130;01m\\x01\u001b[39;00m\u001b[38;5;124m(\u001b[39m\u001b[38;5;130;01m\\t\u001b[39;00m\u001b[38;5;130;01m\\x12\u001b[39;00m\u001b[38;5;130;01m\\x11\u001b[39;00m\u001b[38;5;130;01m\\n\u001b[39;00m\u001b[38;5;130;01m\\t\u001b[39;00m\u001b[38;5;124mmeta_path\u001b[39m\u001b[38;5;130;01m\\x18\u001b[39;00m\u001b[38;5;130;01m\\t\u001b[39;00m\u001b[38;5;124m \u001b[39m\u001b[38;5;130;01m\\x01\u001b[39;00m\u001b[38;5;124m(\u001b[39m\u001b[38;5;130;01m\\t\u001b[39;00m\u001b[38;5;130;01m\\x12\u001b[39;00m\u001b[38;5;124m \u001b[39m\u001b[38;5;130;01m\\n\u001b[39;00m\u001b[38;5;130;01m\\x12\u001b[39;00m\u001b[38;5;124mgpu_graph_training\u001b[39m\u001b[38;5;130;01m\\x18\u001b[39;00m\u001b[38;5;130;01m\\n\u001b[39;00m\u001b[38;5;124m \u001b[39m\u001b[38;5;130;01m\\x01\u001b[39;00m\u001b[38;5;124m(\u001b[39m\u001b[38;5;130;01m\\x08\u001b[39;00m\u001b[38;5;124m:\u001b[39m\u001b[38;5;130;01m\\x04\u001b[39;00m\u001b[38;5;124mtrue\u001b[39m\u001b[38;5;130;01m\\x12\u001b[39;00m\u001b[38;5;130;01m\\x18\u001b[39;00m\u001b[38;5;130;01m\\n\u001b[39;00m\u001b[38;5;130;01m\\t\u001b[39;00m\u001b[38;5;124msage_mode\u001b[39m\u001b[38;5;130;01m\\x18\u001b[39;00m\u001b[38;5;130;01m\\x0b\u001b[39;00m\u001b[38;5;124m \u001b[39m\u001b[38;5;130;01m\\x01\u001b[39;00m\u001b[38;5;124m(\u001b[39m\u001b[38;5;130;01m\\x08\u001b[39;00m\u001b[38;5;124m:\u001b[39m\u001b[38;5;130;01m\\x05\u001b[39;00m\u001b[38;5;130;01m\\x66\u001b[39;00m\u001b[38;5;130;01m\\x61\u001b[39;00m\u001b[38;5;124mlse\u001b[39m\u001b[38;5;130;01m\\x12\u001b[39;00m\u001b[38;5;130;01m\\x0f\u001b[39;00m\u001b[38;5;130;01m\\n\u001b[39;00m\u001b[38;5;130;01m\\x07\u001b[39;00m\u001b[38;5;124msamples\u001b[39m\u001b[38;5;130;01m\\x18\u001b[39;00m\u001b[38;5;130;01m\\x0c\u001b[39;00m\u001b[38;5;124m \u001b[39m\u001b[38;5;130;01m\\x01\u001b[39;00m\u001b[38;5;124m(\u001b[39m\u001b[38;5;130;01m\\t\u001b[39;00m\u001b[38;5;130;01m\\x12\u001b[39;00m\u001b[38;5;130;01m\\x1e\u001b[39;00m\u001b[38;5;130;01m\\n\u001b[39;00m\u001b[38;5;130;01m\\x0f\u001b[39;00m\u001b[38;5;124mtrain_table_cap\u001b[39m\u001b[38;5;130;01m\\x18\u001b[39;00m\u001b[38;5;130;01m\\r\u001b[39;00m\u001b[38;5;124m \u001b[39m\u001b[38;5;130;01m\\x01\u001b[39;00m\u001b[38;5;124m(\u001b[39m\u001b[38;5;130;01m\\x03\u001b[39;00m\u001b[38;5;124m:\u001b[39m\u001b[38;5;130;01m\\x05\u001b[39;00m\u001b[38;5;130;01m\\x38\u001b[39;00m\u001b[38;5;130;01m\\x30\u001b[39;00m\u001b[38;5;130;01m\\x30\u001b[39;00m\u001b[38;5;130;01m\\x30\u001b[39;00m\u001b[38;5;130;01m\\x30\u001b[39;00m\u001b[38;5;130;01m\\x12\u001b[39;00m\u001b[38;5;130;01m\\x1e\u001b[39;00m\u001b[38;5;130;01m\\n\u001b[39;00m\u001b[38;5;130;01m\\x0f\u001b[39;00m\u001b[38;5;124minfer_table_cap\u001b[39m\u001b[38;5;130;01m\\x18\u001b[39;00m\u001b[38;5;130;01m\\x0e\u001b[39;00m\u001b[38;5;124m \u001b[39m\u001b[38;5;130;01m\\x01\u001b[39;00m\u001b[38;5;124m(\u001b[39m\u001b[38;5;130;01m\\x03\u001b[39;00m\u001b[38;5;124m:\u001b[39m\u001b[38;5;130;01m\\x05\u001b[39;00m\u001b[38;5;130;01m\\x38\u001b[39;00m\u001b[38;5;130;01m\\x30\u001b[39;00m\u001b[38;5;130;01m\\x30\u001b[39;00m\u001b[38;5;130;01m\\x30\u001b[39;00m\u001b[38;5;130;01m\\x30\u001b[39;00m\u001b[38;5;130;01m\\x12\u001b[39;00m\u001b[38;5;130;01m\\x1b\u001b[39;00m\u001b[38;5;130;01m\\n\u001b[39;00m\u001b[38;5;130;01m\\x13\u001b[39;00m\u001b[38;5;130;01m\\x65\u001b[39;00m\u001b[38;5;124mxcluded_train_pair\u001b[39m\u001b[38;5;130;01m\\x18\u001b[39;00m\u001b[38;5;130;01m\\x0f\u001b[39;00m\u001b[38;5;124m \u001b[39m\u001b[38;5;130;01m\\x01\u001b[39;00m\u001b[38;5;124m(\u001b[39m\u001b[38;5;130;01m\\t\u001b[39;00m\u001b[38;5;130;01m\\x12\u001b[39;00m\u001b[38;5;130;01m\\x17\u001b[39;00m\u001b[38;5;130;01m\\n\u001b[39;00m\u001b[38;5;130;01m\\x0f\u001b[39;00m\u001b[38;5;124minfer_node_type\u001b[39m\u001b[38;5;130;01m\\x18\u001b[39;00m\u001b[38;5;130;01m\\x10\u001b[39;00m\u001b[38;5;124m \u001b[39m\u001b[38;5;130;01m\\x01\u001b[39;00m\u001b[38;5;124m(\u001b[39m\u001b[38;5;130;01m\\t\u001b[39;00m\u001b[38;5;130;01m\\x12\u001b[39;00m\u001b[38;5;130;01m\\x19\u001b[39;00m\u001b[38;5;130;01m\\n\u001b[39;00m\u001b[38;5;130;01m\\n\u001b[39;00m\u001b[38;5;124mget_degree\u001b[39m\u001b[38;5;130;01m\\x18\u001b[39;00m\u001b[38;5;130;01m\\x11\u001b[39;00m\u001b[38;5;124m \u001b[39m\u001b[38;5;130;01m\\x01\u001b[39;00m\u001b[38;5;124m(\u001b[39m\u001b[38;5;130;01m\\x08\u001b[39;00m\u001b[38;5;124m:\u001b[39m\u001b[38;5;130;01m\\x05\u001b[39;00m\u001b[38;5;130;01m\\x66\u001b[39;00m\u001b[38;5;130;01m\\x61\u001b[39;00m\u001b[38;5;124mlse\u001b[39m\u001b[38;5;130;01m\\x12\u001b[39;00m\u001b[38;5;130;01m\\x1e\u001b[39;00m\u001b[38;5;130;01m\\n\u001b[39;00m\u001b[38;5;130;01m\\x0f\u001b[39;00m\u001b[38;5;124mweighted_sample\u001b[39m\u001b[38;5;130;01m\\x18\u001b[39;00m\u001b[38;5;130;01m\\x12\u001b[39;00m\u001b[38;5;124m \u001b[39m\u001b[38;5;130;01m\\x01\u001b[39;00m\u001b[38;5;124m(\u001b[39m\u001b[38;5;130;01m\\x08\u001b[39;00m\u001b[38;5;124m:\u001b[39m\u001b[38;5;130;01m\\x05\u001b[39;00m\u001b[38;5;130;01m\\x66\u001b[39;00m\u001b[38;5;130;01m\\x61\u001b[39;00m\u001b[38;5;124mlse\u001b[39m\u001b[38;5;130;01m\\x12\u001b[39;00m\u001b[38;5;130;01m\\x1c\u001b[39;00m\u001b[38;5;130;01m\\n\u001b[39;00m\u001b[38;5;130;01m\\r\u001b[39;00m\u001b[38;5;124mreturn_weight\u001b[39m\u001b[38;5;130;01m\\x18\u001b[39;00m\u001b[38;5;130;01m\\x13\u001b[39;00m\u001b[38;5;124m \u001b[39m\u001b[38;5;130;01m\\x01\u001b[39;00m\u001b[38;5;124m(\u001b[39m\u001b[38;5;130;01m\\x08\u001b[39;00m\u001b[38;5;124m:\u001b[39m\u001b[38;5;130;01m\\x05\u001b[39;00m\u001b[38;5;130;01m\\x66\u001b[39;00m\u001b[38;5;130;01m\\x61\u001b[39;00m\u001b[38;5;124mlse\u001b[39m\u001b[38;5;130;01m\\x12\u001b[39;00m\u001b[38;5;130;01m\\x12\u001b[39;00m\u001b[38;5;130;01m\\n\u001b[39;00m\u001b[38;5;130;01m\\n\u001b[39;00m\u001b[38;5;124mpair_label\u001b[39m\u001b[38;5;130;01m\\x18\u001b[39;00m\u001b[38;5;130;01m\\x14\u001b[39;00m\u001b[38;5;124m \u001b[39m\u001b[38;5;130;01m\\x01\u001b[39;00m\u001b[38;5;124m(\u001b[39m\u001b[38;5;130;01m\\t\u001b[39;00m\u001b[38;5;130;01m\\x12\u001b[39;00m\u001b[38;5;124m!\u001b[39m\u001b[38;5;130;01m\\n\u001b[39;00m\u001b[38;5;130;01m\\x12\u001b[39;00m\u001b[38;5;124mis_thread_sharding\u001b[39m\u001b[38;5;130;01m\\x18\u001b[39;00m\u001b[38;5;130;01m\\x15\u001b[39;00m\u001b[38;5;124m \u001b[39m\u001b[38;5;130;01m\\x01\u001b[39;00m\u001b[38;5;124m(\u001b[39m\u001b[38;5;130;01m\\x08\u001b[39;00m\u001b[38;5;124m:\u001b[39m\u001b[38;5;130;01m\\x05\u001b[39;00m\u001b[38;5;130;01m\\x66\u001b[39;00m\u001b[38;5;130;01m\\x61\u001b[39;00m\u001b[38;5;124mlse\u001b[39m\u001b[38;5;130;01m\\x12\u001b[39;00m\u001b[38;5;130;01m\\x19\u001b[39;00m\u001b[38;5;130;01m\\n\u001b[39;00m\u001b[38;5;130;01m\\x0e\u001b[39;00m\u001b[38;5;130;01m\\x61\u001b[39;00m\u001b[38;5;130;01m\\x63\u001b[39;00m\u001b[38;5;130;01m\\x63\u001b[39;00m\u001b[38;5;124mumulate_num\u001b[39m\u001b[38;5;130;01m\\x18\u001b[39;00m\u001b[38;5;130;01m\\x16\u001b[39;00m\u001b[38;5;124m \u001b[39m\u001b[38;5;130;01m\\x01\u001b[39;00m\u001b[38;5;124m(\u001b[39m\u001b[38;5;130;01m\\x05\u001b[39;00m\u001b[38;5;124m:\u001b[39m\u001b[38;5;130;01m\\x01\u001b[39;00m\u001b[38;5;130;01m\\x31\u001b[39;00m\u001b[38;5;130;01m\\\"\u001b[39;00m\u001b[38;5;130;01m\\xac\u001b[39;00m\u001b[38;5;130;01m\\x02\u001b[39;00m\u001b[38;5;130;01m\\n\u001b[39;00m\u001b[38;5;130;01m\\x0c\u001b[39;00m\u001b[38;5;130;01m\\x44\u001b[39;00m\u001b[38;5;130;01m\\x61\u001b[39;00m\u001b[38;5;124mtaFeedDesc\u001b[39m\u001b[38;5;130;01m\\x12\u001b[39;00m\u001b[38;5;130;01m\\x0c\u001b[39;00m\u001b[38;5;130;01m\\n\u001b[39;00m\u001b[38;5;130;01m\\x04\u001b[39;00m\u001b[38;5;124mname\u001b[39m\u001b[38;5;130;01m\\x18\u001b[39;00m\u001b[38;5;130;01m\\x01\u001b[39;00m\u001b[38;5;124m \u001b[39m\u001b[38;5;130;01m\\x01\u001b[39;00m\u001b[38;5;124m(\u001b[39m\u001b[38;5;130;01m\\t\u001b[39;00m\u001b[38;5;130;01m\\x12\u001b[39;00m\u001b[38;5;130;01m\\x16\u001b[39;00m\u001b[38;5;130;01m\\n\u001b[39;00m\u001b[38;5;130;01m\\n\u001b[39;00m\u001b[38;5;124mbatch_size\u001b[39m\u001b[38;5;130;01m\\x18\u001b[39;00m\u001b[38;5;130;01m\\x02\u001b[39;00m\u001b[38;5;124m \u001b[39m\u001b[38;5;130;01m\\x01\u001b[39;00m\u001b[38;5;124m(\u001b[39m\u001b[38;5;130;01m\\x05\u001b[39;00m\u001b[38;5;124m:\u001b[39m\u001b[38;5;130;01m\\x02\u001b[39;00m\u001b[38;5;130;01m\\x33\u001b[39;00m\u001b[38;5;130;01m\\x32\u001b[39;00m\u001b[38;5;130;01m\\x12\u001b[39;00m\u001b[38;5;130;01m\\x38\u001b[39;00m\u001b[38;5;130;01m\\n\u001b[39;00m\u001b[38;5;130;01m\\x0f\u001b[39;00m\u001b[38;5;124mmulti_slot_desc\u001b[39m\u001b[38;5;130;01m\\x18\u001b[39;00m\u001b[38;5;130;01m\\x03\u001b[39;00m\u001b[38;5;124m \u001b[39m\u001b[38;5;130;01m\\x01\u001b[39;00m\u001b[38;5;124m(\u001b[39m\u001b[38;5;130;01m\\x0b\u001b[39;00m\u001b[38;5;130;01m\\x32\u001b[39;00m\u001b[38;5;130;01m\\x1f\u001b[39;00m\u001b[38;5;124m.paddle.framework.MultiSlotDesc\u001b[39m\u001b[38;5;130;01m\\x12\u001b[39;00m\u001b[38;5;130;01m\\x14\u001b[39;00m\u001b[38;5;130;01m\\n\u001b[39;00m\u001b[38;5;130;01m\\x0c\u001b[39;00m\u001b[38;5;124mpipe_command\u001b[39m\u001b[38;5;130;01m\\x18\u001b[39;00m\u001b[38;5;130;01m\\x04\u001b[39;00m\u001b[38;5;124m \u001b[39m\u001b[38;5;130;01m\\x01\u001b[39;00m\u001b[38;5;124m(\u001b[39m\u001b[38;5;130;01m\\t\u001b[39;00m\u001b[38;5;130;01m\\x12\u001b[39;00m\u001b[38;5;130;01m\\x12\u001b[39;00m\u001b[38;5;130;01m\\n\u001b[39;00m\u001b[38;5;130;01m\\n\u001b[39;00m\u001b[38;5;124mthread_num\u001b[39m\u001b[38;5;130;01m\\x18\u001b[39;00m\u001b[38;5;130;01m\\x05\u001b[39;00m\u001b[38;5;124m \u001b[39m\u001b[38;5;130;01m\\x01\u001b[39;00m\u001b[38;5;124m(\u001b[39m\u001b[38;5;130;01m\\x05\u001b[39;00m\u001b[38;5;130;01m\\x12\u001b[39;00m\u001b[38;5;130;01m\\x13\u001b[39;00m\u001b[38;5;130;01m\\n\u001b[39;00m\u001b[38;5;130;01m\\x0b\u001b[39;00m\u001b[38;5;124mrank_offset\u001b[39m\u001b[38;5;130;01m\\x18\u001b[39;00m\u001b[38;5;130;01m\\x06\u001b[39;00m\u001b[38;5;124m \u001b[39m\u001b[38;5;130;01m\\x01\u001b[39;00m\u001b[38;5;124m(\u001b[39m\u001b[38;5;130;01m\\t\u001b[39;00m\u001b[38;5;130;01m\\x12\u001b[39;00m\u001b[38;5;130;01m\\x19\u001b[39;00m\u001b[38;5;130;01m\\n\u001b[39;00m\u001b[38;5;130;01m\\r\u001b[39;00m\u001b[38;5;124mpv_batch_size\u001b[39m\u001b[38;5;130;01m\\x18\u001b[39;00m\u001b[38;5;130;01m\\x07\u001b[39;00m\u001b[38;5;124m \u001b[39m\u001b[38;5;130;01m\\x01\u001b[39;00m\u001b[38;5;124m(\u001b[39m\u001b[38;5;130;01m\\x05\u001b[39;00m\u001b[38;5;124m:\u001b[39m\u001b[38;5;130;01m\\x02\u001b[39;00m\u001b[38;5;130;01m\\x33\u001b[39;00m\u001b[38;5;130;01m\\x32\u001b[39;00m\u001b[38;5;130;01m\\x12\u001b[39;00m\u001b[38;5;130;01m\\x15\u001b[39;00m\u001b[38;5;130;01m\\n\u001b[39;00m\u001b[38;5;130;01m\\n\u001b[39;00m\u001b[38;5;124minput_type\u001b[39m\u001b[38;5;130;01m\\x18\u001b[39;00m\u001b[38;5;130;01m\\x08\u001b[39;00m\u001b[38;5;124m \u001b[39m\u001b[38;5;130;01m\\x01\u001b[39;00m\u001b[38;5;124m(\u001b[39m\u001b[38;5;130;01m\\x05\u001b[39;00m\u001b[38;5;124m:\u001b[39m\u001b[38;5;130;01m\\x01\u001b[39;00m\u001b[38;5;130;01m\\x30\u001b[39;00m\u001b[38;5;130;01m\\x12\u001b[39;00m\u001b[38;5;130;01m\\x16\u001b[39;00m\u001b[38;5;130;01m\\n\u001b[39;00m\u001b[38;5;130;01m\\x0e\u001b[39;00m\u001b[38;5;124mso_parser_name\u001b[39m\u001b[38;5;130;01m\\x18\u001b[39;00m\u001b[38;5;130;01m\\t\u001b[39;00m\u001b[38;5;124m \u001b[39m\u001b[38;5;130;01m\\x01\u001b[39;00m\u001b[38;5;124m(\u001b[39m\u001b[38;5;130;01m\\t\u001b[39;00m\u001b[38;5;130;01m\\x12\u001b[39;00m\u001b[38;5;130;01m\\x33\u001b[39;00m\u001b[38;5;130;01m\\n\u001b[39;00m\u001b[38;5;130;01m\\x0c\u001b[39;00m\u001b[38;5;124mgraph_config\u001b[39m\u001b[38;5;130;01m\\x18\u001b[39;00m\u001b[38;5;130;01m\\n\u001b[39;00m\u001b[38;5;124m \u001b[39m\u001b[38;5;130;01m\\x01\u001b[39;00m\u001b[38;5;124m(\u001b[39m\u001b[38;5;130;01m\\x0b\u001b[39;00m\u001b[38;5;130;01m\\x32\u001b[39;00m\u001b[38;5;130;01m\\x1d\u001b[39;00m\u001b[38;5;124m.paddle.framework.GraphConfig\u001b[39m\u001b[38;5;124m'\u001b[39m)\n\u001b[0;32m     23\u001b[0m )\n\u001b[0;32m     24\u001b[0m _sym_db\u001b[38;5;241m.\u001b[39mRegisterFileDescriptor(DESCRIPTOR)\n\u001b[0;32m     29\u001b[0m _SLOT \u001b[38;5;241m=\u001b[39m _descriptor\u001b[38;5;241m.\u001b[39mDescriptor(\n\u001b[0;32m     30\u001b[0m   name\u001b[38;5;241m=\u001b[39m\u001b[38;5;124m'\u001b[39m\u001b[38;5;124mSlot\u001b[39m\u001b[38;5;124m'\u001b[39m,\n\u001b[0;32m     31\u001b[0m   full_name\u001b[38;5;241m=\u001b[39m\u001b[38;5;124m'\u001b[39m\u001b[38;5;124mpaddle.framework.Slot\u001b[39m\u001b[38;5;124m'\u001b[39m,\n\u001b[0;32m     32\u001b[0m   filename\u001b[38;5;241m=\u001b[39m\u001b[38;5;28;01mNone\u001b[39;00m,\n\u001b[0;32m     33\u001b[0m   file\u001b[38;5;241m=\u001b[39mDESCRIPTOR,\n\u001b[0;32m     34\u001b[0m   containing_type\u001b[38;5;241m=\u001b[39m\u001b[38;5;28;01mNone\u001b[39;00m,\n\u001b[0;32m     35\u001b[0m   fields\u001b[38;5;241m=\u001b[39m[\n\u001b[1;32m---> 36\u001b[0m     _descriptor\u001b[38;5;241m.\u001b[39mFieldDescriptor(\n\u001b[0;32m     37\u001b[0m       name\u001b[38;5;241m=\u001b[39m\u001b[38;5;124m'\u001b[39m\u001b[38;5;124mname\u001b[39m\u001b[38;5;124m'\u001b[39m, full_name\u001b[38;5;241m=\u001b[39m\u001b[38;5;124m'\u001b[39m\u001b[38;5;124mpaddle.framework.Slot.name\u001b[39m\u001b[38;5;124m'\u001b[39m, index\u001b[38;5;241m=\u001b[39m\u001b[38;5;241m0\u001b[39m,\n\u001b[0;32m     38\u001b[0m       number\u001b[38;5;241m=\u001b[39m\u001b[38;5;241m1\u001b[39m, \u001b[38;5;28mtype\u001b[39m\u001b[38;5;241m=\u001b[39m\u001b[38;5;241m9\u001b[39m, cpp_type\u001b[38;5;241m=\u001b[39m\u001b[38;5;241m9\u001b[39m, label\u001b[38;5;241m=\u001b[39m\u001b[38;5;241m2\u001b[39m,\n\u001b[0;32m     39\u001b[0m       has_default_value\u001b[38;5;241m=\u001b[39m\u001b[38;5;28;01mFalse\u001b[39;00m, default_value\u001b[38;5;241m=\u001b[39m_b(\u001b[38;5;124m\"\u001b[39m\u001b[38;5;124m\"\u001b[39m)\u001b[38;5;241m.\u001b[39mdecode(\u001b[38;5;124m'\u001b[39m\u001b[38;5;124mutf-8\u001b[39m\u001b[38;5;124m'\u001b[39m),\n\u001b[0;32m     40\u001b[0m       message_type\u001b[38;5;241m=\u001b[39m\u001b[38;5;28;01mNone\u001b[39;00m, enum_type\u001b[38;5;241m=\u001b[39m\u001b[38;5;28;01mNone\u001b[39;00m, containing_type\u001b[38;5;241m=\u001b[39m\u001b[38;5;28;01mNone\u001b[39;00m,\n\u001b[0;32m     41\u001b[0m       is_extension\u001b[38;5;241m=\u001b[39m\u001b[38;5;28;01mFalse\u001b[39;00m, extension_scope\u001b[38;5;241m=\u001b[39m\u001b[38;5;28;01mNone\u001b[39;00m,\n\u001b[0;32m     42\u001b[0m       options\u001b[38;5;241m=\u001b[39m\u001b[38;5;28;01mNone\u001b[39;00m),\n\u001b[0;32m     43\u001b[0m     _descriptor\u001b[38;5;241m.\u001b[39mFieldDescriptor(\n\u001b[0;32m     44\u001b[0m       name\u001b[38;5;241m=\u001b[39m\u001b[38;5;124m'\u001b[39m\u001b[38;5;124mtype\u001b[39m\u001b[38;5;124m'\u001b[39m, full_name\u001b[38;5;241m=\u001b[39m\u001b[38;5;124m'\u001b[39m\u001b[38;5;124mpaddle.framework.Slot.type\u001b[39m\u001b[38;5;124m'\u001b[39m, index\u001b[38;5;241m=\u001b[39m\u001b[38;5;241m1\u001b[39m,\n\u001b[0;32m     45\u001b[0m       number\u001b[38;5;241m=\u001b[39m\u001b[38;5;241m2\u001b[39m, \u001b[38;5;28mtype\u001b[39m\u001b[38;5;241m=\u001b[39m\u001b[38;5;241m9\u001b[39m, cpp_type\u001b[38;5;241m=\u001b[39m\u001b[38;5;241m9\u001b[39m, label\u001b[38;5;241m=\u001b[39m\u001b[38;5;241m2\u001b[39m,\n\u001b[0;32m     46\u001b[0m       has_default_value\u001b[38;5;241m=\u001b[39m\u001b[38;5;28;01mFalse\u001b[39;00m, default_value\u001b[38;5;241m=\u001b[39m_b(\u001b[38;5;124m\"\u001b[39m\u001b[38;5;124m\"\u001b[39m)\u001b[38;5;241m.\u001b[39mdecode(\u001b[38;5;124m'\u001b[39m\u001b[38;5;124mutf-8\u001b[39m\u001b[38;5;124m'\u001b[39m),\n\u001b[0;32m     47\u001b[0m       message_type\u001b[38;5;241m=\u001b[39m\u001b[38;5;28;01mNone\u001b[39;00m, enum_type\u001b[38;5;241m=\u001b[39m\u001b[38;5;28;01mNone\u001b[39;00m, containing_type\u001b[38;5;241m=\u001b[39m\u001b[38;5;28;01mNone\u001b[39;00m,\n\u001b[0;32m     48\u001b[0m       is_extension\u001b[38;5;241m=\u001b[39m\u001b[38;5;28;01mFalse\u001b[39;00m, extension_scope\u001b[38;5;241m=\u001b[39m\u001b[38;5;28;01mNone\u001b[39;00m,\n\u001b[0;32m     49\u001b[0m       options\u001b[38;5;241m=\u001b[39m\u001b[38;5;28;01mNone\u001b[39;00m),\n\u001b[0;32m     50\u001b[0m     _descriptor\u001b[38;5;241m.\u001b[39mFieldDescriptor(\n\u001b[0;32m     51\u001b[0m       name\u001b[38;5;241m=\u001b[39m\u001b[38;5;124m'\u001b[39m\u001b[38;5;124mis_dense\u001b[39m\u001b[38;5;124m'\u001b[39m, full_name\u001b[38;5;241m=\u001b[39m\u001b[38;5;124m'\u001b[39m\u001b[38;5;124mpaddle.framework.Slot.is_dense\u001b[39m\u001b[38;5;124m'\u001b[39m, index\u001b[38;5;241m=\u001b[39m\u001b[38;5;241m2\u001b[39m,\n\u001b[0;32m     52\u001b[0m       number\u001b[38;5;241m=\u001b[39m\u001b[38;5;241m3\u001b[39m, \u001b[38;5;28mtype\u001b[39m\u001b[38;5;241m=\u001b[39m\u001b[38;5;241m8\u001b[39m, cpp_type\u001b[38;5;241m=\u001b[39m\u001b[38;5;241m7\u001b[39m, label\u001b[38;5;241m=\u001b[39m\u001b[38;5;241m1\u001b[39m,\n\u001b[0;32m     53\u001b[0m       has_default_value\u001b[38;5;241m=\u001b[39m\u001b[38;5;28;01mTrue\u001b[39;00m, default_value\u001b[38;5;241m=\u001b[39m\u001b[38;5;28;01mFalse\u001b[39;00m,\n\u001b[0;32m     54\u001b[0m       message_type\u001b[38;5;241m=\u001b[39m\u001b[38;5;28;01mNone\u001b[39;00m, enum_type\u001b[38;5;241m=\u001b[39m\u001b[38;5;28;01mNone\u001b[39;00m, containing_type\u001b[38;5;241m=\u001b[39m\u001b[38;5;28;01mNone\u001b[39;00m,\n\u001b[0;32m     55\u001b[0m       is_extension\u001b[38;5;241m=\u001b[39m\u001b[38;5;28;01mFalse\u001b[39;00m, extension_scope\u001b[38;5;241m=\u001b[39m\u001b[38;5;28;01mNone\u001b[39;00m,\n\u001b[0;32m     56\u001b[0m       options\u001b[38;5;241m=\u001b[39m\u001b[38;5;28;01mNone\u001b[39;00m),\n\u001b[0;32m     57\u001b[0m     _descriptor\u001b[38;5;241m.\u001b[39mFieldDescriptor(\n\u001b[0;32m     58\u001b[0m       name\u001b[38;5;241m=\u001b[39m\u001b[38;5;124m'\u001b[39m\u001b[38;5;124mis_used\u001b[39m\u001b[38;5;124m'\u001b[39m, full_name\u001b[38;5;241m=\u001b[39m\u001b[38;5;124m'\u001b[39m\u001b[38;5;124mpaddle.framework.Slot.is_used\u001b[39m\u001b[38;5;124m'\u001b[39m, index\u001b[38;5;241m=\u001b[39m\u001b[38;5;241m3\u001b[39m,\n\u001b[0;32m     59\u001b[0m       number\u001b[38;5;241m=\u001b[39m\u001b[38;5;241m4\u001b[39m, \u001b[38;5;28mtype\u001b[39m\u001b[38;5;241m=\u001b[39m\u001b[38;5;241m8\u001b[39m, cpp_type\u001b[38;5;241m=\u001b[39m\u001b[38;5;241m7\u001b[39m, label\u001b[38;5;241m=\u001b[39m\u001b[38;5;241m1\u001b[39m,\n\u001b[0;32m     60\u001b[0m       has_default_value\u001b[38;5;241m=\u001b[39m\u001b[38;5;28;01mTrue\u001b[39;00m, default_value\u001b[38;5;241m=\u001b[39m\u001b[38;5;28;01mFalse\u001b[39;00m,\n\u001b[0;32m     61\u001b[0m       message_type\u001b[38;5;241m=\u001b[39m\u001b[38;5;28;01mNone\u001b[39;00m, enum_type\u001b[38;5;241m=\u001b[39m\u001b[38;5;28;01mNone\u001b[39;00m, containing_type\u001b[38;5;241m=\u001b[39m\u001b[38;5;28;01mNone\u001b[39;00m,\n\u001b[0;32m     62\u001b[0m       is_extension\u001b[38;5;241m=\u001b[39m\u001b[38;5;28;01mFalse\u001b[39;00m, extension_scope\u001b[38;5;241m=\u001b[39m\u001b[38;5;28;01mNone\u001b[39;00m,\n\u001b[0;32m     63\u001b[0m       options\u001b[38;5;241m=\u001b[39m\u001b[38;5;28;01mNone\u001b[39;00m),\n\u001b[0;32m     64\u001b[0m     _descriptor\u001b[38;5;241m.\u001b[39mFieldDescriptor(\n\u001b[0;32m     65\u001b[0m       name\u001b[38;5;241m=\u001b[39m\u001b[38;5;124m'\u001b[39m\u001b[38;5;124mshape\u001b[39m\u001b[38;5;124m'\u001b[39m, full_name\u001b[38;5;241m=\u001b[39m\u001b[38;5;124m'\u001b[39m\u001b[38;5;124mpaddle.framework.Slot.shape\u001b[39m\u001b[38;5;124m'\u001b[39m, index\u001b[38;5;241m=\u001b[39m\u001b[38;5;241m4\u001b[39m,\n\u001b[0;32m     66\u001b[0m       number\u001b[38;5;241m=\u001b[39m\u001b[38;5;241m5\u001b[39m, \u001b[38;5;28mtype\u001b[39m\u001b[38;5;241m=\u001b[39m\u001b[38;5;241m5\u001b[39m, cpp_type\u001b[38;5;241m=\u001b[39m\u001b[38;5;241m1\u001b[39m, label\u001b[38;5;241m=\u001b[39m\u001b[38;5;241m3\u001b[39m,\n\u001b[0;32m     67\u001b[0m       has_default_value\u001b[38;5;241m=\u001b[39m\u001b[38;5;28;01mFalse\u001b[39;00m, default_value\u001b[38;5;241m=\u001b[39m[],\n\u001b[0;32m     68\u001b[0m       message_type\u001b[38;5;241m=\u001b[39m\u001b[38;5;28;01mNone\u001b[39;00m, enum_type\u001b[38;5;241m=\u001b[39m\u001b[38;5;28;01mNone\u001b[39;00m, containing_type\u001b[38;5;241m=\u001b[39m\u001b[38;5;28;01mNone\u001b[39;00m,\n\u001b[0;32m     69\u001b[0m       is_extension\u001b[38;5;241m=\u001b[39m\u001b[38;5;28;01mFalse\u001b[39;00m, extension_scope\u001b[38;5;241m=\u001b[39m\u001b[38;5;28;01mNone\u001b[39;00m,\n\u001b[0;32m     70\u001b[0m       options\u001b[38;5;241m=\u001b[39m\u001b[38;5;28;01mNone\u001b[39;00m),\n\u001b[0;32m     71\u001b[0m   ],\n\u001b[0;32m     72\u001b[0m   extensions\u001b[38;5;241m=\u001b[39m[\n\u001b[0;32m     73\u001b[0m   ],\n\u001b[0;32m     74\u001b[0m   nested_types\u001b[38;5;241m=\u001b[39m[],\n\u001b[0;32m     75\u001b[0m   enum_types\u001b[38;5;241m=\u001b[39m[\n\u001b[0;32m     76\u001b[0m   ],\n\u001b[0;32m     77\u001b[0m   options\u001b[38;5;241m=\u001b[39m\u001b[38;5;28;01mNone\u001b[39;00m,\n\u001b[0;32m     78\u001b[0m   is_extendable\u001b[38;5;241m=\u001b[39m\u001b[38;5;28;01mFalse\u001b[39;00m,\n\u001b[0;32m     79\u001b[0m   syntax\u001b[38;5;241m=\u001b[39m\u001b[38;5;124m'\u001b[39m\u001b[38;5;124mproto2\u001b[39m\u001b[38;5;124m'\u001b[39m,\n\u001b[0;32m     80\u001b[0m   extension_ranges\u001b[38;5;241m=\u001b[39m[],\n\u001b[0;32m     81\u001b[0m   oneofs\u001b[38;5;241m=\u001b[39m[\n\u001b[0;32m     82\u001b[0m   ],\n\u001b[0;32m     83\u001b[0m   serialized_start\u001b[38;5;241m=\u001b[39m\u001b[38;5;241m60\u001b[39m,\n\u001b[0;32m     84\u001b[0m   serialized_end\u001b[38;5;241m=\u001b[39m\u001b[38;5;241m158\u001b[39m,\n\u001b[0;32m     85\u001b[0m )\n\u001b[0;32m     88\u001b[0m _MULTISLOTDESC \u001b[38;5;241m=\u001b[39m _descriptor\u001b[38;5;241m.\u001b[39mDescriptor(\n\u001b[0;32m     89\u001b[0m   name\u001b[38;5;241m=\u001b[39m\u001b[38;5;124m'\u001b[39m\u001b[38;5;124mMultiSlotDesc\u001b[39m\u001b[38;5;124m'\u001b[39m,\n\u001b[0;32m     90\u001b[0m   full_name\u001b[38;5;241m=\u001b[39m\u001b[38;5;124m'\u001b[39m\u001b[38;5;124mpaddle.framework.MultiSlotDesc\u001b[39m\u001b[38;5;124m'\u001b[39m,\n\u001b[1;32m   (...)\u001b[0m\n\u001b[0;32m    122\u001b[0m   serialized_end\u001b[38;5;241m=\u001b[39m\u001b[38;5;241m232\u001b[39m,\n\u001b[0;32m    123\u001b[0m )\n\u001b[0;32m    126\u001b[0m _GRAPHCONFIG \u001b[38;5;241m=\u001b[39m _descriptor\u001b[38;5;241m.\u001b[39mDescriptor(\n\u001b[0;32m    127\u001b[0m   name\u001b[38;5;241m=\u001b[39m\u001b[38;5;124m'\u001b[39m\u001b[38;5;124mGraphConfig\u001b[39m\u001b[38;5;124m'\u001b[39m,\n\u001b[0;32m    128\u001b[0m   full_name\u001b[38;5;241m=\u001b[39m\u001b[38;5;124m'\u001b[39m\u001b[38;5;124mpaddle.framework.GraphConfig\u001b[39m\u001b[38;5;124m'\u001b[39m,\n\u001b[1;32m   (...)\u001b[0m\n\u001b[0;32m    300\u001b[0m   serialized_end\u001b[38;5;241m=\u001b[39m\u001b[38;5;241m844\u001b[39m,\n\u001b[0;32m    301\u001b[0m )\n",
      "File \u001b[1;32m~\\anaconda3\\Lib\\site-packages\\google\\protobuf\\descriptor.py:621\u001b[0m, in \u001b[0;36mFieldDescriptor.__new__\u001b[1;34m(cls, name, full_name, index, number, type, cpp_type, label, default_value, message_type, enum_type, containing_type, is_extension, extension_scope, options, serialized_options, has_default_value, containing_oneof, json_name, file, create_key)\u001b[0m\n\u001b[0;32m    615\u001b[0m \u001b[38;5;28;01mdef\u001b[39;00m \u001b[38;5;21m__new__\u001b[39m(\u001b[38;5;28mcls\u001b[39m, name, full_name, index, number, \u001b[38;5;28mtype\u001b[39m, cpp_type, label,\n\u001b[0;32m    616\u001b[0m             default_value, message_type, enum_type, containing_type,\n\u001b[0;32m    617\u001b[0m             is_extension, extension_scope, options\u001b[38;5;241m=\u001b[39m\u001b[38;5;28;01mNone\u001b[39;00m,\n\u001b[0;32m    618\u001b[0m             serialized_options\u001b[38;5;241m=\u001b[39m\u001b[38;5;28;01mNone\u001b[39;00m,\n\u001b[0;32m    619\u001b[0m             has_default_value\u001b[38;5;241m=\u001b[39m\u001b[38;5;28;01mTrue\u001b[39;00m, containing_oneof\u001b[38;5;241m=\u001b[39m\u001b[38;5;28;01mNone\u001b[39;00m, json_name\u001b[38;5;241m=\u001b[39m\u001b[38;5;28;01mNone\u001b[39;00m,\n\u001b[0;32m    620\u001b[0m             file\u001b[38;5;241m=\u001b[39m\u001b[38;5;28;01mNone\u001b[39;00m, create_key\u001b[38;5;241m=\u001b[39m\u001b[38;5;28;01mNone\u001b[39;00m):  \u001b[38;5;66;03m# pylint: disable=redefined-builtin\u001b[39;00m\n\u001b[1;32m--> 621\u001b[0m   _message\u001b[38;5;241m.\u001b[39mMessage\u001b[38;5;241m.\u001b[39m_CheckCalledFromGeneratedFile()\n\u001b[0;32m    622\u001b[0m   \u001b[38;5;28;01mif\u001b[39;00m is_extension:\n\u001b[0;32m    623\u001b[0m     \u001b[38;5;28;01mreturn\u001b[39;00m _message\u001b[38;5;241m.\u001b[39mdefault_pool\u001b[38;5;241m.\u001b[39mFindExtensionByName(full_name)\n",
      "\u001b[1;31mTypeError\u001b[0m: Descriptors cannot be created directly.\nIf this call came from a _pb2.py file, your generated code is out of date and must be regenerated with protoc >= 3.19.0.\nIf you cannot immediately regenerate your protos, some other possible workarounds are:\n 1. Downgrade the protobuf package to 3.20.x or lower.\n 2. Set PROTOCOL_BUFFERS_PYTHON_IMPLEMENTATION=python (but this will use pure-Python parsing and will be much slower).\n\nMore information: https://developers.google.com/protocol-buffers/docs/news/2022-05-06#python-updates"
     ]
    }
   ],
   "source": [
    "\n",
    "from paddleocr import PaddleOCR, draw_ocr # main OCR dependencies\n",
    "from matplotlib import pyplot as plt # plot images\n",
    "import cv2 #opencv\n",
    "import os # folder directory navigation"
   ]
  },
  {
   "cell_type": "code",
   "execution_count": 6,
   "id": "de924215-2e11-4ff8-8f73-74c39201a601",
   "metadata": {},
   "outputs": [
    {
     "name": "stderr",
     "output_type": "stream",
     "text": [
      "Could not make proto path relative: path/to/your/file.proto: No such file or directory\n"
     ]
    }
   ],
   "source": [
    "!protoc --python_out=. path/to/your/file.proto\n"
   ]
  },
  {
   "cell_type": "code",
   "execution_count": 10,
   "id": "3f688b46-b9a9-47f5-9387-2ead2707cca4",
   "metadata": {},
   "outputs": [
    {
     "name": "stdout",
     "output_type": "stream",
     "text": [
      "Collecting protobuf==3.20.1\n",
      "  Downloading protobuf-3.20.1-py2.py3-none-any.whl.metadata (720 bytes)\n",
      "Downloading protobuf-3.20.1-py2.py3-none-any.whl (162 kB)\n",
      "Installing collected packages: protobuf\n",
      "  Attempting uninstall: protobuf\n",
      "    Found existing installation: protobuf 5.28.3\n",
      "    Uninstalling protobuf-5.28.3:\n",
      "      Successfully uninstalled protobuf-5.28.3\n",
      "Successfully installed protobuf-3.20.1\n",
      "Note: you may need to restart the kernel to use updated packages.\n"
     ]
    },
    {
     "name": "stderr",
     "output_type": "stream",
     "text": [
      "  WARNING: Failed to remove contents in a temporary directory 'C:\\Users\\SESPL\\anaconda3\\Lib\\site-packages\\google\\~upb'.\n",
      "  You can safely remove it manually.\n",
      "ERROR: pip's dependency resolver does not currently take into account all the packages that are installed. This behaviour is the source of the following dependency conflicts.\n",
      "tensorflow-intel 2.18.0 requires protobuf!=4.21.0,!=4.21.1,!=4.21.2,!=4.21.3,!=4.21.4,!=4.21.5,<6.0.0dev,>=3.20.3, but you have protobuf 3.20.1 which is incompatible.\n"
     ]
    }
   ],
   "source": [
    "pip install protobuf==3.20.1\n"
   ]
  },
  {
   "cell_type": "code",
   "execution_count": 9,
   "id": "7094c886-e383-4b85-ab7e-370b50a9eb83",
   "metadata": {},
   "outputs": [],
   "source": [
    "from paddleocr import PaddleOCR, draw_ocr # main OCR dependencies\n",
    "from matplotlib import pyplot as plt # plot images\n",
    "import cv2 #opencv\n",
    "import os # folder directory navigation"
   ]
  },
  {
   "cell_type": "code",
   "execution_count": 11,
   "id": "833afc3f-bbda-4ea3-a17f-ae813267394b",
   "metadata": {},
   "outputs": [
    {
     "name": "stdout",
     "output_type": "stream",
     "text": [
      "[2024/11/21 10:51:05] ppocr DEBUG: Namespace(help='==SUPPRESS==', use_gpu=False, use_xpu=False, use_npu=False, use_mlu=False, ir_optim=True, use_tensorrt=False, min_subgraph_size=15, precision='fp32', gpu_mem=500, gpu_id=0, image_dir=None, page_num=0, det_algorithm='DB', det_model_dir='C:\\\\Users\\\\SESPL/.paddleocr/whl\\\\det\\\\en\\\\en_PP-OCRv3_det_infer', det_limit_side_len=960, det_limit_type='max', det_box_type='quad', det_db_thresh=0.3, det_db_box_thresh=0.6, det_db_unclip_ratio=1.5, max_batch_size=10, use_dilation=False, det_db_score_mode='fast', det_east_score_thresh=0.8, det_east_cover_thresh=0.1, det_east_nms_thresh=0.2, det_sast_score_thresh=0.5, det_sast_nms_thresh=0.2, det_pse_thresh=0, det_pse_box_thresh=0.85, det_pse_min_area=16, det_pse_scale=1, scales=[8, 16, 32], alpha=1.0, beta=1.0, fourier_degree=5, rec_algorithm='SVTR_LCNet', rec_model_dir='C:\\\\Users\\\\SESPL/.paddleocr/whl\\\\rec\\\\en\\\\en_PP-OCRv4_rec_infer', rec_image_inverse=True, rec_image_shape='3, 48, 320', rec_batch_num=6, max_text_length=25, rec_char_dict_path='C:\\\\Users\\\\SESPL\\\\anaconda3\\\\Lib\\\\site-packages\\\\paddleocr\\\\ppocr\\\\utils\\\\en_dict.txt', use_space_char=True, vis_font_path='./doc/fonts/simfang.ttf', drop_score=0.5, e2e_algorithm='PGNet', e2e_model_dir=None, e2e_limit_side_len=768, e2e_limit_type='max', e2e_pgnet_score_thresh=0.5, e2e_char_dict_path='./ppocr/utils/ic15_dict.txt', e2e_pgnet_valid_set='totaltext', e2e_pgnet_mode='fast', use_angle_cls=False, cls_model_dir='C:\\\\Users\\\\SESPL/.paddleocr/whl\\\\cls\\\\ch_ppocr_mobile_v2.0_cls_infer', cls_image_shape='3, 48, 192', label_list=['0', '180'], cls_batch_num=6, cls_thresh=0.9, enable_mkldnn=False, cpu_threads=10, use_pdserving=False, warmup=False, sr_model_dir=None, sr_image_shape='3, 32, 128', sr_batch_num=1, draw_img_save_dir='./inference_results', save_crop_res=False, crop_res_save_dir='./output', use_mp=False, total_process_num=1, process_id=0, benchmark=False, save_log_path='./log_output/', show_log=True, use_onnx=False, return_word_box=False, output='./output', table_max_len=488, table_algorithm='TableAttn', table_model_dir=None, merge_no_span_structure=True, table_char_dict_path=None, formula_algorithm='LaTeXOCR', formula_model_dir=None, formula_char_dict_path=None, formula_batch_num=1, layout_model_dir=None, layout_dict_path=None, layout_score_threshold=0.5, layout_nms_threshold=0.5, kie_algorithm='LayoutXLM', ser_model_dir=None, re_model_dir=None, use_visual_backbone=True, ser_dict_path='../train_data/XFUND/class_list_xfun.txt', ocr_order_method=None, mode='structure', image_orientation=False, layout=True, table=True, formula=False, ocr=True, recovery=False, recovery_to_markdown=False, use_pdf2docx_api=False, invert=False, binarize=False, alphacolor=(255, 255, 255), lang='en', det=True, rec=True, type='ocr', savefile=False, ocr_version='PP-OCRv4', structure_version='PP-StructureV2')\n"
     ]
    }
   ],
   "source": [
    "\n",
    "# Setup model\n",
    "ocr_model = PaddleOCR(lang='en')"
   ]
  },
  {
   "cell_type": "code",
   "execution_count": 117,
   "id": "d4beb718-230f-486d-9392-cc6b331d66ba",
   "metadata": {},
   "outputs": [],
   "source": [
    "img_path = os.path.join('.', '1kperfolder\\images_11000_12000\\photo_2024-11-19_16-37-50 (1).jpg')"
   ]
  },
  {
   "cell_type": "code",
   "execution_count": 119,
   "id": "994ff570-fafc-4edc-b0c5-6d9221e5c1da",
   "metadata": {},
   "outputs": [
    {
     "name": "stdout",
     "output_type": "stream",
     "text": [
      "[2024/11/21 16:05:09] ppocr WARNING: Since the angle classifier is not initialized, it will not be used during the forward process\n",
      "[2024/11/21 16:05:09] ppocr DEBUG: dt_boxes num : 11, elapsed : 0.25249481201171875\n",
      "[2024/11/21 16:05:10] ppocr DEBUG: rec_res num  : 11, elapsed : 0.9346520900726318\n"
     ]
    }
   ],
   "source": [
    "result = ocr_model.ocr(img_path)"
   ]
  },
  {
   "cell_type": "code",
   "execution_count": 121,
   "id": "47efc0ea-fe6c-4b5a-b83a-0f876ba7f638",
   "metadata": {},
   "outputs": [
    {
     "data": {
      "text/plain": [
       "[[[[[120.0, 11.0], [902.0, 11.0], [902.0, 61.0], [120.0, 61.0]],\n",
       "   ('*When You Finally Settled In Life*', 0.991350531578064)],\n",
       "  [[[820.0, 178.0], [979.0, 184.0], [978.0, 223.0], [819.0, 218.0]],\n",
       "   ('*Mom to', 0.9373337030410767)],\n",
       "  [[[805.0, 232.0], [992.0, 234.0], [992.0, 274.0], [804.0, 271.0]],\n",
       "   ('Daughters', 0.9964587092399597)],\n",
       "  [[[664.0, 446.0], [928.0, 446.0], [928.0, 496.0], [664.0, 496.0]],\n",
       "   ('Naa Nagala', 0.954356849193573)],\n",
       "  [[[632.0, 511.0], [959.0, 513.0], [958.0, 556.0], [632.0, 553.0]],\n",
       "   ('HaramNeeke.', 0.9884727001190186)],\n",
       "  [[[35.0, 596.0], [231.0, 600.0], [230.0, 627.0], [35.0, 623.0]],\n",
       "   ('FUNtastic-Telugu', 0.9916265606880188)],\n",
       "  [[[832.0, 588.0], [1069.0, 594.0], [1068.0, 630.0], [831.0, 624.0]],\n",
       "   ('*Dad to Sons', 0.9604960083961487)],\n",
       "  [[[375.0, 759.0], [423.0, 769.0], [416.0, 800.0], [369.0, 790.0]],\n",
       "   ('AB', 0.9924298524856567)],\n",
       "  [[[516.0, 968.0], [958.0, 968.0], [958.0, 1014.0], [516.0, 1014.0]],\n",
       "   ('Ivigo Appulu, Teesko.', 0.9662404656410217)],\n",
       "  [[[485.0, 1029.0], [1002.0, 1029.0], [1002.0, 1068.0], [485.0, 1068.0]],\n",
       "   ('Kattuko.Pandaga Chesko.', 0.9653115272521973)]]]"
      ]
     },
     "execution_count": 121,
     "metadata": {},
     "output_type": "execute_result"
    }
   ],
   "source": [
    "result"
   ]
  },
  {
   "cell_type": "code",
   "execution_count": 123,
   "id": "95a90df7-c97e-401e-a8ea-c83c10cb7a5b",
   "metadata": {},
   "outputs": [
    {
     "name": "stdout",
     "output_type": "stream",
     "text": [
      "*When You Finally Settled In Life*\n",
      "*Mom to\n",
      "Daughters\n",
      "Naa Nagala\n",
      "HaramNeeke.\n",
      "FUNtastic-Telugu\n",
      "*Dad to Sons\n",
      "AB\n",
      "Ivigo Appulu, Teesko.\n",
      "Kattuko.Pandaga Chesko.\n"
     ]
    }
   ],
   "source": [
    "i=0\n",
    "for i in range(len(result[0])):\n",
    "    res=result[0][i][1][0]\n",
    "    print(res)"
   ]
  },
  {
   "cell_type": "code",
   "execution_count": 55,
   "id": "c9b77aa1-0e40-4268-9c10-9feac03d1bd4",
   "metadata": {},
   "outputs": [],
   "source": []
  },
  {
   "cell_type": "code",
   "execution_count": 56,
   "id": "a386ecd6-7ded-4b7a-83a6-d6ceaa83c2d7",
   "metadata": {},
   "outputs": [
    {
     "name": "stdout",
     "output_type": "stream",
     "text": [
      "MIRUNIGHTPADUKOVADANIKIMILOVERGOOD\n",
      "NIGHTMSGKOSAM WAITCHESTAREMO\n",
      "S.ehitti.-memes\n",
      "MEMUMA PHONE LOWBATTERYNOTIFICATION\n",
      "KOSAM WAITCHESTAM\n",
      "Singles\n",
      "BOTHARENOTSAME\n"
     ]
    }
   ],
   "source": [
    "data = [\n",
    "    [[[42.0, 303.0], [975.0, 303.0], [975.0, 333.0], [42.0, 333.0]], ('MIRUNIGHTPADUKOVADANIKIMILOVERGOOD', 0.9738596677780151)],\n",
    "    [[[96.0, 357.0], [922.0, 357.0], [922.0, 393.0], [96.0, 393.0]], ('NIGHTMSGKOSAM WAITCHESTAREMO', 0.9753003120422363)],\n",
    "    [[[89.0, 675.0], [245.0, 675.0], [245.0, 693.0], [89.0, 693.0]], ('S.ehitti.-memes', 0.8873804807662964)],\n",
    "    [[[48.0, 716.0], [973.0, 717.0], [973.0, 753.0], [48.0, 752.0]], ('MEMUMA PHONE LOWBATTERYNOTIFICATION', 0.967866837978363)],\n",
    "    [[[257.0, 773.0], [763.0, 773.0], [763.0, 809.0], [257.0, 809.0]], ('KOSAM WAITCHESTAM', 0.9710173606872559)],\n",
    "    [[[297.0, 876.0], [457.0, 879.0], [456.0, 936.0], [296.0, 933.0]], ('Singles', 0.9489747285842896)],\n",
    "    [[[234.0, 1199.0], [870.0, 1199.0], [870.0, 1248.0], [234.0, 1248.0]], ('BOTHARENOTSAME', 0.9974278807640076)]\n",
    "]\n",
    "\n",
    "# Extracting and printing only the text\n",
    "for item in data:\n",
    "    text = item[1][0]  # The text is the first element of the second tuple\n",
    "    print(text)"
   ]
  },
  {
   "cell_type": "code",
   "execution_count": null,
   "id": "81ae23b4-f86a-4b10-8559-6ee22043e630",
   "metadata": {},
   "outputs": [],
   "source": []
  }
 ],
 "metadata": {
  "kernelspec": {
   "display_name": "Python 3 (ipykernel)",
   "language": "python",
   "name": "python3"
  },
  "language_info": {
   "codemirror_mode": {
    "name": "ipython",
    "version": 3
   },
   "file_extension": ".py",
   "mimetype": "text/x-python",
   "name": "python",
   "nbconvert_exporter": "python",
   "pygments_lexer": "ipython3",
   "version": "3.12.3"
  }
 },
 "nbformat": 4,
 "nbformat_minor": 5
}

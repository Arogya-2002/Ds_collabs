{
 "cells": [
  {
   "cell_type": "code",
   "execution_count": 2,
   "id": "a7e68093-847b-4c7e-8293-e261d188fe8d",
   "metadata": {},
   "outputs": [],
   "source": [
    "import os\n",
    "import shutil\n",
    "\n",
    "def divide_images_into_directories(input_dir, output_dir, images_per_dir=1000):\n",
    "    \"\"\"\n",
    "    Divide images in the input directory into separate directories, each containing a specified number of images.\n",
    "\n",
    "    :param input_dir: Path to the input directory containing images\n",
    "    :param output_dir: Path to the output directory where divided images will be saved\n",
    "    :param images_per_dir: Number of images to be placed in each output directory\n",
    "    \"\"\"\n",
    "    # Create the output directory if it doesn't exist\n",
    "    if not os.path.exists(output_dir):\n",
    "        os.makedirs(output_dir)\n",
    "\n",
    "    # Get the list of image files in the input directory\n",
    "    image_files = [f for f in os.listdir(input_dir) if os.path.isfile(os.path.join(input_dir, f)) and f.endswith((\".jpg\", \".jpeg\", \".png\"))]\n",
    "\n",
    "    # Divide images into separate directories\n",
    "    for i in range(0, len(image_files), images_per_dir):\n",
    "        output_subdir = os.path.join(output_dir, f\"images_{i}_{i+images_per_dir}\")\n",
    "        os.makedirs(output_subdir)\n",
    "\n",
    "        for image_file in image_files[i:i+images_per_dir]:\n",
    "            shutil.copy(os.path.join(input_dir, image_file), output_subdir)\n",
    "\n",
    "if __name__ == \"__main__\":\n",
    "    # Set the input and output directories\n",
    "    input_dir = \"Downloads/memes_with_text\"\n",
    "    output_dir = \"1kperfolder\"\n",
    "\n",
    "    # Divide images into separate directories, each containing 1000 images\n",
    "    divide_images_into_directories(input_dir, output_dir)\n"
   ]
  },
  {
   "cell_type": "code",
   "execution_count": null,
   "id": "f8943712-de1b-4475-bbd8-a2a85797440c",
   "metadata": {},
   "outputs": [],
   "source": []
  }
 ],
 "metadata": {
  "kernelspec": {
   "display_name": "Python 3 (ipykernel)",
   "language": "python",
   "name": "python3"
  },
  "language_info": {
   "codemirror_mode": {
    "name": "ipython",
    "version": 3
   },
   "file_extension": ".py",
   "mimetype": "text/x-python",
   "name": "python",
   "nbconvert_exporter": "python",
   "pygments_lexer": "ipython3",
   "version": "3.12.3"
  }
 },
 "nbformat": 4,
 "nbformat_minor": 5
}

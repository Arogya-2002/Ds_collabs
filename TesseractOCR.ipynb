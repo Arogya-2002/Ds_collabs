{
 "cells": [
  {
   "cell_type": "markdown",
   "id": "c96e5ed1-3d68-4d94-b4da-2b4f0e024b11",
   "metadata": {},
   "source": [
    "1. Download tesseract exe from \"https://github.com/UB-Mannheim/tesseract/wiki\"\n",
    "2. Install this exe in \"C:\\Program Files (x86)\\Tesseract-OCR\"\n",
    "3. Open anaconda prompt\n",
    "4. Run \"pip install pytesseract\""
   ]
  },
  {
   "cell_type": "markdown",
   "id": "7c7382e6-da2a-40b2-88ea-9aa52b974f8b",
   "metadata": {},
   "source": [
    "#### tesseract --help-psm\n",
    "Page segmentation modes (psm):\n",
    "\n",
    "  0   -- Orientation and script detection (OSD) only.\n",
    "  \n",
    "  1   -- Automatic page segmentation with OSD.\n",
    "  \n",
    "  2   -- Automatic page segmentation, but no OSD, or OCR. (not implemented)\n",
    "  \n",
    "  3   -- Fully automatic page segmentation, but no OSD. (Default)\n",
    "  \n",
    "  4   -- Assume a single column of text of variable sizes.\n",
    "  \n",
    "  5   -- Assume a single uniform block of vertically aligned text.\n",
    "  \n",
    "  6   -- Assume a single uniform block of text.\n",
    "  \n",
    "  7   -- Treat the image as a single text line.\n",
    "  \n",
    "  8   -- Treat the image as a single word.\n",
    "  \n",
    "  9   -- Treat the image as a single word in a circle.\n",
    "  \n",
    " 10   -- Treat the image as a single character.\n",
    " \n",
    " 11   -- Sparse text. Find as much text as possible in no particular order.\n",
    " \n",
    " 12   -- Sparse text with OSD.\n",
    " \n",
    " 13   -- Raw line. Treat the image as a single text line, bypassing hacks that are Tesseract-specific."
   ]
  },
  {
   "cell_type": "markdown",
   "id": "43d0446d-0000-404c-818a-6201229851de",
   "metadata": {},
   "source": [
    "#### tesseract --help-oem\n",
    "OCR Engine modes (OEM):\n",
    "\n",
    "  0|tesseract_only          Legacy engine only.\n",
    "  \n",
    "  1|lstm_only               Neural nets LSTM engine only.\n",
    "  \n",
    "  2|tesseract_lstm_combined Legacy + LSTM engines.\n",
    "  \n",
    "  3|default                 Default, based on what is available."
   ]
  },
  {
   "cell_type": "code",
   "execution_count": 27,
   "id": "2c763a65-d1c9-4bf2-a2f0-8db702f5ce08",
   "metadata": {},
   "outputs": [
    {
     "name": "stdout",
     "output_type": "stream",
     "text": [
      "Requirement already satisfied: pytesseract in c:\\users\\ramcharan\\anaconda3\\lib\\site-packages (0.3.13)Note: you may need to restart the kernel to use updated packages.\n",
      "\n",
      "Requirement already satisfied: packaging>=21.3 in c:\\users\\ramcharan\\anaconda3\\lib\\site-packages (from pytesseract) (24.1)\n",
      "Requirement already satisfied: Pillow>=8.0.0 in c:\\users\\ramcharan\\anaconda3\\lib\\site-packages (from pytesseract) (10.4.0)\n"
     ]
    }
   ],
   "source": [
    "pip install pytesseract"
   ]
  },
  {
   "cell_type": "code",
   "execution_count": 1,
   "id": "3a0691c5-4685-4932-9c81-e6993c30a439",
   "metadata": {},
   "outputs": [
    {
     "name": "stdout",
     "output_type": "stream",
     "text": [
      "| జై తా. డక క. హె | '(ా సు\n",
      "1 (/ [ సో వంకన మా (కీ\n"
     ]
    }
   ],
   "source": [
    "#without rotation of image\n",
    "import cv2\n",
    "import pytesseract\n",
    "\n",
    "img = cv2.imread(r\"C:\\Users\\Ramcharan\\Downloads\\sddefault.jpg\")\n",
    "\n",
    "config = r'--oem 1 -l tel --psm 6'\n",
    "ext_text = pytesseract.image_to_string(img, config=config)\n",
    "\n",
    "for line in ext_text.splitlines():\n",
    "    if line.strip():  # Print non-empty lines only\n",
    "        print(line)"
   ]
  },
  {
   "cell_type": "code",
   "execution_count": 3,
   "id": "d593883b-fc77-4f28-9464-2706d289ac0a",
   "metadata": {},
   "outputs": [
    {
     "name": "stdout",
     "output_type": "stream",
     "text": [
      "2 మానా యయా నాలా\n",
      "నీ ట్‌ గ. ఆర్లా\n",
      "ప సు సే స\n",
      "కో పం లన సం... సి\n"
     ]
    }
   ],
   "source": [
    "#with 90 degree rotation and using psm 5\n",
    "import cv2\n",
    "import pytesseract\n",
    "\n",
    "# Load the image\n",
    "img = cv2.imread(r\"C:\\Users\\Ramcharan\\Downloads\\sddefault.jpg\")\n",
    "\n",
    "# Rotate the image 90 degrees clockwise\n",
    "rotated_img = cv2.rotate(img, cv2.ROTATE_90_CLOCKWISE)\n",
    "\n",
    "# Perform OCR\n",
    "config = r'--oem 1 -l tel --psm 5'\n",
    "ext_text = pytesseract.image_to_string(rotated_img, config=config)\n",
    "\n",
    "# Print non-empty lines\n",
    "for line in ext_text.splitlines():\n",
    "    if line.strip():  # Print non-empty lines only\n",
    "        print(line)"
   ]
  },
  {
   "cell_type": "code",
   "execution_count": 5,
   "id": "31323bc8-aa8a-48f4-bb77-f380ffe30b0c",
   "metadata": {},
   "outputs": [
    {
     "name": "stdout",
     "output_type": "stream",
     "text": [
      "Cibo Wine Bar\n",
      "46 Miracle Mile\n",
      "Coral Gables Florida\n",
      "©) Server: Gustavo 42/01/2012\n",
      "Table 302/1 9:21 PM\n",
      "| Guests: 2 50026\n",
      "Lasagna 17.06\n",
      "a Seafood Risotto 18.00\n",
      "Pinot Willamett ;\n",
      "Malbec Alamo 8.00\n",
      "| subtotal 54.00\n",
      "Tax 4.32\n",
      "Total 58. 32\n",
      "*Balance Due Se252\n",
      "Thank You!\n",
      "& DOCSUMO\n"
     ]
    }
   ],
   "source": [
    "# english text\n",
    "import cv2\n",
    "import pytesseract\n",
    "\n",
    "# Read the image\n",
    "img = cv2.imread(r\"C:\\Users\\Ramcharan\\Downloads\\67377e499d7b45b0890e54ac_650d7befea2b3a3f72007194_CIBO20bar%20bill.png\")\n",
    "\n",
    "# Define Tesseract configuration\n",
    "config = r'--oem 1 -l eng --psm 4'\n",
    "\n",
    "# Extract text from the image\n",
    "extracted_text = pytesseract.image_to_string(img, config=config)\n",
    "\n",
    "# Split the text into lines and print line by line\n",
    "#print(\"Extracted Text (Line by Line):\")\n",
    "for line in extracted_text.splitlines():\n",
    "    if line.strip():  # Print non-empty lines only\n",
    "        print(line)"
   ]
  },
  {
   "cell_type": "code",
   "execution_count": 11,
   "id": "12705fdf-c54f-4efb-b840-434d17fcd73e",
   "metadata": {},
   "outputs": [
    {
     "name": "stdout",
     "output_type": "stream",
     "text": [
      "a Cibo Wine Bar\n",
      "x 46 Miracle Mile\n",
      "a Coral Gables Florida\n",
      "©) Server: Gustavo 12/01/2012\n",
      "=) Table 302/1 9:21 PM\n",
      "&) Guests: 2 50026\n",
      "@) Lasagna 17.06\n",
      "#1 Seafood Risotto 18.00\n",
      "=) Pinot Willamett 11°00\n",
      "@) Malbec Alamo 8.00\n",
      "Subtotal 54.00\n",
      "5) Total 58.32\n",
      "a Balance Due 58232\n",
      "F Thank You!\n",
      "in a A DOCSUMO\n"
     ]
    }
   ],
   "source": [
    "# rotated image about 90 degrees\n",
    "import cv2\n",
    "import pytesseract\n",
    "\n",
    "# Read the image\n",
    "img = cv2.imread(r\"C:\\Users\\Ramcharan\\Desktop\\67377e499d7b45b0890e54ac_650d7befea2b3a3f72007194_CIBO20bar%20bill.png\")\n",
    "\n",
    "# Define Tesseract configuration\n",
    "config = r'--oem 1 -l eng --psm 5'\n",
    "\n",
    "# Extract text from the image\n",
    "extracted_text = pytesseract.image_to_string(img, config=config)\n",
    "\n",
    "# Split the text into lines and print line by line\n",
    "#print(\"Extracted Text (Line by Line):\")\n",
    "for line in extracted_text.splitlines():\n",
    "    if line.strip():  # Print non-empty lines only\n",
    "        print(line)"
   ]
  },
  {
   "cell_type": "code",
   "execution_count": 7,
   "id": "36e95604-be19-4a6b-93dd-aa01b23a6dfc",
   "metadata": {},
   "outputs": [
    {
     "name": "stdout",
     "output_type": "stream",
     "text": [
      "Logo\n",
      "This Logo\n",
      "Logo\n"
     ]
    }
   ],
   "source": [
    "# image having both background and text same colour\n",
    "import cv2\n",
    "import pytesseract\n",
    "\n",
    "img = cv2.imread(r\"C:\\Users\\Ramcharan\\Desktop\\logo_2.png\")\n",
    "\n",
    "config = r'--oem 1 -l eng --psm 5'\n",
    "ext_text = pytesseract.image_to_string(img, config=config)\n",
    "\n",
    "for line in ext_text.splitlines():\n",
    "    if line.strip():  # Print non-empty lines only\n",
    "        print(line)"
   ]
  },
  {
   "cell_type": "code",
   "execution_count": 23,
   "id": "ea438946-dc48-4dc0-a593-4d2202b083b7",
   "metadata": {},
   "outputs": [
    {
     "name": "stdout",
     "output_type": "stream",
     "text": [
      "--- Start recognize text from image ---\n",
      "Mabel NE ray ACTELUIGH\n",
      "సినిమాళణి MEME PAGES \"\n",
      "alii eat\n",
      "FSi: Fe eS [నల\n",
      "\n"
     ]
    }
   ],
   "source": [
    "# image processing (grayscale, dilation and erosion)\n",
    "import cv2\n",
    "import numpy as np\n",
    "import pytesseract\n",
    "from PIL import Image\n",
    "\n",
    "# Path of working folder on Disk\n",
    "src_path = r\"C:\\Users\\Ramcharan\\Downloads\"\n",
    "\n",
    "def get_string(img_path, psm_mode, language):\n",
    "    # Read image with opencv\n",
    "    img = cv2.imread(img_path)\n",
    "\n",
    "    # Convert to gray\n",
    "    img = cv2.cvtColor(img, cv2.COLOR_BGR2GRAY)\n",
    "\n",
    "    # Apply dilation and erosion to remove some noise\n",
    "    kernel = np.ones((1, 1), np.uint8)\n",
    "    img = cv2.dilate(img, kernel, iterations=1)\n",
    "    img = cv2.erode(img, kernel, iterations=1)\n",
    "\n",
    "    # Write image after removed noise\n",
    "    cv2.imwrite(src_path + \"removed_noise.png\", img)\n",
    "\n",
    "    # Apply threshold\n",
    "    img = cv2.adaptiveThreshold(img, 255, cv2.ADAPTIVE_THRESH_GAUSSIAN_C, cv2.THRESH_BINARY, 31, 2)\n",
    "\n",
    "    # Write the image after applying threshold\n",
    "    cv2.imwrite(src_path + \"thresh.png\", img)\n",
    "\n",
    "    # Use pytesseract with custom PSM mode and language\n",
    "    custom_config = f'--psm {psm_mode}'\n",
    "    result = pytesseract.image_to_string(Image.open(src_path + \"thresh.png\"), lang=language, config=custom_config)\n",
    "\n",
    "    print(result)\n",
    "\n",
    "print('--- Start recognize text from image ---')\n",
    "get_string(r\"C:/Users/Ramcharan/Downloads/sddefault.jpg\", psm_mode=6, language=\"eng+tel\")\n"
   ]
  },
  {
   "cell_type": "code",
   "execution_count": 25,
   "id": "bf358db9-4ea9-45a2-9d8a-3e08a4550b32",
   "metadata": {},
   "outputs": [
    {
     "name": "stdout",
     "output_type": "stream",
     "text": [
      "--- Start recognize text from image ---\n",
      "ee\n",
      "DADDION, ae rT\n",
      "లేకపోతే OF mee కావు!\n",
      "\n"
     ]
    }
   ],
   "source": [
    "# without any threshold\n",
    "import cv2\n",
    "import numpy as np\n",
    "import pytesseract\n",
    "from PIL import Image\n",
    "\n",
    "# Path of working folder on Disk\n",
    "src_path = r\"C:\\Users\\Ramcharan\\Downloads\"\n",
    "\n",
    "def get_string(img_path, psm_mode, language):\n",
    "    # Read image with opencv\n",
    "    img = cv2.imread(img_path)\n",
    "\n",
    "    # Convert to gray\n",
    "    img = cv2.cvtColor(img, cv2.COLOR_BGR2GRAY)\n",
    "\n",
    "    # Apply dilation and erosion to remove some noise\n",
    "    kernel = np.ones((1, 1), np.uint8)\n",
    "    img = cv2.dilate(img, kernel, iterations=1)\n",
    "    img = cv2.erode(img, kernel, iterations=1)\n",
    "\n",
    "    # Write image after removed noise\n",
    "    cv2.imwrite(src_path + \"removed_noise.png\", img)\n",
    "\n",
    "    # Use pytesseract with custom PSM mode and language\n",
    "    custom_config = f'--psm {psm_mode}'\n",
    "    result = pytesseract.image_to_string(Image.open(src_path + \"removed_noise.png\"), lang=language, config=custom_config)\n",
    "\n",
    "    print(result)\n",
    "\n",
    "print('--- Start recognize text from image ---')\n",
    "get_string(r\"C:/Users/Ramcharan/Downloads/sddefault.jpg\", psm_mode=6, language=\"eng+tel\")\n"
   ]
  },
  {
   "cell_type": "code",
   "execution_count": null,
   "id": "cb06e2c0-1f48-447a-aeb7-ef933cb63caf",
   "metadata": {},
   "outputs": [],
   "source": []
  }
 ],
 "metadata": {
  "kernelspec": {
   "display_name": "Python 3 (ipykernel)",
   "language": "python",
   "name": "python3"
  },
  "language_info": {
   "codemirror_mode": {
    "name": "ipython",
    "version": 3
   },
   "file_extension": ".py",
   "mimetype": "text/x-python",
   "name": "python",
   "nbconvert_exporter": "python",
   "pygments_lexer": "ipython3",
   "version": "3.12.7"
  }
 },
 "nbformat": 4,
 "nbformat_minor": 5
}

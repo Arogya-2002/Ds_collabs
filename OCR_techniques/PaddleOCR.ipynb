{
 "cells": [
  {
   "cell_type": "code",
   "execution_count": 1,
   "id": "aa549233-4135-4a46-9f92-76a31c29cf18",
   "metadata": {},
   "outputs": [
    {
     "name": "stdout",
     "output_type": "stream",
     "text": [
      "Looking in indexes: https://mirror.baidu.com/pypi/simple\n"
     ]
    },
    {
     "name": "stderr",
     "output_type": "stream",
     "text": [
      "WARNING: Retrying (Retry(total=4, connect=None, read=None, redirect=None, status=None)) after connection broken by 'ProtocolError('Connection aborted.', ConnectionResetError(10054, 'An existing connection was forcibly closed by the remote host', None, 10054, None))': /pypi/simple/paddlepaddle-gpu/\n",
      "WARNING: Retrying (Retry(total=3, connect=None, read=None, redirect=None, status=None)) after connection broken by 'ProtocolError('Connection aborted.', ConnectionResetError(10054, 'An existing connection was forcibly closed by the remote host', None, 10054, None))': /pypi/simple/paddlepaddle-gpu/\n",
      "WARNING: Retrying (Retry(total=2, connect=None, read=None, redirect=None, status=None)) after connection broken by 'ProtocolError('Connection aborted.', ConnectionResetError(10054, 'An existing connection was forcibly closed by the remote host', None, 10054, None))': /pypi/simple/paddlepaddle-gpu/\n",
      "WARNING: Retrying (Retry(total=1, connect=None, read=None, redirect=None, status=None)) after connection broken by 'ProtocolError('Connection aborted.', ConnectionResetError(10054, 'An existing connection was forcibly closed by the remote host', None, 10054, None))': /pypi/simple/paddlepaddle-gpu/\n",
      "WARNING: Retrying (Retry(total=0, connect=None, read=None, redirect=None, status=None)) after connection broken by 'ProtocolError('Connection aborted.', ConnectionResetError(10054, 'An existing connection was forcibly closed by the remote host', None, 10054, None))': /pypi/simple/paddlepaddle-gpu/\n",
      "ERROR: Could not find a version that satisfies the requirement paddlepaddle-gpu==2.0.0 (from versions: none)\n",
      "ERROR: No matching distribution found for paddlepaddle-gpu==2.0.0\n"
     ]
    }
   ],
   "source": [
    "# GitHub repo installation of paddle\n",
    "!python -m pip install paddlepaddle-gpu==2.0.0 -i https://mirror.baidu.com/pypi/simple"
   ]
  },
  {
   "cell_type": "code",
   "execution_count": 1,
   "id": "a633ecad-3639-461d-9e3f-113114731581",
   "metadata": {},
   "outputs": [
    {
     "name": "stdout",
     "output_type": "stream",
     "text": [
      "Looking in indexes: https://pypi.tuna.tsinghua.edu.cn/simple\n",
      "Requirement already satisfied: paddlepaddle==2.6.1 in c:\\users\\ramcharan\\anaconda3\\lib\\site-packages (2.6.1)\n",
      "Requirement already satisfied: httpx in c:\\users\\ramcharan\\anaconda3\\lib\\site-packages (from paddlepaddle==2.6.1) (0.27.0)\n",
      "Requirement already satisfied: numpy>=1.13 in c:\\users\\ramcharan\\anaconda3\\lib\\site-packages (from paddlepaddle==2.6.1) (1.26.4)\n",
      "Requirement already satisfied: Pillow in c:\\users\\ramcharan\\anaconda3\\lib\\site-packages (from paddlepaddle==2.6.1) (10.4.0)\n",
      "Requirement already satisfied: decorator in c:\\users\\ramcharan\\anaconda3\\lib\\site-packages (from paddlepaddle==2.6.1) (5.1.1)\n",
      "Requirement already satisfied: astor in c:\\users\\ramcharan\\anaconda3\\lib\\site-packages (from paddlepaddle==2.6.1) (0.8.1)\n",
      "Requirement already satisfied: opt-einsum==3.3.0 in c:\\users\\ramcharan\\anaconda3\\lib\\site-packages (from paddlepaddle==2.6.1) (3.3.0)\n",
      "Requirement already satisfied: protobuf<=3.20.2,>=3.1.0 in c:\\users\\ramcharan\\anaconda3\\lib\\site-packages (from paddlepaddle==2.6.1) (3.20.2)\n",
      "Requirement already satisfied: anyio in c:\\users\\ramcharan\\anaconda3\\lib\\site-packages (from httpx->paddlepaddle==2.6.1) (4.2.0)\n",
      "Requirement already satisfied: certifi in c:\\users\\ramcharan\\anaconda3\\lib\\site-packages (from httpx->paddlepaddle==2.6.1) (2024.8.30)\n",
      "Requirement already satisfied: httpcore==1.* in c:\\users\\ramcharan\\anaconda3\\lib\\site-packages (from httpx->paddlepaddle==2.6.1) (1.0.2)\n",
      "Requirement already satisfied: idna in c:\\users\\ramcharan\\anaconda3\\lib\\site-packages (from httpx->paddlepaddle==2.6.1) (3.7)\n",
      "Requirement already satisfied: sniffio in c:\\users\\ramcharan\\anaconda3\\lib\\site-packages (from httpx->paddlepaddle==2.6.1) (1.3.0)\n",
      "Requirement already satisfied: h11<0.15,>=0.13 in c:\\users\\ramcharan\\anaconda3\\lib\\site-packages (from httpcore==1.*->httpx->paddlepaddle==2.6.1) (0.14.0)\n"
     ]
    }
   ],
   "source": [
    "!python -m pip install paddlepaddle==2.6.1 -i https://pypi.tuna.tsinghua.edu.cn/simple"
   ]
  },
  {
   "cell_type": "code",
   "execution_count": 5,
   "id": "f87c7536-82c3-4590-94be-2f8e932c359e",
   "metadata": {},
   "outputs": [
    {
     "name": "stdout",
     "output_type": "stream",
     "text": [
      "Requirement already satisfied: paddleocr in c:\\users\\ramcharan\\appdata\\roaming\\python\\python312\\site-packages (2.9.1)\n",
      "Requirement already satisfied: shapely in c:\\users\\ramcharan\\anaconda3\\lib\\site-packages (from paddleocr) (2.0.6)\n",
      "Requirement already satisfied: scikit-image in c:\\users\\ramcharan\\anaconda3\\lib\\site-packages (from paddleocr) (0.24.0)\n",
      "Requirement already satisfied: imgaug in c:\\users\\ramcharan\\appdata\\roaming\\python\\python312\\site-packages (from paddleocr) (0.4.0)\n",
      "Requirement already satisfied: pyclipper in c:\\users\\ramcharan\\anaconda3\\lib\\site-packages (from paddleocr) (1.3.0.post6)\n",
      "Requirement already satisfied: lmdb in c:\\users\\ramcharan\\anaconda3\\lib\\site-packages (from paddleocr) (1.4.1)\n",
      "Requirement already satisfied: tqdm in c:\\users\\ramcharan\\anaconda3\\lib\\site-packages (from paddleocr) (4.66.5)\n",
      "Requirement already satisfied: numpy<2.0 in c:\\users\\ramcharan\\anaconda3\\lib\\site-packages (from paddleocr) (1.26.4)\n",
      "Requirement already satisfied: rapidfuzz in c:\\users\\ramcharan\\anaconda3\\lib\\site-packages (from paddleocr) (3.10.1)\n",
      "Requirement already satisfied: opencv-python in c:\\users\\ramcharan\\anaconda3\\lib\\site-packages (from paddleocr) (4.10.0.84)\n",
      "Requirement already satisfied: opencv-contrib-python in c:\\users\\ramcharan\\appdata\\roaming\\python\\python312\\site-packages (from paddleocr) (4.10.0.84)\n",
      "Requirement already satisfied: cython in c:\\users\\ramcharan\\appdata\\roaming\\python\\python312\\site-packages (from paddleocr) (3.0.11)\n",
      "Requirement already satisfied: Pillow in c:\\users\\ramcharan\\anaconda3\\lib\\site-packages (from paddleocr) (10.4.0)\n",
      "Requirement already satisfied: pyyaml in c:\\users\\ramcharan\\anaconda3\\lib\\site-packages (from paddleocr) (6.0.1)\n",
      "Requirement already satisfied: python-docx in c:\\users\\ramcharan\\anaconda3\\lib\\site-packages (from paddleocr) (1.1.2)\n",
      "Requirement already satisfied: beautifulsoup4 in c:\\users\\ramcharan\\anaconda3\\lib\\site-packages (from paddleocr) (4.12.3)\n",
      "Requirement already satisfied: fonttools>=4.24.0 in c:\\users\\ramcharan\\anaconda3\\lib\\site-packages (from paddleocr) (4.51.0)\n",
      "Requirement already satisfied: fire>=0.3.0 in c:\\users\\ramcharan\\appdata\\roaming\\python\\python312\\site-packages (from paddleocr) (0.7.0)\n",
      "Requirement already satisfied: requests in c:\\users\\ramcharan\\anaconda3\\lib\\site-packages (from paddleocr) (2.32.3)\n",
      "Requirement already satisfied: albumentations==1.4.10 in c:\\users\\ramcharan\\appdata\\roaming\\python\\python312\\site-packages (from paddleocr) (1.4.10)\n",
      "Requirement already satisfied: albucore==0.0.13 in c:\\users\\ramcharan\\appdata\\roaming\\python\\python312\\site-packages (from paddleocr) (0.0.13)\n",
      "Requirement already satisfied: tomli>=2.0.1 in c:\\users\\ramcharan\\anaconda3\\lib\\site-packages (from albucore==0.0.13->paddleocr) (2.0.1)\n",
      "Requirement already satisfied: typing-extensions>=4.9.0 in c:\\users\\ramcharan\\anaconda3\\lib\\site-packages (from albucore==0.0.13->paddleocr) (4.12.2)\n",
      "Requirement already satisfied: opencv-python-headless>=4.9.0.80 in c:\\users\\ramcharan\\anaconda3\\lib\\site-packages (from albucore==0.0.13->paddleocr) (4.10.0.84)\n",
      "Requirement already satisfied: scipy>=1.10.0 in c:\\users\\ramcharan\\anaconda3\\lib\\site-packages (from albumentations==1.4.10->paddleocr) (1.13.1)\n",
      "Requirement already satisfied: scikit-learn>=1.3.2 in c:\\users\\ramcharan\\anaconda3\\lib\\site-packages (from albumentations==1.4.10->paddleocr) (1.5.1)\n",
      "Requirement already satisfied: pydantic>=2.7.0 in c:\\users\\ramcharan\\anaconda3\\lib\\site-packages (from albumentations==1.4.10->paddleocr) (2.10.1)\n",
      "Requirement already satisfied: termcolor in c:\\users\\ramcharan\\anaconda3\\lib\\site-packages (from fire>=0.3.0->paddleocr) (2.5.0)\n",
      "Requirement already satisfied: networkx>=2.8 in c:\\users\\ramcharan\\anaconda3\\lib\\site-packages (from scikit-image->paddleocr) (3.3)\n",
      "Requirement already satisfied: imageio>=2.33 in c:\\users\\ramcharan\\anaconda3\\lib\\site-packages (from scikit-image->paddleocr) (2.33.1)\n",
      "Requirement already satisfied: tifffile>=2022.8.12 in c:\\users\\ramcharan\\anaconda3\\lib\\site-packages (from scikit-image->paddleocr) (2023.4.12)\n",
      "Requirement already satisfied: packaging>=21 in c:\\users\\ramcharan\\anaconda3\\lib\\site-packages (from scikit-image->paddleocr) (24.1)\n",
      "Requirement already satisfied: lazy-loader>=0.4 in c:\\users\\ramcharan\\anaconda3\\lib\\site-packages (from scikit-image->paddleocr) (0.4)\n",
      "Requirement already satisfied: soupsieve>1.2 in c:\\users\\ramcharan\\anaconda3\\lib\\site-packages (from beautifulsoup4->paddleocr) (2.5)\n",
      "Requirement already satisfied: six in c:\\users\\ramcharan\\anaconda3\\lib\\site-packages (from imgaug->paddleocr) (1.16.0)\n",
      "Requirement already satisfied: matplotlib in c:\\users\\ramcharan\\anaconda3\\lib\\site-packages (from imgaug->paddleocr) (3.9.2)\n",
      "Requirement already satisfied: lxml>=3.1.0 in c:\\users\\ramcharan\\anaconda3\\lib\\site-packages (from python-docx->paddleocr) (5.3.0)\n",
      "Requirement already satisfied: charset-normalizer<4,>=2 in c:\\users\\ramcharan\\anaconda3\\lib\\site-packages (from requests->paddleocr) (3.3.2)\n",
      "Requirement already satisfied: idna<4,>=2.5 in c:\\users\\ramcharan\\anaconda3\\lib\\site-packages (from requests->paddleocr) (3.7)\n",
      "Requirement already satisfied: urllib3<3,>=1.21.1 in c:\\users\\ramcharan\\anaconda3\\lib\\site-packages (from requests->paddleocr) (1.26.20)\n",
      "Requirement already satisfied: certifi>=2017.4.17 in c:\\users\\ramcharan\\anaconda3\\lib\\site-packages (from requests->paddleocr) (2024.8.30)\n",
      "Requirement already satisfied: colorama in c:\\users\\ramcharan\\anaconda3\\lib\\site-packages (from tqdm->paddleocr) (0.4.6)\n",
      "Requirement already satisfied: annotated-types>=0.6.0 in c:\\users\\ramcharan\\anaconda3\\lib\\site-packages (from pydantic>=2.7.0->albumentations==1.4.10->paddleocr) (0.6.0)\n",
      "Requirement already satisfied: pydantic-core==2.27.1 in c:\\users\\ramcharan\\anaconda3\\lib\\site-packages (from pydantic>=2.7.0->albumentations==1.4.10->paddleocr) (2.27.1)\n",
      "Requirement already satisfied: joblib>=1.2.0 in c:\\users\\ramcharan\\anaconda3\\lib\\site-packages (from scikit-learn>=1.3.2->albumentations==1.4.10->paddleocr) (1.4.2)\n",
      "Requirement already satisfied: threadpoolctl>=3.1.0 in c:\\users\\ramcharan\\anaconda3\\lib\\site-packages (from scikit-learn>=1.3.2->albumentations==1.4.10->paddleocr) (3.5.0)\n",
      "Requirement already satisfied: contourpy>=1.0.1 in c:\\users\\ramcharan\\anaconda3\\lib\\site-packages (from matplotlib->imgaug->paddleocr) (1.2.0)\n",
      "Requirement already satisfied: cycler>=0.10 in c:\\users\\ramcharan\\anaconda3\\lib\\site-packages (from matplotlib->imgaug->paddleocr) (0.11.0)\n",
      "Requirement already satisfied: kiwisolver>=1.3.1 in c:\\users\\ramcharan\\anaconda3\\lib\\site-packages (from matplotlib->imgaug->paddleocr) (1.4.4)\n",
      "Requirement already satisfied: pyparsing>=2.3.1 in c:\\users\\ramcharan\\anaconda3\\lib\\site-packages (from matplotlib->imgaug->paddleocr) (3.1.2)\n",
      "Requirement already satisfied: python-dateutil>=2.7 in c:\\users\\ramcharan\\anaconda3\\lib\\site-packages (from matplotlib->imgaug->paddleocr) (2.9.0.post0)\n"
     ]
    }
   ],
   "source": [
    "# Install paddle OCR\n",
    "!pip install paddleocr"
   ]
  },
  {
   "cell_type": "code",
   "execution_count": 1,
   "id": "b8c8f423-9ce4-4119-acb5-89618398f1ca",
   "metadata": {},
   "outputs": [
    {
     "name": "stdout",
     "output_type": "stream",
     "text": [
      "git version 2.47.0.windows.2\n"
     ]
    }
   ],
   "source": [
    "!git --version"
   ]
  },
  {
   "cell_type": "code",
   "execution_count": 3,
   "id": "518d79ed-8783-4421-9836-f89bca1d9714",
   "metadata": {},
   "outputs": [
    {
     "name": "stderr",
     "output_type": "stream",
     "text": [
      "fatal: destination path 'PaddleOCR' already exists and is not an empty directory.\n"
     ]
    }
   ],
   "source": [
    "# Clone paddle OCR repo - get FONTS for visualization\n",
    "#!git clone https://github.com/PaddlePaddle/PaddleOCR.git"
   ]
  },
  {
   "cell_type": "code",
   "execution_count": 1,
   "id": "ca9b082d-7d4c-414b-8ac1-e57f8c4084fc",
   "metadata": {},
   "outputs": [],
   "source": [
    "from paddleocr import PaddleOCR, draw_ocr # main OCR dependencies\n",
    "import matplotlib.pyplot as plt # plot images\n",
    "import cv2 #opencv\n",
    "import os # folder directory navigation"
   ]
  },
  {
   "cell_type": "code",
   "execution_count": 3,
   "id": "48752004-5da1-468a-b161-47a0adde3aee",
   "metadata": {},
   "outputs": [
    {
     "name": "stdout",
     "output_type": "stream",
     "text": [
      "[2024/12/17 11:31:53] ppocr DEBUG: Namespace(help='==SUPPRESS==', use_gpu=False, use_xpu=False, use_npu=False, use_mlu=False, ir_optim=True, use_tensorrt=False, min_subgraph_size=15, precision='fp32', gpu_mem=500, gpu_id=0, image_dir=None, page_num=0, det_algorithm='DB', det_model_dir='C:\\\\Users\\\\Ramcharan/.paddleocr/whl\\\\det\\\\ml\\\\Multilingual_PP-OCRv3_det_infer', det_limit_side_len=960, det_limit_type='max', det_box_type='quad', det_db_thresh=0.3, det_db_box_thresh=0.6, det_db_unclip_ratio=1.5, max_batch_size=10, use_dilation=False, det_db_score_mode='fast', det_east_score_thresh=0.8, det_east_cover_thresh=0.1, det_east_nms_thresh=0.2, det_sast_score_thresh=0.5, det_sast_nms_thresh=0.2, det_pse_thresh=0, det_pse_box_thresh=0.85, det_pse_min_area=16, det_pse_scale=1, scales=[8, 16, 32], alpha=1.0, beta=1.0, fourier_degree=5, rec_algorithm='SVTR_LCNet', rec_model_dir='C:\\\\Users\\\\Ramcharan/.paddleocr/whl\\\\rec\\\\te\\\\te_PP-OCRv4_rec_infer', rec_image_inverse=True, rec_image_shape='3, 48, 320', rec_batch_num=6, max_text_length=25, rec_char_dict_path='C:\\\\Users\\\\Ramcharan\\\\AppData\\\\Roaming\\\\Python\\\\Python312\\\\site-packages\\\\paddleocr\\\\ppocr\\\\utils\\\\dict\\\\te_dict.txt', use_space_char=True, vis_font_path='./doc/fonts/simfang.ttf', drop_score=0.5, e2e_algorithm='PGNet', e2e_model_dir=None, e2e_limit_side_len=768, e2e_limit_type='max', e2e_pgnet_score_thresh=0.5, e2e_char_dict_path='./ppocr/utils/ic15_dict.txt', e2e_pgnet_valid_set='totaltext', e2e_pgnet_mode='fast', use_angle_cls=False, cls_model_dir='C:\\\\Users\\\\Ramcharan/.paddleocr/whl\\\\cls\\\\ch_ppocr_mobile_v2.0_cls_infer', cls_image_shape='3, 48, 192', label_list=['0', '180'], cls_batch_num=6, cls_thresh=0.9, enable_mkldnn=False, cpu_threads=10, use_pdserving=False, warmup=False, sr_model_dir=None, sr_image_shape='3, 32, 128', sr_batch_num=1, draw_img_save_dir='./inference_results', save_crop_res=False, crop_res_save_dir='./output', use_mp=False, total_process_num=1, process_id=0, benchmark=False, save_log_path='./log_output/', show_log=True, use_onnx=False, return_word_box=False, output='./output', table_max_len=488, table_algorithm='TableAttn', table_model_dir=None, merge_no_span_structure=True, table_char_dict_path=None, formula_algorithm='LaTeXOCR', formula_model_dir=None, formula_char_dict_path=None, formula_batch_num=1, layout_model_dir=None, layout_dict_path=None, layout_score_threshold=0.5, layout_nms_threshold=0.5, kie_algorithm='LayoutXLM', ser_model_dir=None, re_model_dir=None, use_visual_backbone=True, ser_dict_path='../train_data/XFUND/class_list_xfun.txt', ocr_order_method=None, mode='structure', image_orientation=False, layout=True, table=True, formula=False, ocr=True, recovery=False, recovery_to_markdown=False, use_pdf2docx_api=False, invert=False, binarize=False, alphacolor=(255, 255, 255), lang='te', det=True, rec=True, type='ocr', savefile=False, ocr_version='PP-OCRv4', structure_version='PP-StructureV2')\n"
     ]
    }
   ],
   "source": [
    "# Setup model\n",
    "ocr_model = PaddleOCR(lang='te')"
   ]
  },
  {
   "cell_type": "code",
   "execution_count": null,
   "id": "bf4c45c9-b660-4cee-a22d-d80370bf44c5",
   "metadata": {},
   "outputs": [],
   "source": [
    "#img_path = os.path.join('.', 'drug1.jpg')"
   ]
  },
  {
   "cell_type": "code",
   "execution_count": 7,
   "id": "37505a2e-17b8-4a28-a54d-b107babdb0f9",
   "metadata": {},
   "outputs": [],
   "source": [
    "img_path = r\"C:\\Users\\Ramcharan\\Downloads\\sddefault.jpg\""
   ]
  },
  {
   "cell_type": "code",
   "execution_count": 9,
   "id": "59d82ed4-3ff8-475a-a6a3-87f1e445ba10",
   "metadata": {},
   "outputs": [
    {
     "name": "stdout",
     "output_type": "stream",
     "text": [
      "[2024/12/17 11:33:21] ppocr WARNING: Since the angle classifier is not initialized, it will not be used during the forward process\n",
      "[2024/12/17 11:33:22] ppocr DEBUG: dt_boxes num : 8, elapsed : 0.5844697952270508\n",
      "[2024/12/17 11:33:22] ppocr DEBUG: rec_res num  : 8, elapsed : 0.5012245178222656\n"
     ]
    }
   ],
   "source": [
    "# Run the ocr method on the ocr model\n",
    "result = ocr_model.ocr(img_path)"
   ]
  },
  {
   "cell_type": "code",
   "execution_count": 10,
   "id": "27e175ce-55cb-4b2b-8b24-3eb255d1bcee",
   "metadata": {},
   "outputs": [
    {
     "data": {
      "text/plain": [
       "[[[[[67.0, 69.0], [126.0, 69.0], [126.0, 114.0], [67.0, 114.0]],\n",
       "   ('ఈ', 0.9999995231628418)],\n",
       "  [[[440.0, 74.0], [579.0, 74.0], [579.0, 112.0], [440.0, 112.0]],\n",
       "   ('\"TELLIG!', 0.8769637942314148)],\n",
       "  [[[11.0, 123.0], [196.0, 117.0], [197.0, 155.0], [12.0, 161.0]],\n",
       "   ('సనవూలు', 0.8656743168830872)],\n",
       "  [[[396.0, 125.0], [498.0, 123.0], [499.0, 163.0], [397.0, 165.0]],\n",
       "   ('MEME', 0.700210690498352)],\n",
       "  [[[506.0, 123.0], [610.0, 123.0], [610.0, 163.0], [506.0, 163.0]],\n",
       "   ('P!IGES', 0.8496208786964417)],\n",
       "  [[[11.0, 175.0], [182.0, 169.0], [184.0, 217.0], [13.0, 223.0]],\n",
       "   ('లేకఎతే', 0.9946885704994202)],\n",
       "  [[[403.0, 166.0], [527.0, 166.0], [527.0, 213.0], [403.0, 213.0]],\n",
       "   ('ఉండేవే', 0.9713757038116455)],\n",
       "  [[[536.0, 170.0], [635.0, 174.0], [633.0, 218.0], [534.0, 214.0]],\n",
       "   ('కమ!', 0.7169802784919739)]]]"
      ]
     },
     "execution_count": 10,
     "metadata": {},
     "output_type": "execute_result"
    }
   ],
   "source": [
    "result"
   ]
  },
  {
   "cell_type": "code",
   "execution_count": 13,
   "id": "ccb39b96-c09b-40e7-b00a-862a08696b40",
   "metadata": {},
   "outputs": [
    {
     "name": "stdout",
     "output_type": "stream",
     "text": [
      "ఈ\n",
      "\"TELLIG!\n",
      "సనవూలు\n",
      "MEME\n",
      "P!IGES\n",
      "లేకఎతే\n",
      "ఉండేవే\n",
      "కమ!\n"
     ]
    }
   ],
   "source": [
    "# with telugu letter\n",
    "\n",
    "i=0\n",
    "for i in range(len(result[0])):\n",
    "    text = result[0][i][1][0]\n",
    "    print(text)"
   ]
  },
  {
   "cell_type": "code",
   "execution_count": null,
   "id": "b5fe38b9-8187-4c9c-b226-89082c4a477d",
   "metadata": {},
   "outputs": [],
   "source": []
  },
  {
   "cell_type": "code",
   "execution_count": null,
   "id": "0c7ab561-90c7-4e88-af95-5de6a13357aa",
   "metadata": {},
   "outputs": [],
   "source": []
  },
  {
   "cell_type": "code",
   "execution_count": 15,
   "id": "7125de39-4941-4d2a-8022-7395440af791",
   "metadata": {},
   "outputs": [
    {
     "name": "stdout",
     "output_type": "stream",
     "text": [
      "[2024/12/17 11:33:40] ppocr DEBUG: Namespace(help='==SUPPRESS==', use_gpu=False, use_xpu=False, use_npu=False, use_mlu=False, ir_optim=True, use_tensorrt=False, min_subgraph_size=15, precision='fp32', gpu_mem=500, gpu_id=0, image_dir=None, page_num=0, det_algorithm='DB', det_model_dir='C:\\\\Users\\\\Ramcharan/.paddleocr/whl\\\\det\\\\en\\\\en_PP-OCRv3_det_infer', det_limit_side_len=960, det_limit_type='max', det_box_type='quad', det_db_thresh=0.3, det_db_box_thresh=0.6, det_db_unclip_ratio=1.5, max_batch_size=10, use_dilation=False, det_db_score_mode='fast', det_east_score_thresh=0.8, det_east_cover_thresh=0.1, det_east_nms_thresh=0.2, det_sast_score_thresh=0.5, det_sast_nms_thresh=0.2, det_pse_thresh=0, det_pse_box_thresh=0.85, det_pse_min_area=16, det_pse_scale=1, scales=[8, 16, 32], alpha=1.0, beta=1.0, fourier_degree=5, rec_algorithm='SVTR_LCNet', rec_model_dir='C:\\\\Users\\\\Ramcharan/.paddleocr/whl\\\\rec\\\\en\\\\en_PP-OCRv4_rec_infer', rec_image_inverse=True, rec_image_shape='3, 48, 320', rec_batch_num=6, max_text_length=25, rec_char_dict_path='C:\\\\Users\\\\Ramcharan\\\\AppData\\\\Roaming\\\\Python\\\\Python312\\\\site-packages\\\\paddleocr\\\\ppocr\\\\utils\\\\en_dict.txt', use_space_char=True, vis_font_path='./doc/fonts/simfang.ttf', drop_score=0.5, e2e_algorithm='PGNet', e2e_model_dir=None, e2e_limit_side_len=768, e2e_limit_type='max', e2e_pgnet_score_thresh=0.5, e2e_char_dict_path='./ppocr/utils/ic15_dict.txt', e2e_pgnet_valid_set='totaltext', e2e_pgnet_mode='fast', use_angle_cls=False, cls_model_dir='C:\\\\Users\\\\Ramcharan/.paddleocr/whl\\\\cls\\\\ch_ppocr_mobile_v2.0_cls_infer', cls_image_shape='3, 48, 192', label_list=['0', '180'], cls_batch_num=6, cls_thresh=0.9, enable_mkldnn=False, cpu_threads=10, use_pdserving=False, warmup=False, sr_model_dir=None, sr_image_shape='3, 32, 128', sr_batch_num=1, draw_img_save_dir='./inference_results', save_crop_res=False, crop_res_save_dir='./output', use_mp=False, total_process_num=1, process_id=0, benchmark=False, save_log_path='./log_output/', show_log=True, use_onnx=False, return_word_box=False, output='./output', table_max_len=488, table_algorithm='TableAttn', table_model_dir=None, merge_no_span_structure=True, table_char_dict_path=None, formula_algorithm='LaTeXOCR', formula_model_dir=None, formula_char_dict_path=None, formula_batch_num=1, layout_model_dir=None, layout_dict_path=None, layout_score_threshold=0.5, layout_nms_threshold=0.5, kie_algorithm='LayoutXLM', ser_model_dir=None, re_model_dir=None, use_visual_backbone=True, ser_dict_path='../train_data/XFUND/class_list_xfun.txt', ocr_order_method=None, mode='structure', image_orientation=False, layout=True, table=True, formula=False, ocr=True, recovery=False, recovery_to_markdown=False, use_pdf2docx_api=False, invert=False, binarize=False, alphacolor=(255, 255, 255), lang='en', det=True, rec=True, type='ocr', savefile=False, ocr_version='PP-OCRv4', structure_version='PP-StructureV2')\n"
     ]
    }
   ],
   "source": [
    "# Setup model\n",
    "ocr_model_en = PaddleOCR(lang='en')"
   ]
  },
  {
   "cell_type": "code",
   "execution_count": 25,
   "id": "b2e36ed3-b1be-486a-a66d-a828e6a13e5a",
   "metadata": {},
   "outputs": [],
   "source": [
    "img_path1 = r\"C:\\Users\\Ramcharan\\Downloads\\image_1.jpg\""
   ]
  },
  {
   "cell_type": "code",
   "execution_count": 27,
   "id": "8fa84d4a-32f5-46ea-8d45-987e276b0ad9",
   "metadata": {},
   "outputs": [
    {
     "name": "stdout",
     "output_type": "stream",
     "text": [
      "[2024/12/17 11:34:03] ppocr WARNING: Since the angle classifier is not initialized, it will not be used during the forward process\n",
      "[2024/12/17 11:34:03] ppocr DEBUG: dt_boxes num : 2, elapsed : 0.08370780944824219\n",
      "[2024/12/17 11:34:03] ppocr DEBUG: rec_res num  : 2, elapsed : 0.06402707099914551\n"
     ]
    }
   ],
   "source": [
    "# Run the ocr method on the ocr model\n",
    "result = ocr_model_en.ocr(img_path1)"
   ]
  },
  {
   "cell_type": "code",
   "execution_count": 31,
   "id": "e86768f1-df8b-4e47-a796-d261fcc2cc22",
   "metadata": {},
   "outputs": [
    {
     "data": {
      "text/plain": [
       "[[[[[363.0, 280.0], [656.0, 278.0], [657.0, 309.0], [363.0, 311.0]],\n",
       "   ('YEVARUNUVVU', 0.9850254058837891)],\n",
       "  [[[338.0, 322.0], [660.0, 322.0], [660.0, 346.0], [338.0, 346.0]],\n",
       "   ('TLA UNNAVAYENTI', 0.9056050777435303)]]]"
      ]
     },
     "execution_count": 31,
     "metadata": {},
     "output_type": "execute_result"
    }
   ],
   "source": [
    "result"
   ]
  },
  {
   "cell_type": "code",
   "execution_count": 33,
   "id": "6ec1409f-ba00-4e18-a25c-34bbdb16b715",
   "metadata": {},
   "outputs": [
    {
     "name": "stdout",
     "output_type": "stream",
     "text": [
      "YEVARUNUVVU\n",
      "TLA UNNAVAYENTI\n"
     ]
    }
   ],
   "source": [
    "i=0\n",
    "for i in range(len(result[0])):\n",
    "    text = result[0][i][1][0]\n",
    "    print(text)"
   ]
  },
  {
   "cell_type": "code",
   "execution_count": 13,
   "id": "0a17932f-c1f1-4d5f-9c77-2e6744ac5c8c",
   "metadata": {},
   "outputs": [
    {
     "data": {
      "text/plain": [
       "2"
      ]
     },
     "execution_count": 13,
     "metadata": {},
     "output_type": "execute_result"
    }
   ],
   "source": [
    "len(result[0])"
   ]
  },
  {
   "cell_type": "code",
   "execution_count": null,
   "id": "c4815e7f-3dce-4db7-8133-197c0b45aa01",
   "metadata": {},
   "outputs": [],
   "source": []
  }
 ],
 "metadata": {
  "kernelspec": {
   "display_name": "Python 3 (ipykernel)",
   "language": "python",
   "name": "python3"
  },
  "language_info": {
   "codemirror_mode": {
    "name": "ipython",
    "version": 3
   },
   "file_extension": ".py",
   "mimetype": "text/x-python",
   "name": "python",
   "nbconvert_exporter": "python",
   "pygments_lexer": "ipython3",
   "version": "3.12.7"
  }
 },
 "nbformat": 4,
 "nbformat_minor": 5
}

{
 "cells": [
  {
   "cell_type": "code",
   "execution_count": 1,
   "id": "1b320c1d-0709-4898-ad94-ca95baf73f53",
   "metadata": {},
   "outputs": [
    {
     "name": "stdout",
     "output_type": "stream",
     "text": [
      "Moved 1000 files to C:\\Users\\RamCharan\\Downloads\\New folder\\folder_1\n",
      "Moved 1000 files to C:\\Users\\RamCharan\\Downloads\\New folder\\folder_2\n",
      "Moved 1000 files to C:\\Users\\RamCharan\\Downloads\\New folder\\folder_3\n",
      "Moved 1000 files to C:\\Users\\RamCharan\\Downloads\\New folder\\folder_4\n",
      "Moved 1000 files to C:\\Users\\RamCharan\\Downloads\\New folder\\folder_5\n",
      "Moved 1000 files to C:\\Users\\RamCharan\\Downloads\\New folder\\folder_6\n",
      "Moved 1000 files to C:\\Users\\RamCharan\\Downloads\\New folder\\folder_7\n",
      "Moved 1000 files to C:\\Users\\RamCharan\\Downloads\\New folder\\folder_8\n",
      "Moved 1000 files to C:\\Users\\RamCharan\\Downloads\\New folder\\folder_9\n",
      "Moved 1000 files to C:\\Users\\RamCharan\\Downloads\\New folder\\folder_10\n",
      "Moved 1000 files to C:\\Users\\RamCharan\\Downloads\\New folder\\folder_11\n",
      "Moved 1000 files to C:\\Users\\RamCharan\\Downloads\\New folder\\folder_12\n",
      "Moved 1000 files to C:\\Users\\RamCharan\\Downloads\\New folder\\folder_13\n",
      "Moved 1000 files to C:\\Users\\RamCharan\\Downloads\\New folder\\folder_14\n",
      "Moved 1000 files to C:\\Users\\RamCharan\\Downloads\\New folder\\folder_15\n",
      "Moved 1000 files to C:\\Users\\RamCharan\\Downloads\\New folder\\folder_16\n",
      "Moved 1000 files to C:\\Users\\RamCharan\\Downloads\\New folder\\folder_17\n",
      "Moved 1000 files to C:\\Users\\RamCharan\\Downloads\\New folder\\folder_18\n",
      "Moved 1000 files to C:\\Users\\RamCharan\\Downloads\\New folder\\folder_19\n",
      "Moved 1000 files to C:\\Users\\RamCharan\\Downloads\\New folder\\folder_20\n",
      "Moved 1000 files to C:\\Users\\RamCharan\\Downloads\\New folder\\folder_21\n",
      "Moved 1000 files to C:\\Users\\RamCharan\\Downloads\\New folder\\folder_22\n",
      "Moved 1000 files to C:\\Users\\RamCharan\\Downloads\\New folder\\folder_23\n",
      "Moved 1000 files to C:\\Users\\RamCharan\\Downloads\\New folder\\folder_24\n",
      "Moved 1000 files to C:\\Users\\RamCharan\\Downloads\\New folder\\folder_25\n",
      "Moved 1000 files to C:\\Users\\RamCharan\\Downloads\\New folder\\folder_26\n",
      "Moved 1000 files to C:\\Users\\RamCharan\\Downloads\\New folder\\folder_27\n",
      "Moved 1000 files to C:\\Users\\RamCharan\\Downloads\\New folder\\folder_28\n",
      "Moved 445 files to C:\\Users\\RamCharan\\Downloads\\New folder\\folder_29\n",
      "All files have been successfully divided.\n"
     ]
    }
   ],
   "source": [
    "import os\n",
    "import shutil\n",
    "from math import ceil\n",
    "\n",
    "def divide_images_into_folders(source_folder, target_base_folder, images_per_folder=1000):\n",
    "    # Ensure source folder exists\n",
    "    if not os.path.exists(source_folder):\n",
    "        print(f\"Source folder '{source_folder}' does not exist.\")\n",
    "        return\n",
    "    \n",
    "    # Get list of all files in the source folder\n",
    "    all_files = [f for f in os.listdir(source_folder) if os.path.isfile(os.path.join(source_folder, f))]\n",
    "    total_files = len(all_files)\n",
    "    \n",
    "    # Calculate the number of subfolders needed\n",
    "    num_folders = ceil(total_files / images_per_folder)\n",
    "    \n",
    "    # Create target base folder if it doesn't exist\n",
    "    os.makedirs(target_base_folder, exist_ok=True)\n",
    "    \n",
    "    for folder_index in range(num_folders):\n",
    "        # Define the name of the subfolder\n",
    "        subfolder_name = os.path.join(target_base_folder, f\"folder_{folder_index+1}\")\n",
    "        os.makedirs(subfolder_name, exist_ok=True)\n",
    "        \n",
    "        # Get the range of files for this folder\n",
    "        start_index = folder_index * images_per_folder\n",
    "        end_index = min(start_index + images_per_folder, total_files)\n",
    "        files_to_move = all_files[start_index:end_index]\n",
    "        \n",
    "        # Move the files\n",
    "        for file_name in files_to_move:\n",
    "            src_path = os.path.join(source_folder, file_name)\n",
    "            dest_path = os.path.join(subfolder_name, file_name)\n",
    "            shutil.move(src_path, dest_path)\n",
    "        \n",
    "        print(f\"Moved {len(files_to_move)} files to {subfolder_name}\")\n",
    "    \n",
    "    print(\"All files have been successfully divided.\")\n",
    "\n",
    "# Example usage\n",
    "source_folder = r\"C:\\Users\\RamCharan\\Downloads\\VideoToImage_25f_2\"  # Replace with the path to your folder containing the images\n",
    "target_base_folder = r\"C:\\Users\\RamCharan\\Downloads\\New folder\"  # Replace with the path to where you want subfolders to be created\n",
    "divide_images_into_folders(source_folder, target_base_folder)\n"
   ]
  },
  {
   "cell_type": "code",
   "execution_count": null,
   "id": "b2b702b6-115b-4fa0-b3fc-8af5e348b16a",
   "metadata": {},
   "outputs": [],
   "source": []
  }
 ],
 "metadata": {
  "kernelspec": {
   "display_name": "Python 3 (ipykernel)",
   "language": "python",
   "name": "python3"
  },
  "language_info": {
   "codemirror_mode": {
    "name": "ipython",
    "version": 3
   },
   "file_extension": ".py",
   "mimetype": "text/x-python",
   "name": "python",
   "nbconvert_exporter": "python",
   "pygments_lexer": "ipython3",
   "version": "3.12.7"
  }
 },
 "nbformat": 4,
 "nbformat_minor": 5
}
